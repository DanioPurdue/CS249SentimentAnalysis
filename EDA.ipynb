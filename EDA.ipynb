{
 "cells": [
  {
   "cell_type": "code",
   "execution_count": 1,
   "metadata": {},
   "outputs": [
    {
     "name": "stderr",
     "output_type": "stream",
     "text": [
      "/home/ubuntu/anaconda3/lib/python3.7/site-packages/smart_open/ssh.py:34: UserWarning: paramiko missing, opening SSH/SCP/SFTP paths will be disabled.  `pip install paramiko` to suppress\n",
      "  warnings.warn('paramiko missing, opening SSH/SCP/SFTP paths will be disabled.  `pip install paramiko` to suppress')\n",
      "[nltk_data] Downloading package stopwords to /home/ubuntu/nltk_data...\n",
      "[nltk_data]   Package stopwords is already up-to-date!\n"
     ]
    }
   ],
   "source": [
    "import json\n",
    "import re\n",
    "import numpy as np\n",
    "import pandas as pd\n",
    "from pprint import pprint\n",
    "from nltk.corpus import stopwords\n",
    "\n",
    "# Gensim\n",
    "import gensim\n",
    "import gensim.corpora as corpora\n",
    "from gensim.utils import simple_preprocess\n",
    "from gensim.models import CoherenceModel\n",
    "\n",
    "# spacy for lemmatization\n",
    "import spacy\n",
    "\n",
    "# Removing Stopwords\n",
    "import nltk\n",
    "nltk.download('stopwords')\n",
    "from nltk.corpus import stopwords\n",
    "\n",
    "#Visualization\n",
    "# Plotting tools\n",
    "import pyLDAvis\n",
    "import pyLDAvis.gensim  # don't skip this\n",
    "import matplotlib.pyplot as plt\n",
    "%matplotlib inline\n"
   ]
  },
  {
   "cell_type": "markdown",
   "metadata": {},
   "source": [
    "## Read json files and convert it to csv file"
   ]
  },
  {
   "cell_type": "code",
   "execution_count": 4,
   "metadata": {},
   "outputs": [],
   "source": [
    "csv_file = open('review_extracted.csv', 'w')\n",
    "csv_file.write('review_id,user_id,business_id,stars,text,date\\n')\n",
    "with open('yelp_dataset/review.json', 'r') as review_json:\n",
    "    line = review_json.readline()\n",
    "    while line:\n",
    "        json_object = json.loads(line)\n",
    "        one_entry = str()\n",
    "        one_entry = json_object['review_id'] + \",\" +\\\n",
    "                    json_object['user_id'] + \",\" +\\\n",
    "                    json_object['business_id'] + \",\" +\\\n",
    "                    str(json_object['stars']) + \",\" +\\\n",
    "                    '\\\"'+ json_object['text'].replace(\"\\\"\", \" \") + '\\\"' +\",\" +\\\n",
    "                    json_object['date'] + \"\\n\"\n",
    "        csv_file.write(one_entry)\n",
    "#         print(\"review_id: \", json_object[\"review_id\"], \" user_id: \", json_object[\"user_id\"], \" business_id: \", json_object[\"business_id\"], \" stars: \", json_object[\"stars\"], \" date: \", json_object[\"date\"]);\n",
    "        line = review_json.readline()\n",
    "csv_file.close()"
   ]
  },
  {
   "cell_type": "code",
   "execution_count": 2,
   "metadata": {},
   "outputs": [
    {
     "data": {
      "text/html": [
       "<div>\n",
       "<style scoped>\n",
       "    .dataframe tbody tr th:only-of-type {\n",
       "        vertical-align: middle;\n",
       "    }\n",
       "\n",
       "    .dataframe tbody tr th {\n",
       "        vertical-align: top;\n",
       "    }\n",
       "\n",
       "    .dataframe thead th {\n",
       "        text-align: right;\n",
       "    }\n",
       "</style>\n",
       "<table border=\"1\" class=\"dataframe\">\n",
       "  <thead>\n",
       "    <tr style=\"text-align: right;\">\n",
       "      <th></th>\n",
       "      <th>review_id</th>\n",
       "      <th>user_id</th>\n",
       "      <th>business_id</th>\n",
       "      <th>stars</th>\n",
       "      <th>text</th>\n",
       "      <th>date</th>\n",
       "    </tr>\n",
       "  </thead>\n",
       "  <tbody>\n",
       "    <tr>\n",
       "      <th>0</th>\n",
       "      <td>Q1sbwvVQXV2734tPgoKj4Q</td>\n",
       "      <td>hG7b0MtEbXx5QzbzE6C_VA</td>\n",
       "      <td>ujmEBvifdJM6h6RLv4wQIg</td>\n",
       "      <td>1.0</td>\n",
       "      <td>Total bill for this horrible service? Over $8G...</td>\n",
       "      <td>2013-05-07 04:34:36</td>\n",
       "    </tr>\n",
       "    <tr>\n",
       "      <th>1</th>\n",
       "      <td>GJXCdrto3ASJOqKeVWPi6Q</td>\n",
       "      <td>yXQM5uF2jS6es16SJzNHfg</td>\n",
       "      <td>NZnhc2sEQy3RmzKTZnqtwQ</td>\n",
       "      <td>5.0</td>\n",
       "      <td>I *adore* Travis at the Hard Rock's new Kelly ...</td>\n",
       "      <td>2017-01-14 21:30:33</td>\n",
       "    </tr>\n",
       "    <tr>\n",
       "      <th>2</th>\n",
       "      <td>2TzJjDVDEuAW6MR5Vuc1ug</td>\n",
       "      <td>n6-Gk65cPZL6Uz8qRm3NYw</td>\n",
       "      <td>WTqjgwHlXbSFevF32_DJVw</td>\n",
       "      <td>5.0</td>\n",
       "      <td>I have to say that this office really has it t...</td>\n",
       "      <td>2016-11-09 20:09:03</td>\n",
       "    </tr>\n",
       "    <tr>\n",
       "      <th>3</th>\n",
       "      <td>yi0R0Ugj_xUx_Nek0-_Qig</td>\n",
       "      <td>dacAIZ6fTM6mqwW5uxkskg</td>\n",
       "      <td>ikCg8xy5JIg_NGPx-MSIDA</td>\n",
       "      <td>5.0</td>\n",
       "      <td>Went in for a lunch. Steak sandwich was delici...</td>\n",
       "      <td>2018-01-09 20:56:38</td>\n",
       "    </tr>\n",
       "    <tr>\n",
       "      <th>4</th>\n",
       "      <td>11a8sVPMUFtaC7_ABRkmtw</td>\n",
       "      <td>ssoyf2_x0EQMed6fgHeMyQ</td>\n",
       "      <td>b1b1eb3uo-w561D0ZfCEiQ</td>\n",
       "      <td>1.0</td>\n",
       "      <td>Today was my second out of three sessions I ha...</td>\n",
       "      <td>2018-01-30 23:07:38</td>\n",
       "    </tr>\n",
       "  </tbody>\n",
       "</table>\n",
       "</div>"
      ],
      "text/plain": [
       "                review_id                 user_id             business_id  \\\n",
       "0  Q1sbwvVQXV2734tPgoKj4Q  hG7b0MtEbXx5QzbzE6C_VA  ujmEBvifdJM6h6RLv4wQIg   \n",
       "1  GJXCdrto3ASJOqKeVWPi6Q  yXQM5uF2jS6es16SJzNHfg  NZnhc2sEQy3RmzKTZnqtwQ   \n",
       "2  2TzJjDVDEuAW6MR5Vuc1ug  n6-Gk65cPZL6Uz8qRm3NYw  WTqjgwHlXbSFevF32_DJVw   \n",
       "3  yi0R0Ugj_xUx_Nek0-_Qig  dacAIZ6fTM6mqwW5uxkskg  ikCg8xy5JIg_NGPx-MSIDA   \n",
       "4  11a8sVPMUFtaC7_ABRkmtw  ssoyf2_x0EQMed6fgHeMyQ  b1b1eb3uo-w561D0ZfCEiQ   \n",
       "\n",
       "   stars                                               text  \\\n",
       "0    1.0  Total bill for this horrible service? Over $8G...   \n",
       "1    5.0  I *adore* Travis at the Hard Rock's new Kelly ...   \n",
       "2    5.0  I have to say that this office really has it t...   \n",
       "3    5.0  Went in for a lunch. Steak sandwich was delici...   \n",
       "4    1.0  Today was my second out of three sessions I ha...   \n",
       "\n",
       "                  date  \n",
       "0  2013-05-07 04:34:36  \n",
       "1  2017-01-14 21:30:33  \n",
       "2  2016-11-09 20:09:03  \n",
       "3  2018-01-09 20:56:38  \n",
       "4  2018-01-30 23:07:38  "
      ]
     },
     "execution_count": 2,
     "metadata": {},
     "output_type": "execute_result"
    }
   ],
   "source": [
    "df = pd.read_csv('review_extracted.csv')\n",
    "df.head()"
   ]
  },
  {
   "cell_type": "markdown",
   "metadata": {},
   "source": [
    "## Dataset Sampling"
   ]
  },
  {
   "cell_type": "code",
   "execution_count": 3,
   "metadata": {},
   "outputs": [
    {
     "name": "stdout",
     "output_type": "stream",
     "text": [
      "6685900\n",
      "66859\n"
     ]
    }
   ],
   "source": [
    "print(len(df))\n",
    "df_sampled = df.sample(frac=0.01,random_state=1)\n",
    "print(len(df_sampled))"
   ]
  },
  {
   "cell_type": "markdown",
   "metadata": {
    "collapsed": true
   },
   "source": [
    "# Remove Stopwords"
   ]
  },
  {
   "cell_type": "code",
   "execution_count": 4,
   "metadata": {},
   "outputs": [
    {
     "name": "stdout",
     "output_type": "stream",
     "text": [
      "66859\n"
     ]
    }
   ],
   "source": [
    "stop_words = stopwords.words('english')\n",
    "stop_words.extend(['from', 'subject', 'use']) # you can add more words into it to filter out other words\n",
    "df_text_list = df_sampled['text'].tolist()\n",
    "print(len(df_text_list))"
   ]
  },
  {
   "cell_type": "markdown",
   "metadata": {},
   "source": [
    "## Remove keywords from the list"
   ]
  },
  {
   "cell_type": "code",
   "execution_count": 5,
   "metadata": {},
   "outputs": [
    {
     "name": "stderr",
     "output_type": "stream",
     "text": [
      "<>:2: DeprecationWarning: invalid escape sequence \\s\n",
      "<>:2: DeprecationWarning: invalid escape sequence \\s\n",
      "<>:2: DeprecationWarning: invalid escape sequence \\s\n",
      "<ipython-input-5-85a3d6b662ad>:2: DeprecationWarning: invalid escape sequence \\s\n",
      "  data = [re.sub('\\s+', ' ', str(sent)) for sent in df_text_list]\n"
     ]
    }
   ],
   "source": [
    "# Remove new line characters\n",
    "data = [re.sub('\\s+', ' ', str(sent)) for sent in df_text_list]\n",
    "data = [re.sub(\"\\'\", \"\", sent) for sent in data]"
   ]
  },
  {
   "cell_type": "code",
   "execution_count": 6,
   "metadata": {},
   "outputs": [],
   "source": [
    "def sent_to_words(sentences):\n",
    "    for sentence in sentences:\n",
    "        yield(gensim.utils.simple_preprocess(str(sentence), deacc=True))  # deacc"
   ]
  },
  {
   "cell_type": "code",
   "execution_count": 7,
   "metadata": {},
   "outputs": [],
   "source": [
    "# Tokenize words and clean up text\n",
    "data_words = list(sent_to_words(data))"
   ]
  },
  {
   "cell_type": "code",
   "execution_count": 8,
   "metadata": {},
   "outputs": [
    {
     "name": "stdout",
     "output_type": "stream",
     "text": [
      "['love', 'this', 'location', 'and', 'have', 'been', 'customer', 'for', 'well', 'over', 'year', 'have', 'always', 'had', 'pleasant', 'experience', 'and', 'the', 'staff', 'are', 'always', 'very', 'friendly']\n",
      "I love this location and have been a customer for well over a year!  I have always had a pleasant experience and the staff are always very friendly.\n"
     ]
    }
   ],
   "source": [
    "print (data_words[0])\n",
    "print (df_text_list[0])"
   ]
  },
  {
   "cell_type": "markdown",
   "metadata": {
    "collapsed": true
   },
   "source": [
    "## 9 Creating Bigram and Trigram Models"
   ]
  },
  {
   "cell_type": "code",
   "execution_count": 9,
   "metadata": {},
   "outputs": [
    {
     "name": "stderr",
     "output_type": "stream",
     "text": [
      "/home/ubuntu/anaconda3/lib/python3.7/site-packages/gensim/models/phrases.py:494: UserWarning: For a faster implementation, use the gensim.models.phrases.Phraser class\n",
      "  warnings.warn(\"For a faster implementation, use the gensim.models.phrases.Phraser class\")\n"
     ]
    },
    {
     "name": "stdout",
     "output_type": "stream",
     "text": [
      "['love', 'this', 'location', 'and', 'have', 'been', 'customer', 'for', 'well', 'over', 'year', 'have', 'always', 'had', 'pleasant', 'experience', 'and', 'the', 'staff', 'are', 'always', 'very', 'friendly']\n"
     ]
    }
   ],
   "source": [
    "# Build the bigram and trigram models\n",
    "bigram = gensim.models.Phrases(data_words, min_count=5, threshold=100) # higher threshold fewer phrases.\n",
    "trigram = gensim.models.Phrases(bigram[data_words], threshold=100)  \n",
    "\n",
    "# Faster way to get a sentence clubbed as a trigram/bigram\n",
    "bigram_mod = gensim.models.phrases.Phraser(bigram)\n",
    "trigram_mod = gensim.models.phrases.Phraser(trigram)\n",
    "\n",
    "# See trigram example\n",
    "print(trigram_mod[bigram_mod[data_words[0]]])"
   ]
  },
  {
   "cell_type": "code",
   "execution_count": 10,
   "metadata": {},
   "outputs": [
    {
     "data": {
      "text/plain": [
       "['love',\n",
       " 'this',\n",
       " 'location',\n",
       " 'and',\n",
       " 'have',\n",
       " 'been',\n",
       " 'customer',\n",
       " 'for',\n",
       " 'well',\n",
       " 'over',\n",
       " 'year',\n",
       " 'have',\n",
       " 'always',\n",
       " 'had',\n",
       " 'pleasant',\n",
       " 'experience',\n",
       " 'and',\n",
       " 'the',\n",
       " 'staff',\n",
       " 'are',\n",
       " 'always',\n",
       " 'very',\n",
       " 'friendly']"
      ]
     },
     "execution_count": 10,
     "metadata": {},
     "output_type": "execute_result"
    }
   ],
   "source": [
    "bigram_mod[data_words[0]]\n",
    "data_words[0]"
   ]
  },
  {
   "cell_type": "markdown",
   "metadata": {},
   "source": [
    "## 10 Remove Stopwords, Make Bigrams and Lemmatize"
   ]
  },
  {
   "cell_type": "code",
   "execution_count": 11,
   "metadata": {},
   "outputs": [],
   "source": [
    "# Define functions for stopwords, bigrams, trigrams and lemmatization\n",
    "def remove_stopwords(texts):\n",
    "    return [[word for word in simple_preprocess(str(doc)) if word not in stop_words] for doc in texts]\n",
    "\n",
    "def make_bigrams(texts):\n",
    "    return [bigram_mod[doc] for doc in texts]\n",
    "\n",
    "def make_trigrams(texts):\n",
    "    return [trigram_mod[bigram_mod[doc]] for doc in texts]\n",
    "\n",
    "def lemmatization(texts, allowed_postags=['NOUN', 'ADJ', 'VERB', 'ADV']):\n",
    "    \"\"\"https://spacy.io/api/annotation\"\"\"\n",
    "    texts_out = []\n",
    "    for sent in texts:\n",
    "        doc = nlp(\" \".join(sent)) \n",
    "        texts_out.append([token.lemma_ for token in doc if token.pos_ in allowed_postags])\n",
    "    return texts_out"
   ]
  },
  {
   "cell_type": "code",
   "execution_count": 12,
   "metadata": {},
   "outputs": [
    {
     "name": "stderr",
     "output_type": "stream",
     "text": [
      "/home/ubuntu/anaconda3/lib/python3.7/site-packages/msgpack_numpy.py:184: DeprecationWarning: encoding is deprecated, Use raw=False instead.\n",
      "  return _unpackb(packed, **kwargs)\n",
      "/home/ubuntu/anaconda3/lib/python3.7/site-packages/msgpack_numpy.py:184: DeprecationWarning: encoding is deprecated, Use raw=False instead.\n",
      "  return _unpackb(packed, **kwargs)\n"
     ]
    }
   ],
   "source": [
    "# Remove Stop Words\n",
    "data_words_nostops = remove_stopwords(data_words)\n",
    "\n",
    "# Form Bigrams\n",
    "data_words_bigrams = make_bigrams(data_words_nostops)\n",
    "\n",
    "# Initialize spacy 'en' model, keeping only tagger component (for efficiency)\n",
    "# python3 -m spacy download en\n",
    "nlp = spacy.load('en', disable=['parser', 'ner'])\n",
    "\n",
    "# Do lemmatization keeping only noun, adj, vb, adv\n",
    "data_lemmatized = lemmatization(data_words_bigrams, allowed_postags=['NOUN', 'ADJ', 'VERB', 'ADV'])"
   ]
  },
  {
   "cell_type": "markdown",
   "metadata": {},
   "source": [
    "## 11 Create the Dictionary and Corpus needed Topic Modeling"
   ]
  },
  {
   "cell_type": "code",
   "execution_count": 14,
   "metadata": {},
   "outputs": [],
   "source": [
    "# Create Dictionary\n",
    "id2word = corpora.Dictionary(data_lemmatized)\n",
    "\n",
    "# Create Corpus\n",
    "texts = data_lemmatized\n",
    "\n",
    "# Term Document Frequency\n",
    "corpus = [id2word.doc2bow(text) for text in texts]"
   ]
  },
  {
   "cell_type": "code",
   "execution_count": 29,
   "metadata": {},
   "outputs": [
    {
     "data": {
      "text/plain": [
       "gensim.corpora.dictionary.Dictionary"
      ]
     },
     "execution_count": 29,
     "metadata": {},
     "output_type": "execute_result"
    }
   ],
   "source": [
    "type(id2word)"
   ]
  },
  {
   "cell_type": "code",
   "execution_count": 16,
   "metadata": {},
   "outputs": [
    {
     "name": "stdout",
     "output_type": "stream",
     "text": [
      "[(20, 3)]\n",
      "['think', 'food', 'authentic', 'korean', 'food', 'everything', 'taste', 'fast', 'food', 'version', 'korean', 'food', 'food', 'complain', 'service', 'horrible', 'staff', 'member', 'seem', 'obedient', 'first', 'order', 'food', 'come', 'super', 'slowly', 'staff', 'member', 'seem', 'forget', 'ask', 'think', 'bad', 'korean_bbq', 'restaurant', 'ever', 'because', 'service', 'horrid', 'quality', 'food']\n"
     ]
    }
   ],
   "source": [
    "print(id2word.doc2bow([\"food\", \"food\", \"food\"]))\n",
    "print(texts[1])"
   ]
  },
  {
   "cell_type": "markdown",
   "metadata": {},
   "source": [
    "### save id2_word and data_lemmatized"
   ]
  },
  {
   "cell_type": "code",
   "execution_count": 35,
   "metadata": {},
   "outputs": [],
   "source": [
    "# Save id2word\n",
    "from gensim.test.utils import datapath\n",
    "temp_file = datapath(\"id2words\")\n",
    "id2word.save(temp_file)\n",
    "\n",
    "# Save texts\n",
    "import pickle\n",
    "pickle_out = open(\"parsed_texts.pickle\",\"wb\")\n",
    "pickle.dump(texts, pickle_out)\n",
    "pickle_out.close()\n"
   ]
  },
  {
   "cell_type": "markdown",
   "metadata": {},
   "source": [
    "### load the saved data"
   ]
  },
  {
   "cell_type": "code",
   "execution_count": 45,
   "metadata": {},
   "outputs": [
    {
     "name": "stdout",
     "output_type": "stream",
     "text": [
      "['love', 'location', 'customer', 'well', 'year', 'always', 'pleasant', 'experience', 'staff', 'always', 'friendly']\n",
      "['love', 'location', 'customer', 'well', 'year', 'always', 'pleasant', 'experience', 'staff', 'always', 'friendly']\n"
     ]
    }
   ],
   "source": [
    "id2word_loaded = gensim.corpora.dictionary.Dictionary.load(temp_file)\n",
    "\n",
    "pickle_in = open(\"parsed_texts.pickle\",\"rb\")\n",
    "texts_loaded = pickle.load(pickle_in)\n",
    "\n",
    "i=0\n",
    "print(texts_loaded[i])\n",
    "print(texts[i])"
   ]
  },
  {
   "cell_type": "markdown",
   "metadata": {},
   "source": [
    "## Load the existing Model"
   ]
  },
  {
   "cell_type": "code",
   "execution_count": 18,
   "metadata": {},
   "outputs": [],
   "source": [
    "temp_file = '/home/ubuntu/anaconda3/lib/python3.7/site-packages/gensim/test/test_data/lda_1_percent'\n",
    "lda_model = gensim.models.ldamodel.LdaModel.load(temp_file)"
   ]
  },
  {
   "cell_type": "markdown",
   "metadata": {},
   "source": [
    "## 12. Building the Topic Model"
   ]
  },
  {
   "cell_type": "code",
   "execution_count": 33,
   "metadata": {},
   "outputs": [],
   "source": [
    "lda_model = gensim.models.ldamodel.LdaModel(corpus=corpus,\n",
    "                                           id2word=id2word,\n",
    "                                           num_topics=20, \n",
    "                                           random_state=100,\n",
    "                                           update_every=1,\n",
    "                                           chunksize=100,\n",
    "                                           passes=10,\n",
    "                                           alpha='auto',\n",
    "                                           per_word_topics=True)"
   ]
  },
  {
   "cell_type": "markdown",
   "metadata": {},
   "source": [
    "## Save the model"
   ]
  },
  {
   "cell_type": "code",
   "execution_count": 87,
   "metadata": {},
   "outputs": [],
   "source": [
    "from gensim.test.utils import datapath\n",
    "temp_file = datapath(\"lda_1_percent\")\n",
    "lda_model.save(temp_file)"
   ]
  },
  {
   "cell_type": "code",
   "execution_count": 88,
   "metadata": {},
   "outputs": [
    {
     "data": {
      "text/plain": [
       "'/home/ubuntu/anaconda3/lib/python3.7/site-packages/gensim/test/test_data/lda_1_percent'"
      ]
     },
     "execution_count": 88,
     "metadata": {},
     "output_type": "execute_result"
    }
   ],
   "source": [
    "temp_file"
   ]
  },
  {
   "cell_type": "markdown",
   "metadata": {},
   "source": [
    "## 13. View the topics in LDA model"
   ]
  },
  {
   "cell_type": "code",
   "execution_count": 19,
   "metadata": {},
   "outputs": [
    {
     "name": "stdout",
     "output_type": "stream",
     "text": [
      "[(0,\n",
      "  '0.119*\"clean\" + 0.022*\"continue\" + 0.022*\"class\" + 0.016*\"incredibly\" + '\n",
      "  '0.014*\"hop\" + 0.014*\"boba\" + 0.013*\"pour\" + 0.012*\"credit\" + 0.012*\"spa\" + '\n",
      "  '0.012*\"tax\"'),\n",
      " (1,\n",
      "  '0.075*\"room\" + 0.035*\"hotel\" + 0.029*\"kid\" + 0.026*\"parking\" + 0.020*\"area\" '\n",
      "  '+ 0.016*\"pool\" + 0.014*\"plan\" + 0.014*\"brunch\" + 0.013*\"park\" + '\n",
      "  '0.013*\"bathroom\"'),\n",
      " (2,\n",
      "  '0.174*\"good\" + 0.126*\"food\" + 0.043*\"restaurant\" + 0.043*\"eat\" + '\n",
      "  '0.040*\"price\" + 0.030*\"pretty\" + 0.022*\"burger\" + 0.022*\"fresh\" + '\n",
      "  '0.020*\"everything\" + 0.018*\"menu\"'),\n",
      " (3,\n",
      "  '0.093*\"tell\" + 0.082*\"call\" + 0.036*\"pay\" + 0.030*\"charge\" + 0.030*\"money\" '\n",
      "  '+ 0.025*\"later\" + 0.023*\"receive\" + 0.021*\"issue\" + 0.019*\"rude\" + '\n",
      "  '0.018*\"fix\"'),\n",
      " (4,\n",
      "  '0.088*\"car\" + 0.072*\"favorite\" + 0.047*\"taco\" + 0.031*\"pork\" + '\n",
      "  '0.025*\"mexican\" + 0.021*\"burrito\" + 0.019*\"authentic\" + 0.018*\"unique\" + '\n",
      "  '0.018*\"salsa\" + 0.018*\"bean\"'),\n",
      " (5,\n",
      "  '0.100*\"s\" + 0.052*\"beer\" + 0.043*\"selection\" + 0.032*\"cool\" + 0.031*\"that\" '\n",
      "  '+ 0.030*\"there\" + 0.025*\"local\" + 0.021*\"wing\" + 0.020*\"game\" + '\n",
      "  '0.019*\"wall\"'),\n",
      " (6,\n",
      "  '0.052*\"flavor\" + 0.034*\"dessert\" + 0.034*\"steak\" + 0.027*\"extremely\" + '\n",
      "  '0.024*\"shrimp\" + 0.024*\"include\" + 0.023*\"tea\" + 0.020*\"ice_cream\" + '\n",
      "  '0.020*\"dry\" + 0.017*\"white\"'),\n",
      " (7,\n",
      "  '0.056*\"not\" + 0.043*\"get\" + 0.041*\"go\" + 0.033*\"do\" + 0.029*\"time\" + '\n",
      "  '0.029*\"would\" + 0.029*\"be\" + 0.027*\"come\" + 0.020*\"back\" + 0.018*\"say\"'),\n",
      " (8,\n",
      "  '0.044*\"hair\" + 0.037*\"dog\" + 0.032*\"cut\" + 0.028*\"purchase\" + '\n",
      "  '0.021*\"product\" + 0.021*\"color\" + 0.021*\"salon\" + 0.018*\"casino\" + '\n",
      "  '0.017*\"doctor\" + 0.016*\"sale\"'),\n",
      " (9,\n",
      "  '0.070*\"store\" + 0.046*\"buy\" + 0.021*\"send\" + 0.021*\"sell\" + 0.018*\"book\" + '\n",
      "  '0.013*\"repair\" + 0.013*\"tire\" + 0.012*\"airport\" + 0.012*\"vehicle\" + '\n",
      "  '0.011*\"online\"'),\n",
      " (10,\n",
      "  '0.113*\"feel\" + 0.033*\"party\" + 0.029*\"several\" + 0.025*\"regular\" + '\n",
      "  '0.024*\"reservation\" + 0.024*\"comfortable\" + 0.023*\"play\" + 0.022*\"waiter\" + '\n",
      "  '0.020*\"often\" + 0.020*\"rush\"'),\n",
      " (11,\n",
      "  '0.041*\"big\" + 0.035*\"end\" + 0.035*\"quality\" + 0.033*\"worth\" + 0.031*\"item\" '\n",
      "  '+ 0.025*\"high\" + 0.023*\"beef\" + 0.022*\"huge\" + 0.020*\"size\" + 0.018*\"fan\"'),\n",
      " (12,\n",
      "  '0.028*\"day\" + 0.027*\"experience\" + 0.026*\"find\" + 0.026*\"work\" + '\n",
      "  '0.024*\"need\" + 0.021*\"new\" + 0.020*\"customer\" + 0.018*\"year\" + '\n",
      "  '0.016*\"review\" + 0.015*\"home\"'),\n",
      " (13,\n",
      "  '0.080*\"order\" + 0.034*\"little\" + 0.021*\"pizza\" + 0.021*\"small\" + '\n",
      "  '0.020*\"bit\" + 0.017*\"lunch\" + 0.016*\"hot\" + 0.016*\"seat\" + 0.015*\"serve\" + '\n",
      "  '0.015*\"option\"'),\n",
      " (14,\n",
      "  '0.113*\"place\" + 0.084*\"great\" + 0.079*\"service\" + 0.045*\"love\" + '\n",
      "  '0.042*\"try\" + 0.041*\"really\" + 0.040*\"also\" + 0.036*\"nice\" + '\n",
      "  '0.032*\"friendly\" + 0.032*\"staff\"'),\n",
      " (15,\n",
      "  '0.049*\"move\" + 0.032*\"life\" + 0.026*\"office\" + 0.021*\"due\" + 0.019*\"team\" + '\n",
      "  '0.019*\"drop\" + 0.018*\"level\" + 0.017*\"dollar\" + 0.017*\"complain\" + '\n",
      "  '0.017*\"massage\"'),\n",
      " (16,\n",
      "  '0.048*\"chicken\" + 0.037*\"sauce\" + 0.037*\"fry\" + 0.030*\"cheese\" + '\n",
      "  '0.030*\"dish\" + 0.028*\"salad\" + 0.027*\"sandwich\" + 0.023*\"meat\" + '\n",
      "  '0.019*\"cook\" + 0.019*\"taste\"'),\n",
      " (17,\n",
      "  '0.063*\"drink\" + 0.052*\"bar\" + 0.050*\"table\" + 0.048*\"night\" + '\n",
      "  '0.046*\"friend\" + 0.036*\"server\" + 0.033*\"dinner\" + 0.031*\"enjoy\" + '\n",
      "  '0.027*\"sit\" + 0.023*\"atmosphere\"'),\n",
      " (18,\n",
      "  '0.052*\"owner\" + 0.048*\"house\" + 0.046*\"shop\" + 0.040*\"run\" + 0.031*\"treat\" '\n",
      "  '+ 0.024*\"bill\" + 0.021*\"outside\" + 0.019*\"city\" + 0.016*\"kitchen\" + '\n",
      "  '0.016*\"window\"'),\n",
      " (19,\n",
      "  '0.061*\"location\" + 0.036*\"vegas\" + 0.025*\"sushi\" + 0.017*\"buffet\" + '\n",
      "  '0.017*\"trip\" + 0.015*\"strip\" + 0.013*\"club\" + 0.012*\"simply\" + '\n",
      "  '0.011*\"knowledgeable\" + 0.008*\"dirty\"')]\n"
     ]
    }
   ],
   "source": [
    "pprint(lda_model.print_topics())\n",
    "doc_lda = lda_model[corpus]"
   ]
  },
  {
   "cell_type": "code",
   "execution_count": 20,
   "metadata": {},
   "outputs": [
    {
     "data": {
      "text/plain": [
       "[(7, [(14, 2.0)]),\n",
       " (10, [(7, 1.0)]),\n",
       " (11, [(4, 0.99999994)]),\n",
       " (12, [(7, 1.0)]),\n",
       " (13, [(15, 1.0)]),\n",
       " (14, [(7, 0.9851072)]),\n",
       " (15, [(15, 1.0)]),\n",
       " (16, [(2, 0.34551647), (7, 0.6544835)]),\n",
       " (17, [(2, 0.95163476), (12, 0.048365228)]),\n",
       " (18, [(2, 0.86983544), (14, 0.13016452)]),\n",
       " (19, [(7, 1.0)]),\n",
       " (20, [(2, 7.0)]),\n",
       " (21, [(11, 1.0)]),\n",
       " (22, [(3, 0.99999994)]),\n",
       " (23, [(15, 1.0)]),\n",
       " (24, [(15, 2.0)]),\n",
       " (25, [(15, 0.99999994)]),\n",
       " (26, [(15, 2.0)]),\n",
       " (27, [(15, 0.9755508)]),\n",
       " (28, [(13, 0.9999999)]),\n",
       " (29, [(11, 1.0)]),\n",
       " (30, [(2, 1.0)]),\n",
       " (31, [(7, 2.0000002)]),\n",
       " (32, [(14, 1.99427)]),\n",
       " (33, [(15, 1.0)]),\n",
       " (34, [(2, 1.0)]),\n",
       " (35, [(2, 0.87831205), (6, 0.031960305), (16, 0.08972765)]),\n",
       " (36, [(7, 2.0)]),\n",
       " (37, [(15, 1.0)])]"
      ]
     },
     "execution_count": 20,
     "metadata": {},
     "output_type": "execute_result"
    }
   ],
   "source": [
    "doc_lda[1][2]"
   ]
  },
  {
   "cell_type": "code",
   "execution_count": 21,
   "metadata": {},
   "outputs": [
    {
     "data": {
      "text/plain": [
       "<gensim.models.ldamodel.LdaModel at 0x7f662ca64470>"
      ]
     },
     "execution_count": 21,
     "metadata": {},
     "output_type": "execute_result"
    }
   ],
   "source": [
    "lda_model"
   ]
  },
  {
   "cell_type": "markdown",
   "metadata": {},
   "source": [
    "## Testing on the unseen data"
   ]
  },
  {
   "cell_type": "code",
   "execution_count": 99,
   "metadata": {},
   "outputs": [
    {
     "data": {
      "text/html": [
       "<div>\n",
       "<style scoped>\n",
       "    .dataframe tbody tr th:only-of-type {\n",
       "        vertical-align: middle;\n",
       "    }\n",
       "\n",
       "    .dataframe tbody tr th {\n",
       "        vertical-align: top;\n",
       "    }\n",
       "\n",
       "    .dataframe thead th {\n",
       "        text-align: right;\n",
       "    }\n",
       "</style>\n",
       "<table border=\"1\" class=\"dataframe\">\n",
       "  <thead>\n",
       "    <tr style=\"text-align: right;\">\n",
       "      <th></th>\n",
       "      <th>review_id</th>\n",
       "      <th>user_id</th>\n",
       "      <th>business_id</th>\n",
       "      <th>stars</th>\n",
       "      <th>text</th>\n",
       "      <th>date</th>\n",
       "    </tr>\n",
       "  </thead>\n",
       "  <tbody>\n",
       "    <tr>\n",
       "      <th>3857412</th>\n",
       "      <td>7oeO1IBLpqxmd9aNcBNMTA</td>\n",
       "      <td>m-LlVyTuMIWmUUIQxHItfg</td>\n",
       "      <td>4EaqFG4v0A8nPEkbQwi6Dw</td>\n",
       "      <td>2.0</td>\n",
       "      <td>This is the 2nd time I have gone to Meineke fo...</td>\n",
       "      <td>2016-04-07 01:18:20</td>\n",
       "    </tr>\n",
       "    <tr>\n",
       "      <th>6442705</th>\n",
       "      <td>3ECqq0ZjU37K5zq75e78kg</td>\n",
       "      <td>3L5VEHgrphZkz1APeVdVDg</td>\n",
       "      <td>fL-b760btOaGa85OJ9ut3w</td>\n",
       "      <td>5.0</td>\n",
       "      <td>I haven't had BBQ this good in years.  We did ...</td>\n",
       "      <td>2015-03-29 16:46:29</td>\n",
       "    </tr>\n",
       "    <tr>\n",
       "      <th>962501</th>\n",
       "      <td>dAC0P9RZkdD6EcoiCT2GmQ</td>\n",
       "      <td>l-B4axUNxQ9FVVxeQm8t2A</td>\n",
       "      <td>RZWx7pIsINH6nVqW7ys9cg</td>\n",
       "      <td>4.0</td>\n",
       "      <td>Very good down-home cooking. I had the fried t...</td>\n",
       "      <td>2014-06-03 22:32:46</td>\n",
       "    </tr>\n",
       "  </tbody>\n",
       "</table>\n",
       "</div>"
      ],
      "text/plain": [
       "                      review_id                 user_id  \\\n",
       "3857412  7oeO1IBLpqxmd9aNcBNMTA  m-LlVyTuMIWmUUIQxHItfg   \n",
       "6442705  3ECqq0ZjU37K5zq75e78kg  3L5VEHgrphZkz1APeVdVDg   \n",
       "962501   dAC0P9RZkdD6EcoiCT2GmQ  l-B4axUNxQ9FVVxeQm8t2A   \n",
       "\n",
       "                    business_id  stars  \\\n",
       "3857412  4EaqFG4v0A8nPEkbQwi6Dw    2.0   \n",
       "6442705  fL-b760btOaGa85OJ9ut3w    5.0   \n",
       "962501   RZWx7pIsINH6nVqW7ys9cg    4.0   \n",
       "\n",
       "                                                      text  \\\n",
       "3857412  This is the 2nd time I have gone to Meineke fo...   \n",
       "6442705  I haven't had BBQ this good in years.  We did ...   \n",
       "962501   Very good down-home cooking. I had the fried t...   \n",
       "\n",
       "                        date  \n",
       "3857412  2016-04-07 01:18:20  \n",
       "6442705  2015-03-29 16:46:29  \n",
       "962501   2014-06-03 22:32:46  "
      ]
     },
     "execution_count": 99,
     "metadata": {},
     "output_type": "execute_result"
    }
   ],
   "source": [
    "df_sampled2 = df.sample(frac=0.01,random_state=2)\n",
    "df_sampled2.head(3)"
   ]
  },
  {
   "cell_type": "code",
   "execution_count": 98,
   "metadata": {},
   "outputs": [
    {
     "data": {
      "text/html": [
       "<div>\n",
       "<style scoped>\n",
       "    .dataframe tbody tr th:only-of-type {\n",
       "        vertical-align: middle;\n",
       "    }\n",
       "\n",
       "    .dataframe tbody tr th {\n",
       "        vertical-align: top;\n",
       "    }\n",
       "\n",
       "    .dataframe thead th {\n",
       "        text-align: right;\n",
       "    }\n",
       "</style>\n",
       "<table border=\"1\" class=\"dataframe\">\n",
       "  <thead>\n",
       "    <tr style=\"text-align: right;\">\n",
       "      <th></th>\n",
       "      <th>review_id</th>\n",
       "      <th>user_id</th>\n",
       "      <th>business_id</th>\n",
       "      <th>stars</th>\n",
       "      <th>text</th>\n",
       "      <th>date</th>\n",
       "    </tr>\n",
       "  </thead>\n",
       "  <tbody>\n",
       "    <tr>\n",
       "      <th>4634629</th>\n",
       "      <td>xw37uw9b2wFwVRLXSCtgNg</td>\n",
       "      <td>tIau2r-ox1LhC38wXX6oew</td>\n",
       "      <td>IUoj0ORP1VAV9xx4dmHP9g</td>\n",
       "      <td>5.0</td>\n",
       "      <td>I love this location and have been a customer ...</td>\n",
       "      <td>2018-09-07 20:41:56</td>\n",
       "    </tr>\n",
       "    <tr>\n",
       "      <th>4349124</th>\n",
       "      <td>jKxK47dz6D-ZpKqmd-oTeA</td>\n",
       "      <td>q0lV9MoRYDhyoLAQ9X91iA</td>\n",
       "      <td>hihud--QRriCYZw1zZvW4g</td>\n",
       "      <td>1.0</td>\n",
       "      <td>I think that the food is not at all authentic ...</td>\n",
       "      <td>2018-01-03 03:57:16</td>\n",
       "    </tr>\n",
       "    <tr>\n",
       "      <th>6056428</th>\n",
       "      <td>boaG5qtsdwR3KBwQbvnfAg</td>\n",
       "      <td>kUE8PMxx2_HTT32T16Z8Aw</td>\n",
       "      <td>zT3IxSfolhu4qU0tV0pTjg</td>\n",
       "      <td>2.0</td>\n",
       "      <td>If you schedule your appointment late in the a...</td>\n",
       "      <td>2018-06-27 01:40:52</td>\n",
       "    </tr>\n",
       "  </tbody>\n",
       "</table>\n",
       "</div>"
      ],
      "text/plain": [
       "                      review_id                 user_id  \\\n",
       "4634629  xw37uw9b2wFwVRLXSCtgNg  tIau2r-ox1LhC38wXX6oew   \n",
       "4349124  jKxK47dz6D-ZpKqmd-oTeA  q0lV9MoRYDhyoLAQ9X91iA   \n",
       "6056428  boaG5qtsdwR3KBwQbvnfAg  kUE8PMxx2_HTT32T16Z8Aw   \n",
       "\n",
       "                    business_id  stars  \\\n",
       "4634629  IUoj0ORP1VAV9xx4dmHP9g    5.0   \n",
       "4349124  hihud--QRriCYZw1zZvW4g    1.0   \n",
       "6056428  zT3IxSfolhu4qU0tV0pTjg    2.0   \n",
       "\n",
       "                                                      text  \\\n",
       "4634629  I love this location and have been a customer ...   \n",
       "4349124  I think that the food is not at all authentic ...   \n",
       "6056428  If you schedule your appointment late in the a...   \n",
       "\n",
       "                        date  \n",
       "4634629  2018-09-07 20:41:56  \n",
       "4349124  2018-01-03 03:57:16  \n",
       "6056428  2018-06-27 01:40:52  "
      ]
     },
     "execution_count": 98,
     "metadata": {},
     "output_type": "execute_result"
    }
   ],
   "source": [
    "df_sampled.head(3)"
   ]
  },
  {
   "cell_type": "code",
   "execution_count": 103,
   "metadata": {},
   "outputs": [],
   "source": [
    "def getReultsOnUnseenData(unseen_docs, lda_model):\n",
    "    corpus = [id2word.doc2bow(text) for text in texts]\n",
    "    lda_model.update(corpus)\n",
    "    return lda_model[corpus]"
   ]
  },
  {
   "cell_type": "code",
   "execution_count": 101,
   "metadata": {},
   "outputs": [],
   "source": [
    "def textPreprocessing(texts):\n",
    "    data = [re.sub('\\s+', ' ', str(sent)) for sent in texts]\n",
    "    data = [re.sub(\"\\'\", \"\", sent) for sent in data]\n",
    "    data_words = list(sent_to_words(data))\n",
    "    # Build the bigram and trigram models\n",
    "    bigram = gensim.models.Phrases(data_words, min_count=5, threshold=100) # higher threshold fewer phrases.\n",
    "    trigram = gensim.models.Phrases(bigram[data_words], threshold=100)  \n",
    "\n",
    "    # Faster way to get a sentence clubbed as a trigram/bigram\n",
    "    bigram_mod = gensim.models.phrases.Phraser(bigram)\n",
    "    trigram_mod = gensim.models.phrases.Phraser(trigram)\n",
    "    \n",
    "    # Remove Stop Words\n",
    "    data_words_nostops = remove_stopwords(data_words)\n",
    "\n",
    "    # Form Bigrams\n",
    "    data_words_bigrams = make_bigrams(data_words_nostops)\n",
    "\n",
    "    # Initialize spacy 'en' model, keeping only tagger component (for efficiency)\n",
    "    # python3 -m spacy download en\n",
    "    nlp = spacy.load('en', disable=['parser', 'ner'])\n",
    "\n",
    "    # Do lemmatization keeping only noun, adj, vb, adv\n",
    "    data_lemmatized = lemmatization(data_words_bigrams, allowed_postags=['NOUN', 'ADJ', 'VERB', 'ADV'])\n",
    "    \n",
    "    return data_lemmatized"
   ]
  },
  {
   "cell_type": "code",
   "execution_count": 102,
   "metadata": {},
   "outputs": [
    {
     "name": "stderr",
     "output_type": "stream",
     "text": [
      "/home/ubuntu/anaconda3/lib/python3.7/site-packages/gensim/models/phrases.py:494: UserWarning: For a faster implementation, use the gensim.models.phrases.Phraser class\n",
      "  warnings.warn(\"For a faster implementation, use the gensim.models.phrases.Phraser class\")\n"
     ]
    }
   ],
   "source": [
    "unseen_docs = textPreprocessing(df_sampled2['text'].tolist())"
   ]
  },
  {
   "cell_type": "code",
   "execution_count": 106,
   "metadata": {},
   "outputs": [],
   "source": [
    "unseen_docs_res_distri = getReultsOnUnseenData(unseen_docs=unseen_docs, lda_model=lda_model)"
   ]
  },
  {
   "cell_type": "markdown",
   "metadata": {},
   "source": [
    "unseen_docs_res_distri[0][0]"
   ]
  },
  {
   "cell_type": "markdown",
   "metadata": {},
   "source": [
    "## Evaluation on Clustering"
   ]
  },
  {
   "cell_type": "code",
   "execution_count": 112,
   "metadata": {},
   "outputs": [
    {
     "name": "stdout",
     "output_type": "stream",
     "text": [
      "\n",
      "Perplexity:  -7.730780622207981\n",
      "\n",
      "Coherence Score:  0.3878753024460627\n"
     ]
    }
   ],
   "source": [
    "# Compute Perplexity\n",
    "print('\\nPerplexity: ', lda_model.log_perplexity(corpus))  # a measure of how good the model is. lower the better.\n",
    "\n",
    "# Compute Coherence Score\n",
    "coherence_model_lda = CoherenceModel(model=lda_model, texts=data_lemmatized, dictionary=id2word, coherence='c_v')\n",
    "coherence_lda = coherence_model_lda.get_coherence()\n",
    "print('\\nCoherence Score: ', coherence_lda)"
   ]
  },
  {
   "cell_type": "markdown",
   "metadata": {},
   "source": [
    "## Visualization Part"
   ]
  },
  {
   "cell_type": "code",
   "execution_count": 22,
   "metadata": {},
   "outputs": [
    {
     "name": "stderr",
     "output_type": "stream",
     "text": [
      "/home/ubuntu/anaconda3/lib/python3.7/site-packages/pyLDAvis/_prepare.py:257: FutureWarning: Sorting because non-concatenation axis is not aligned. A future version\n",
      "of pandas will change to not sort by default.\n",
      "\n",
      "To accept the future behavior, pass 'sort=False'.\n",
      "\n",
      "To retain the current behavior and silence the warning, pass 'sort=True'.\n",
      "\n",
      "  return pd.concat([default_term_info] + list(topic_dfs))\n"
     ]
    },
    {
     "data": {
      "text/html": [
       "\n",
       "<link rel=\"stylesheet\" type=\"text/css\" href=\"https://cdn.rawgit.com/bmabey/pyLDAvis/files/ldavis.v1.0.0.css\">\n",
       "\n",
       "\n",
       "<div id=\"ldavis_el184461400763422576083276406672\"></div>\n",
       "<script type=\"text/javascript\">\n",
       "\n",
       "var ldavis_el184461400763422576083276406672_data = {\"mdsDat\": {\"x\": [-0.2905606454826194, -0.15980744036615738, -0.1862202399689625, -0.17987565538528957, -0.1609405895726951, -0.07644457778715325, 0.006039419429457786, 0.03912306535428314, 0.07587457083165698, 0.053935005896348025, 0.004506827041511697, 0.04810835530870913, 0.08892452722793143, 0.09989247169173585, 0.10319249679274882, 0.10016446273804473, 0.11183030368674285, 0.10035359738899914, 0.09838465814383829, 0.12351938703086808], \"y\": [0.18330668181538315, -0.0038090067362127914, 0.10385475755441319, 0.021846922864281613, -0.234728016894982, -0.29394353004105156, 0.019146988162729927, -0.03590280457733886, 0.02376003989660076, 0.0760020524319797, 0.12893040605134917, -0.16106583063188115, 0.014952822810696558, 0.013628737012062285, 0.01606588014032618, 0.04222646677624111, 0.03553338705835851, 0.022592624987659432, -2.7592891315883997e-05, 0.02762901421070039], \"topics\": [1, 2, 3, 4, 5, 6, 7, 8, 9, 10, 11, 12, 13, 14, 15, 16, 17, 18, 19, 20], \"cluster\": [1, 1, 1, 1, 1, 1, 1, 1, 1, 1, 1, 1, 1, 1, 1, 1, 1, 1, 1, 1], \"Freq\": [26.560077667236328, 10.229616165161133, 9.034566879272461, 7.851896286010742, 7.444825172424316, 4.451868534088135, 4.176170825958252, 3.666987180709839, 3.0898005962371826, 2.8867411613464355, 2.63881254196167, 2.609332799911499, 2.3808882236480713, 2.1237378120422363, 2.1072018146514893, 2.037341833114624, 1.8032599687576294, 1.787619709968567, 1.7263211011886597, 1.392923355102539]}, \"tinfo\": {\"Category\": [\"Default\", \"Default\", \"Default\", \"Default\", \"Default\", \"Default\", \"Default\", \"Default\", \"Default\", \"Default\", \"Default\", \"Default\", \"Default\", \"Default\", \"Default\", \"Default\", \"Default\", \"Default\", \"Default\", \"Default\", \"Default\", \"Default\", \"Default\", \"Default\", \"Default\", \"Default\", \"Default\", \"Default\", \"Default\", \"Default\", \"Topic1\", \"Topic1\", \"Topic1\", \"Topic1\", \"Topic1\", \"Topic1\", \"Topic1\", \"Topic1\", \"Topic1\", \"Topic1\", \"Topic1\", \"Topic1\", \"Topic1\", \"Topic1\", \"Topic1\", \"Topic1\", \"Topic1\", \"Topic1\", \"Topic1\", \"Topic1\", \"Topic1\", \"Topic1\", \"Topic1\", \"Topic1\", \"Topic1\", \"Topic1\", \"Topic1\", \"Topic1\", \"Topic1\", \"Topic1\", \"Topic1\", \"Topic1\", \"Topic1\", \"Topic1\", \"Topic2\", \"Topic2\", \"Topic2\", \"Topic2\", \"Topic2\", \"Topic2\", \"Topic2\", \"Topic2\", \"Topic2\", \"Topic2\", \"Topic2\", \"Topic2\", \"Topic2\", \"Topic2\", \"Topic2\", \"Topic2\", \"Topic2\", \"Topic2\", \"Topic2\", \"Topic2\", \"Topic2\", \"Topic2\", \"Topic2\", \"Topic2\", \"Topic2\", \"Topic2\", \"Topic2\", \"Topic2\", \"Topic2\", \"Topic2\", \"Topic2\", \"Topic2\", \"Topic2\", \"Topic2\", \"Topic2\", \"Topic2\", \"Topic3\", \"Topic3\", \"Topic3\", \"Topic3\", \"Topic3\", \"Topic3\", \"Topic3\", \"Topic3\", \"Topic3\", \"Topic3\", \"Topic3\", \"Topic3\", \"Topic3\", \"Topic3\", \"Topic3\", \"Topic3\", \"Topic3\", \"Topic3\", \"Topic3\", \"Topic3\", \"Topic3\", \"Topic3\", \"Topic3\", \"Topic3\", \"Topic3\", \"Topic3\", \"Topic3\", \"Topic3\", \"Topic3\", \"Topic3\", \"Topic3\", \"Topic3\", \"Topic3\", \"Topic3\", \"Topic3\", \"Topic3\", \"Topic3\", \"Topic3\", \"Topic3\", \"Topic3\", \"Topic3\", \"Topic4\", \"Topic4\", \"Topic4\", \"Topic4\", \"Topic4\", \"Topic4\", \"Topic4\", \"Topic4\", \"Topic4\", \"Topic4\", \"Topic4\", \"Topic4\", \"Topic4\", \"Topic4\", \"Topic4\", \"Topic4\", \"Topic4\", \"Topic4\", \"Topic4\", \"Topic4\", \"Topic4\", \"Topic4\", \"Topic4\", \"Topic4\", \"Topic4\", \"Topic4\", \"Topic4\", \"Topic4\", \"Topic4\", \"Topic4\", \"Topic4\", \"Topic4\", \"Topic4\", \"Topic4\", \"Topic4\", \"Topic4\", \"Topic4\", \"Topic4\", \"Topic4\", \"Topic4\", \"Topic4\", \"Topic5\", \"Topic5\", \"Topic5\", \"Topic5\", \"Topic5\", \"Topic5\", \"Topic5\", \"Topic5\", \"Topic5\", \"Topic5\", \"Topic5\", \"Topic5\", \"Topic5\", \"Topic5\", \"Topic5\", \"Topic5\", \"Topic5\", \"Topic5\", \"Topic5\", \"Topic5\", \"Topic5\", \"Topic5\", \"Topic5\", \"Topic5\", \"Topic5\", \"Topic5\", \"Topic5\", \"Topic5\", \"Topic5\", \"Topic5\", \"Topic5\", \"Topic5\", \"Topic5\", \"Topic5\", \"Topic5\", \"Topic5\", \"Topic5\", \"Topic5\", \"Topic5\", \"Topic5\", \"Topic5\", \"Topic5\", \"Topic5\", \"Topic5\", \"Topic5\", \"Topic6\", \"Topic6\", \"Topic6\", \"Topic6\", \"Topic6\", \"Topic6\", \"Topic6\", \"Topic6\", \"Topic6\", \"Topic6\", \"Topic6\", \"Topic6\", \"Topic6\", \"Topic6\", \"Topic6\", \"Topic6\", \"Topic6\", \"Topic6\", \"Topic6\", \"Topic6\", \"Topic6\", \"Topic6\", \"Topic6\", \"Topic6\", \"Topic6\", \"Topic6\", \"Topic6\", \"Topic6\", \"Topic6\", \"Topic6\", \"Topic6\", \"Topic6\", \"Topic6\", \"Topic6\", \"Topic6\", \"Topic6\", \"Topic7\", \"Topic7\", \"Topic7\", \"Topic7\", \"Topic7\", \"Topic7\", \"Topic7\", \"Topic7\", \"Topic7\", \"Topic7\", \"Topic7\", \"Topic7\", \"Topic7\", \"Topic7\", \"Topic7\", \"Topic7\", \"Topic7\", \"Topic7\", \"Topic7\", \"Topic7\", \"Topic7\", \"Topic7\", \"Topic7\", \"Topic7\", \"Topic7\", \"Topic7\", \"Topic7\", \"Topic7\", \"Topic7\", \"Topic7\", \"Topic7\", \"Topic7\", \"Topic7\", \"Topic8\", \"Topic8\", \"Topic8\", \"Topic8\", \"Topic8\", \"Topic8\", \"Topic8\", \"Topic8\", \"Topic8\", \"Topic8\", \"Topic8\", \"Topic8\", \"Topic8\", \"Topic8\", \"Topic8\", \"Topic8\", \"Topic8\", \"Topic8\", \"Topic8\", \"Topic8\", \"Topic8\", \"Topic8\", \"Topic8\", \"Topic8\", \"Topic8\", \"Topic8\", \"Topic8\", \"Topic8\", \"Topic8\", \"Topic8\", \"Topic8\", \"Topic8\", \"Topic8\", \"Topic8\", \"Topic9\", \"Topic9\", \"Topic9\", \"Topic9\", \"Topic9\", \"Topic9\", \"Topic9\", \"Topic9\", \"Topic9\", \"Topic9\", \"Topic9\", \"Topic9\", \"Topic9\", \"Topic9\", \"Topic9\", \"Topic9\", \"Topic9\", \"Topic9\", \"Topic9\", \"Topic9\", \"Topic9\", \"Topic9\", \"Topic9\", \"Topic9\", \"Topic9\", \"Topic9\", \"Topic9\", \"Topic9\", \"Topic9\", \"Topic9\", \"Topic9\", \"Topic10\", \"Topic10\", \"Topic10\", \"Topic10\", \"Topic10\", \"Topic10\", \"Topic10\", \"Topic10\", \"Topic10\", \"Topic10\", \"Topic10\", \"Topic10\", \"Topic10\", \"Topic10\", \"Topic10\", \"Topic10\", \"Topic10\", \"Topic10\", \"Topic10\", \"Topic10\", \"Topic10\", \"Topic10\", \"Topic10\", \"Topic10\", \"Topic10\", \"Topic10\", \"Topic10\", \"Topic10\", \"Topic10\", \"Topic10\", \"Topic10\", \"Topic10\", \"Topic10\", \"Topic10\", \"Topic11\", \"Topic11\", \"Topic11\", \"Topic11\", \"Topic11\", \"Topic11\", \"Topic11\", \"Topic11\", \"Topic11\", \"Topic11\", \"Topic11\", \"Topic11\", \"Topic11\", \"Topic11\", \"Topic11\", \"Topic11\", \"Topic11\", \"Topic11\", \"Topic11\", \"Topic11\", \"Topic11\", \"Topic11\", \"Topic11\", \"Topic11\", \"Topic11\", \"Topic11\", \"Topic11\", \"Topic11\", \"Topic11\", \"Topic11\", \"Topic11\", \"Topic11\", \"Topic11\", \"Topic11\", \"Topic11\", \"Topic11\", \"Topic12\", \"Topic12\", \"Topic12\", \"Topic12\", \"Topic12\", \"Topic12\", \"Topic12\", \"Topic12\", \"Topic12\", \"Topic12\", \"Topic12\", \"Topic12\", \"Topic12\", \"Topic12\", \"Topic12\", \"Topic12\", \"Topic12\", \"Topic12\", \"Topic12\", \"Topic12\", \"Topic12\", \"Topic12\", \"Topic12\", \"Topic12\", \"Topic12\", \"Topic12\", \"Topic12\", \"Topic12\", \"Topic12\", \"Topic12\", \"Topic12\", \"Topic12\", \"Topic13\", \"Topic13\", \"Topic13\", \"Topic13\", \"Topic13\", \"Topic13\", \"Topic13\", \"Topic13\", \"Topic13\", \"Topic13\", \"Topic13\", \"Topic13\", \"Topic13\", \"Topic13\", \"Topic13\", \"Topic13\", \"Topic13\", \"Topic13\", \"Topic13\", \"Topic13\", \"Topic13\", \"Topic13\", \"Topic13\", \"Topic13\", \"Topic13\", \"Topic13\", \"Topic13\", \"Topic13\", \"Topic13\", \"Topic13\", \"Topic13\", \"Topic13\", \"Topic13\", \"Topic14\", \"Topic14\", \"Topic14\", \"Topic14\", \"Topic14\", \"Topic14\", \"Topic14\", \"Topic14\", \"Topic14\", \"Topic14\", \"Topic14\", \"Topic14\", \"Topic14\", \"Topic14\", \"Topic14\", \"Topic14\", \"Topic14\", \"Topic14\", \"Topic14\", \"Topic14\", \"Topic14\", \"Topic14\", \"Topic14\", \"Topic14\", \"Topic14\", \"Topic14\", \"Topic14\", \"Topic14\", \"Topic14\", \"Topic14\", \"Topic15\", \"Topic15\", \"Topic15\", \"Topic15\", \"Topic15\", \"Topic15\", \"Topic15\", \"Topic15\", \"Topic15\", \"Topic15\", \"Topic15\", \"Topic15\", \"Topic15\", \"Topic15\", \"Topic15\", \"Topic15\", \"Topic15\", \"Topic15\", \"Topic15\", \"Topic15\", \"Topic15\", \"Topic15\", \"Topic15\", \"Topic15\", \"Topic15\", \"Topic15\", \"Topic15\", \"Topic15\", \"Topic15\", \"Topic15\", \"Topic16\", \"Topic16\", \"Topic16\", \"Topic16\", \"Topic16\", \"Topic16\", \"Topic16\", \"Topic16\", \"Topic16\", \"Topic16\", \"Topic16\", \"Topic16\", \"Topic16\", \"Topic16\", \"Topic16\", \"Topic16\", \"Topic16\", \"Topic16\", \"Topic16\", \"Topic16\", \"Topic16\", \"Topic16\", \"Topic16\", \"Topic16\", \"Topic16\", \"Topic16\", \"Topic16\", \"Topic16\", \"Topic16\", \"Topic16\", \"Topic16\", \"Topic17\", \"Topic17\", \"Topic17\", \"Topic17\", \"Topic17\", \"Topic17\", \"Topic17\", \"Topic17\", \"Topic17\", \"Topic17\", \"Topic17\", \"Topic17\", \"Topic17\", \"Topic17\", \"Topic17\", \"Topic17\", \"Topic17\", \"Topic17\", \"Topic17\", \"Topic17\", \"Topic17\", \"Topic17\", \"Topic17\", \"Topic17\", \"Topic17\", \"Topic17\", \"Topic17\", \"Topic17\", \"Topic17\", \"Topic17\", \"Topic18\", \"Topic18\", \"Topic18\", \"Topic18\", \"Topic18\", \"Topic18\", \"Topic18\", \"Topic18\", \"Topic18\", \"Topic18\", \"Topic18\", \"Topic18\", \"Topic18\", \"Topic18\", \"Topic18\", \"Topic18\", \"Topic18\", \"Topic18\", \"Topic18\", \"Topic18\", \"Topic18\", \"Topic18\", \"Topic18\", \"Topic18\", \"Topic18\", \"Topic18\", \"Topic18\", \"Topic18\", \"Topic18\", \"Topic18\", \"Topic18\", \"Topic19\", \"Topic19\", \"Topic19\", \"Topic19\", \"Topic19\", \"Topic19\", \"Topic19\", \"Topic19\", \"Topic19\", \"Topic19\", \"Topic19\", \"Topic19\", \"Topic19\", \"Topic19\", \"Topic19\", \"Topic19\", \"Topic19\", \"Topic19\", \"Topic19\", \"Topic19\", \"Topic19\", \"Topic19\", \"Topic19\", \"Topic19\", \"Topic19\", \"Topic19\", \"Topic19\", \"Topic19\", \"Topic19\", \"Topic19\", \"Topic20\", \"Topic20\", \"Topic20\", \"Topic20\", \"Topic20\", \"Topic20\", \"Topic20\", \"Topic20\", \"Topic20\", \"Topic20\", \"Topic20\", \"Topic20\", \"Topic20\", \"Topic20\", \"Topic20\", \"Topic20\", \"Topic20\", \"Topic20\", \"Topic20\", \"Topic20\", \"Topic20\", \"Topic20\", \"Topic20\", \"Topic20\", \"Topic20\", \"Topic20\", \"Topic20\", \"Topic20\", \"Topic20\", \"Topic20\"], \"Freq\": [46206.0, 36597.0, 33550.0, 52923.0, 27013.0, 25584.0, 22589.0, 40855.0, 38729.0, 31298.0, 27884.0, 27682.0, 27647.0, 14427.0, 9555.0, 16733.0, 8563.0, 8501.0, 15875.0, 26187.0, 8438.0, 9367.0, 14881.0, 11333.0, 11378.0, 15899.0, 11765.0, 10529.0, 7120.0, 19196.0, 52922.9765625, 40854.30859375, 38728.30859375, 31297.859375, 27883.796875, 27681.232421875, 27646.927734375, 19195.462890625, 16773.388671875, 12875.369140625, 12786.3046875, 12418.998046875, 12289.7587890625, 12101.66796875, 11287.5595703125, 10303.03515625, 10292.0078125, 10219.8818359375, 9964.5302734375, 9347.7490234375, 9315.529296875, 8930.203125, 8642.2138671875, 7593.60986328125, 7417.849609375, 7252.1318359375, 7203.16748046875, 6679.0673828125, 6490.16796875, 6254.3173828125, 16320.6025390625, 25742.80078125, 10908.2197265625, 16155.9033203125, 10174.587890625, 9525.5302734375, 9514.908203125, 8886.7470703125, 7859.37060546875, 7299.12109375, 6410.283203125, 5352.64013671875, 4812.669921875, 4764.2861328125, 4345.7802734375, 4265.478515625, 4177.7265625, 4137.64306640625, 4112.8681640625, 4006.01318359375, 3646.41796875, 3461.191162109375, 3401.160400390625, 3333.610595703125, 3169.716796875, 3055.524169921875, 2953.5322265625, 2856.76708984375, 2761.961669921875, 2722.526123046875, 2535.195068359375, 2527.93505859375, 2463.389404296875, 2453.6484375, 10025.443359375, 4199.45849609375, 3325.1240234375, 4307.47021484375, 5678.31591796875, 3601.627685546875, 36596.09765625, 27012.44921875, 14426.974609375, 10449.3857421875, 10210.1953125, 9806.3095703125, 9053.806640625, 8605.359375, 6149.62451171875, 4784.9013671875, 11762.625, 3812.813232421875, 3154.65966796875, 3008.369873046875, 2928.588134765625, 2869.7236328125, 2780.373046875, 2665.791015625, 2494.952880859375, 2007.4871826171875, 1556.367919921875, 1369.6741943359375, 1063.819091796875, 1018.8678588867188, 997.0744018554688, 785.0517578125, 765.5726928710938, 737.5070190429688, 718.8387451171875, 696.3955078125, 25445.68359375, 2532.93212890625, 3245.146728515625, 12956.9658203125, 8939.2880859375, 13140.2021484375, 13619.443359375, 6085.7919921875, 10056.82421875, 2557.70361328125, 2913.034912109375, 22588.60546875, 9540.5732421875, 5915.46923828125, 5897.0302734375, 5499.31640625, 4882.728515625, 4484.96533203125, 4429.77587890625, 4268.4794921875, 4052.45654296875, 3688.665771484375, 3604.264892578125, 3402.6923828125, 3364.03125, 3267.344970703125, 3073.803955078125, 3050.407470703125, 2716.84326171875, 2635.582275390625, 2167.18017578125, 2057.95849609375, 1899.6953125, 1810.18896484375, 1658.7362060546875, 1631.426025390625, 1571.5421142578125, 1399.9429931640625, 1397.7001953125, 1343.0438232421875, 1331.1861572265625, 1687.830322265625, 2358.130859375, 3523.98388671875, 3468.5341796875, 4279.86328125, 2731.193359375, 2958.611328125, 3975.360107421875, 4155.0341796875, 3242.72509765625, 3005.978515625, 46205.29296875, 33549.88671875, 11332.5703125, 10528.9130859375, 7869.357421875, 5949.23388671875, 4676.935546875, 4578.83056640625, 4263.40380859375, 2662.622314453125, 2607.862060546875, 2301.2158203125, 2042.1070556640625, 1915.18798828125, 1655.6065673828125, 1554.322509765625, 1451.443359375, 1399.4095458984375, 1300.6463623046875, 1162.4591064453125, 1142.666259765625, 1071.8077392578125, 1049.1373291015625, 942.8651123046875, 864.9441528320312, 851.0294799804688, 825.5487060546875, 735.8636474609375, 720.8896484375, 707.2566528320312, 11319.34765625, 1556.142822265625, 5780.38525390625, 2412.504638671875, 2357.921630859375, 5194.69775390625, 2489.339599609375, 4903.0322265625, 3370.460693359375, 2197.605224609375, 3467.74951171875, 1731.496826171875, 1588.666748046875, 2000.923583984375, 1808.5928955078125, 7695.001953125, 5950.4296875, 5893.44873046875, 4763.72802734375, 4733.06982421875, 4446.4248046875, 4325.56005859375, 3653.732666015625, 3069.27294921875, 2742.962646484375, 2670.233154296875, 2588.86279296875, 2320.608642578125, 1951.282470703125, 1821.0421142578125, 1562.449951171875, 1485.61083984375, 1419.111572265625, 1380.21044921875, 1345.0008544921875, 1300.948486328125, 1182.4136962890625, 1176.3538818359375, 1133.3170166015625, 1078.49853515625, 999.964599609375, 995.8466186523438, 989.9642944335938, 982.1281127929688, 967.3396606445312, 2338.811279296875, 2976.43896484375, 2083.28759765625, 2137.835205078125, 1475.179443359375, 1179.58447265625, 9366.7900390625, 7829.79931640625, 7476.26416015625, 7136.7177734375, 6892.74609375, 5370.64599609375, 4937.2509765625, 3476.4091796875, 2877.233154296875, 2823.5556640625, 2445.2724609375, 2431.10009765625, 2235.63232421875, 2173.327880859375, 2080.83251953125, 1966.8731689453125, 1916.48779296875, 1840.07080078125, 1771.72216796875, 1728.91455078125, 1555.804931640625, 1541.5186767578125, 1461.5225830078125, 1357.9051513671875, 1319.4207763671875, 1113.618408203125, 978.8239135742188, 809.4627075195312, 797.9981689453125, 770.306396484375, 4679.6591796875, 4050.471435546875, 1293.457275390625, 5326.298828125, 4525.466796875, 4263.080078125, 4109.40966796875, 3295.6708984375, 2958.810302734375, 2854.5615234375, 2578.8876953125, 2298.709228515625, 2275.265869140625, 2153.188720703125, 2080.801513671875, 1976.4300537109375, 1974.9403076171875, 1735.103515625, 1666.9993896484375, 1490.60986328125, 1411.505126953125, 1309.0240478515625, 1238.16552734375, 1163.4798583984375, 1084.3779296875, 1075.7113037109375, 968.2853393554688, 955.8900756835938, 875.484130859375, 853.870849609375, 828.1319580078125, 807.9679565429688, 785.5380859375, 916.5993041992188, 4577.68115234375, 1376.9967041015625, 1327.424560546875, 6772.01416015625, 3952.494873046875, 2770.035888671875, 1890.5140380859375, 1847.753662109375, 1418.7530517578125, 1300.0506591796875, 1238.22607421875, 890.820556640625, 877.5827026367188, 876.0836181640625, 821.6995849609375, 752.3499145507812, 714.5255126953125, 690.6357421875, 672.7249145507812, 612.6141967773438, 609.01171875, 607.068115234375, 605.8848266601562, 585.7767944335938, 584.9967651367188, 577.4240112304688, 571.2601318359375, 564.4356689453125, 549.88134765625, 540.3630981445312, 535.91064453125, 534.6715698242188, 534.52490234375, 1627.7877197265625, 9554.3603515625, 8437.5048828125, 3075.098876953125, 3060.031982421875, 2567.876220703125, 2345.02685546875, 2175.8310546875, 1919.0968017578125, 1824.719970703125, 1712.3182373046875, 1642.7353515625, 1506.0228271484375, 1487.36083984375, 1091.7884521484375, 1084.953857421875, 1032.3023681640625, 858.3592529296875, 830.6768798828125, 813.6297607421875, 810.0744018554688, 722.1826171875, 686.099609375, 680.0440673828125, 647.2297973632812, 643.4646606445312, 621.51611328125, 584.3622436523438, 528.151123046875, 525.3836059570312, 504.4693908691406, 3744.330322265625, 759.3663940429688, 659.8365478515625, 595.0551147460938, 7119.8173828125, 3344.983642578125, 2728.7158203125, 2414.40283203125, 1535.021728515625, 1349.0599365234375, 1274.40771484375, 1217.8955078125, 1204.78759765625, 1135.603515625, 942.7012329101562, 909.3538208007812, 856.1438598632812, 851.5933837890625, 829.9742431640625, 791.6655883789062, 787.8585205078125, 746.22607421875, 695.779541015625, 690.2859497070312, 662.027099609375, 618.4778442382812, 605.3082275390625, 590.1661987304688, 589.7213134765625, 577.9507446289062, 576.7357788085938, 573.7692260742188, 569.947021484375, 555.6820068359375, 1908.18359375, 801.1241455078125, 1036.287841796875, 853.3089599609375, 616.965087890625, 623.0401000976562, 4816.3515625, 3192.361572265625, 3178.580078125, 2479.578369140625, 2243.97998046875, 2243.13525390625, 2158.5517578125, 1831.4244384765625, 1824.092041015625, 1595.9375, 1590.2296142578125, 1325.4725341796875, 1183.445556640625, 1143.54638671875, 1028.256591796875, 969.1567993164062, 935.54736328125, 860.3917236328125, 838.6622314453125, 835.8116455078125, 817.52880859375, 784.3689575195312, 775.4443969726562, 766.6109008789062, 755.162841796875, 698.9641723632812, 634.130126953125, 618.5836181640625, 600.30419921875, 576.3038330078125, 1187.0975341796875, 658.8959350585938, 8500.40625, 4440.88427734375, 3651.84765625, 2713.55908203125, 2648.928955078125, 2514.5224609375, 2118.977294921875, 1812.38623046875, 1704.3282470703125, 1628.3033447265625, 1410.2989501953125, 1301.9814453125, 1046.004638671875, 949.15478515625, 948.9407348632812, 874.5957641601562, 873.8892822265625, 855.839111328125, 849.8063354492188, 769.150390625, 757.7353515625, 753.7295532226562, 651.40625, 616.1576538085938, 596.0846557617188, 591.51416015625, 525.0244140625, 485.72967529296875, 480.40093994140625, 474.9262390136719, 613.5005493164062, 1414.4521484375, 697.206298828125, 8562.5380859375, 2510.06396484375, 2191.685546875, 1920.850341796875, 1804.2022705078125, 1802.82958984375, 1751.4920654296875, 1693.6851806640625, 1553.5445556640625, 1524.40087890625, 1520.6510009765625, 1503.4471435546875, 1321.5208740234375, 1194.0517578125, 1105.937744140625, 1043.9266357421875, 745.5040893554688, 725.1934814453125, 684.861328125, 678.7365112304688, 656.2368774414062, 580.7406005859375, 565.5110473632812, 552.2208862304688, 546.4697875976562, 544.33251953125, 526.1040649414062, 518.4793090820312, 505.5102844238281, 502.2392272949219, 3907.5126953125, 3591.97119140625, 3477.62939453125, 3039.243408203125, 2307.734375, 1822.936279296875, 1574.819580078125, 1422.558837890625, 1242.8150634765625, 1204.43115234375, 1201.577880859375, 1081.560791015625, 1070.5213623046875, 1005.5484619140625, 1001.8185424804688, 995.1065673828125, 926.1323852539062, 813.7561645507812, 800.1407470703125, 797.5670166015625, 764.5117797851562, 751.4484252929688, 715.8104248046875, 713.8093872070312, 613.4356079101562, 580.7263793945312, 558.444091796875, 557.83740234375, 543.3375244140625, 506.1759033203125, 5087.9873046875, 3356.644775390625, 1540.387939453125, 1527.71044921875, 1333.81201171875, 933.0213623046875, 914.9501953125, 845.1290893554688, 842.6366577148438, 830.4720458984375, 784.7088012695312, 759.985595703125, 754.865478515625, 750.4493408203125, 670.77587890625, 670.1844482421875, 662.544677734375, 642.4994506835938, 610.8533325195312, 594.2124633789062, 572.0724487304688, 548.068115234375, 539.7278442382812, 509.9933166503906, 493.8958435058594, 482.61285400390625, 462.4144287109375, 450.7825927734375, 425.36279296875, 416.53564453125, 639.5339965820312, 3161.193359375, 2048.843994140625, 1682.107177734375, 1325.5155029296875, 1232.522216796875, 1228.3917236328125, 1179.9638671875, 1127.48095703125, 1119.1502685546875, 1065.023681640625, 947.518310546875, 838.4844360351562, 757.1043701171875, 739.7333984375, 673.5448608398438, 637.3328247070312, 619.0545654296875, 608.8024291992188, 570.2130126953125, 529.6159057617188, 505.5704040527344, 497.36212158203125, 485.2359313964844, 431.7145080566406, 389.9490966796875, 372.992919921875, 367.0442199707031, 365.94146728515625, 361.79693603515625, 361.6541442871094, 2785.878662109375, 2356.239013671875, 1759.5477294921875, 1362.5950927734375, 1334.7882080078125, 1315.451416015625, 1125.914794921875, 1116.218994140625, 1011.8952026367188, 904.6253662109375, 878.8320922851562, 775.7971801757812, 698.9844360351562, 670.7431030273438, 607.0740966796875, 575.3892822265625, 511.7295837402344, 491.2339172363281, 479.8573913574219, 464.5211486816406, 442.9601135253906, 439.2962646484375, 435.5113525390625, 424.837890625, 388.4538269042969, 385.78009033203125, 377.1832580566406, 369.9802551269531, 351.8365478515625, 351.4154968261719, 2032.5098876953125, 5414.7138671875, 4422.21484375, 2894.80810546875, 1889.9700927734375, 1515.9495849609375, 1306.6697998046875, 1177.3372802734375, 1134.6658935546875, 1133.67236328125, 1123.332763671875, 892.2838134765625, 876.823486328125, 771.4065551757812, 637.5877685546875, 618.7474365234375, 617.7660522460938, 616.552734375, 584.6819458007812, 579.89111328125, 551.13037109375, 489.2618103027344, 470.3052062988281, 459.8191223144531, 441.1943054199219, 425.5212707519531, 412.282470703125, 375.1950378417969, 374.1849365234375, 343.2173156738281, 330.24462890625, 5919.63330078125, 1103.0445556640625, 1075.3948974609375, 806.3279418945312, 702.24072265625, 677.5781860351562, 643.2462768554688, 608.0775146484375, 608.0098876953125, 599.0968627929688, 510.9815979003906, 466.9717712402344, 453.915771484375, 437.5651550292969, 431.0650939941406, 415.4134826660156, 387.6095275878906, 352.6629943847656, 328.98455810546875, 323.95269775390625, 319.13641357421875, 308.8275146484375, 304.02386474609375, 299.8830871582031, 285.97503662109375, 267.60101318359375, 257.81793212890625, 255.07546997070312, 248.4905548095703, 248.43629455566406], \"Term\": [\"good\", \"place\", \"food\", \"not\", \"great\", \"service\", \"order\", \"get\", \"go\", \"do\", \"time\", \"would\", \"be\", \"love\", \"tell\", \"try\", \"feel\", \"s\", \"really\", \"come\", \"call\", \"drink\", \"also\", \"restaurant\", \"eat\", \"have\", \"nice\", \"price\", \"room\", \"back\", \"not\", \"get\", \"go\", \"do\", \"time\", \"would\", \"be\", \"back\", \"say\", \"could\", \"give\", \"even\", \"want\", \"wait\", \"know\", \"see\", \"ask\", \"first\", \"never\", \"think\", \"people\", \"thing\", \"bad\", \"way\", \"minute\", \"right\", \"hour\", \"still\", \"can\", \"leave\", \"take\", \"come\", \"look\", \"make\", \"day\", \"find\", \"work\", \"need\", \"new\", \"customer\", \"year\", \"home\", \"keep\", \"guy\", \"show\", \"help\", \"use\", \"stay\", \"thank\", \"close\", \"business\", \"old\", \"job\", \"rice\", \"family\", \"someone\", \"live\", \"able\", \"today\", \"finally\", \"drive\", \"employee\", \"problem\", \"anyone\", \"experience\", \"return\", \"anything\", \"care\", \"review\", \"many\", \"place\", \"great\", \"love\", \"friendly\", \"staff\", \"always\", \"definitely\", \"amazing\", \"recommend\", \"excellent\", \"nice\", \"week\", \"quick\", \"highly_recommend\", \"couple\", \"town\", \"helpful\", \"must\", \"absolutely\", \"attentive\", \"thai\", \"state\", \"ton\", \"cute\", \"compare\", \"pho\", \"neighborhood\", \"rich\", \"charlotte\", \"fabulous\", \"service\", \"especially\", \"everyone\", \"also\", \"well\", \"really\", \"try\", \"delicious\", \"have\", \"different\", \"make\", \"order\", \"little\", \"pizza\", \"small\", \"bit\", \"lunch\", \"hot\", \"seat\", \"option\", \"overall\", \"coffee\", \"tasty\", \"perfect\", \"quite\", \"large\", \"add\", \"breakfast\", \"cold\", \"choice\", \"egg\", \"slow\", \"bowl\", \"dining\", \"green\", \"red\", \"disappointed\", \"slice\", \"ingredient\", \"italian\", \"cocktail\", \"bacon\", \"fill\", \"top\", \"spot\", \"serve\", \"waitress\", \"sweet\", \"side\", \"area\", \"menu\", \"lot\", \"good\", \"food\", \"restaurant\", \"price\", \"pretty\", \"burger\", \"awesome\", \"super\", \"special\", \"decent\", \"roll\", \"fantastic\", \"reasonable\", \"chip\", \"tip\", \"chef\", \"best\", \"average\", \"pricey\", \"chinese\", \"prepare\", \"fair\", \"value\", \"vegan\", \"beat\", \"donut\", \"combination\", \"outstanding\", \"medium\", \"excited\", \"eat\", \"expensive\", \"fresh\", \"cheap\", \"better\", \"everything\", \"portion\", \"menu\", \"meal\", \"fast\", \"taste\", \"usually\", \"far\", \"much\", \"many\", \"chicken\", \"sauce\", \"fry\", \"cheese\", \"dish\", \"salad\", \"sandwich\", \"meat\", \"cook\", \"bread\", \"spicy\", \"fish\", \"soup\", \"grill\", \"noodle\", \"garlic\", \"pasta\", \"crispy\", \"tender\", \"onion\", \"potato\", \"entree\", \"veggie\", \"butter\", \"seafood\", \"bland\", \"bbq\", \"season\", \"salmon\", \"curry\", \"plate\", \"taste\", \"meal\", \"delicious\", \"side\", \"piece\", \"drink\", \"bar\", \"table\", \"night\", \"friend\", \"server\", \"dinner\", \"atmosphere\", \"fun\", \"wine\", \"group\", \"wonderful\", \"appetizer\", \"course\", \"beautiful\", \"decor\", \"music\", \"bartender\", \"glass\", \"list\", \"las_vegas\", \"view\", \"evening\", \"main\", \"break\", \"bottle\", \"event\", \"modern\", \"burn\", \"summer\", \"enjoy\", \"sit\", \"share\", \"big\", \"quality\", \"worth\", \"item\", \"high\", \"beef\", \"huge\", \"size\", \"fan\", \"choose\", \"style\", \"light\", \"cake\", \"real\", \"forget\", \"chocolate\", \"boyfriend\", \"grab\", \"date\", \"black\", \"smell\", \"soft\", \"die\", \"lobster\", \"ambiance\", \"corner\", \"asian\", \"dark\", \"cash\", \"solid\", \"prefer\", \"end\", \"lack\", \"piece\", \"location\", \"vegas\", \"sushi\", \"buffet\", \"trip\", \"club\", \"simply\", \"knowledgeable\", \"dirty\", \"standard\", \"coupon\", \"fit\", \"original\", \"market\", \"heat\", \"pricing\", \"valley\", \"range\", \"skin\", \"handle\", \"convenient\", \"regret\", \"story\", \"anywhere\", \"station\", \"west\", \"girlfriend\", \"tattoo\", \"stock\", \"meh\", \"strip\", \"tell\", \"call\", \"charge\", \"money\", \"later\", \"receive\", \"issue\", \"rude\", \"fix\", \"cost\", \"terrible\", \"horrible\", \"nail\", \"awful\", \"card\", \"post\", \"contact\", \"agree\", \"suck\", \"situation\", \"response\", \"quote\", \"refund\", \"pedicure\", \"opt\", \"refuse\", \"ridiculous\", \"disgusting\", \"dealership\", \"information\", \"pay\", \"save\", \"allow\", \"previous\", \"room\", \"hotel\", \"kid\", \"parking\", \"pool\", \"plan\", \"brunch\", \"park\", \"bathroom\", \"together\", \"wrap\", \"gym\", \"front_desk\", \"relax\", \"bed\", \"school\", \"wedding\", \"moment\", \"center\", \"build\", \"machine\", \"fee\", \"affordable\", \"fat\", \"separate\", \"workout\", \"rent\", \"building\", \"king\", \"security\", \"area\", \"space\", \"check\", \"free\", \"chair\", \"lot\", \"flavor\", \"dessert\", \"steak\", \"extremely\", \"shrimp\", \"include\", \"tea\", \"ice_cream\", \"dry\", \"white\", \"perfectly\", \"patio\", \"ice\", \"dress\", \"diner\", \"cream\", \"mouth\", \"salt\", \"slightly\", \"fruit\", \"smoke\", \"typical\", \"juice\", \"texture\", \"waffle\", \"cookie\", \"highlight\", \"lemon\", \"melt\", \"strawberry\", \"taste\", \"share\", \"s\", \"beer\", \"selection\", \"cool\", \"that\", \"there\", \"local\", \"wing\", \"game\", \"wall\", \"glad\", \"locate\", \"mushroom\", \"detail\", \"ok\", \"pleasant\", \"recommendation\", \"sample\", \"hungry\", \"afternoon\", \"efficient\", \"snack\", \"blue\", \"shopping\", \"environment\", \"smoothie\", \"hole\", \"sport\", \"tap\", \"sized\", \"non\", \"weekend\", \"cover\", \"feel\", \"party\", \"several\", \"regular\", \"reservation\", \"comfortable\", \"play\", \"waiter\", \"often\", \"rush\", \"guest\", \"welcome\", \"birthday\", \"past\", \"complaint\", \"touch\", \"chili\", \"wear\", \"mile\", \"french\", \"fairly\", \"driver\", \"chill\", \"polish\", \"patty\", \"venue\", \"flower\", \"years_ago\", \"chipotle\", \"surprised\", \"owner\", \"house\", \"shop\", \"run\", \"treat\", \"bill\", \"outside\", \"city\", \"kitchen\", \"window\", \"bag\", \"attention\", \"seating\", \"true\", \"update\", \"certainly\", \"catch\", \"easily\", \"mostly\", \"sad\", \"quiet\", \"bother\", \"alone\", \"ago\", \"animal\", \"frozen\", \"design\", \"straight\", \"reach\", \"limited\", \"store\", \"buy\", \"send\", \"sell\", \"book\", \"repair\", \"tire\", \"airport\", \"vehicle\", \"online\", \"insurance\", \"fly\", \"flight\", \"ticket\", \"elsewhere\", \"lie\", \"discount\", \"dentist\", \"heart\", \"account\", \"battery\", \"arizona\", \"address\", \"deep\", \"bottom\", \"lol\", \"website\", \"road\", \"particularly\", \"improve\", \"replace\", \"move\", \"life\", \"office\", \"due\", \"team\", \"drop\", \"level\", \"dollar\", \"complain\", \"massage\", \"healthy\", \"brand\", \"member\", \"treatment\", \"personal\", \"difference\", \"photo\", \"foot\", \"apartment\", \"korean\", \"lead\", \"warn\", \"japanese\", \"practice\", \"pink\", \"project\", \"training\", \"ensure\", \"because\", \"sick\", \"hair\", \"dog\", \"purchase\", \"product\", \"color\", \"salon\", \"casino\", \"doctor\", \"sale\", \"patient\", \"accommodate\", \"listen\", \"wash\", \"baby\", \"correct\", \"single\", \"pet\", \"concern\", \"laugh\", \"pain\", \"mother\", \"natural\", \"movie\", \"tuesday\", \"gift\", \"random\", \"policy\", \"meeting\", \"nurse\", \"paperwork\", \"cut\", \"car\", \"favorite\", \"taco\", \"pork\", \"mexican\", \"burrito\", \"authentic\", \"unique\", \"salsa\", \"bean\", \"interesting\", \"vibe\", \"rib\", \"shoe\", \"corn\", \"polite\", \"pancake\", \"latte\", \"nachos\", \"top_notch\", \"enjoyable\", \"package\", \"tortilla\", \"coconut\", \"bomb\", \"cashier\", \"michael\", \"classy\", \"drive_thru\", \"casual\", \"clean\", \"continue\", \"class\", \"incredibly\", \"hop\", \"boba\", \"pour\", \"credit\", \"spa\", \"tax\", \"pro\", \"paint\", \"screen\", \"support\", \"con\", \"deli\", \"organize\", \"produce\", \"thursday\", \"artist\", \"indoor\", \"department\", \"manicure\", \"wipe\", \"remodel\", \"convenience\", \"bonus\", \"overpriced\", \"student\", \"dad\"], \"Total\": [46206.0, 36597.0, 33550.0, 52923.0, 27013.0, 25584.0, 22589.0, 40855.0, 38729.0, 31298.0, 27884.0, 27682.0, 27647.0, 14427.0, 9555.0, 16733.0, 8563.0, 8501.0, 15875.0, 26187.0, 8438.0, 9367.0, 14881.0, 11333.0, 11378.0, 15899.0, 11765.0, 10529.0, 7120.0, 19196.0, 52923.921875, 40855.25390625, 38729.25390625, 31298.796875, 27884.734375, 27682.169921875, 27647.865234375, 19196.400390625, 16774.326171875, 12876.3037109375, 12787.2392578125, 12419.9326171875, 12290.693359375, 12102.6025390625, 11288.494140625, 10303.9697265625, 10292.9423828125, 10220.81640625, 9965.46484375, 9348.6845703125, 9316.4638671875, 8931.1376953125, 8643.1484375, 7594.544921875, 7418.78466796875, 7253.06689453125, 7204.1025390625, 6680.00244140625, 6491.10302734375, 6255.25244140625, 16403.525390625, 26187.75390625, 12682.6005859375, 21625.134765625, 10175.5224609375, 9526.46484375, 9515.8427734375, 8887.681640625, 7860.3056640625, 7300.05615234375, 6411.21826171875, 5353.5751953125, 4813.60498046875, 4765.22119140625, 4346.71533203125, 4266.41357421875, 4178.66162109375, 4138.578125, 4113.80322265625, 4006.949462890625, 3647.354248046875, 3462.12744140625, 3402.0966796875, 3334.546875, 3170.653076171875, 3056.46044921875, 2954.468505859375, 2857.703369140625, 2762.89794921875, 2723.46240234375, 2536.13134765625, 2528.871337890625, 2464.32568359375, 2454.584716796875, 10037.4580078125, 4275.4814453125, 3365.59912109375, 4454.1142578125, 6120.87353515625, 5420.04296875, 36597.0390625, 27013.384765625, 14427.9091796875, 10450.3203125, 10211.1298828125, 9807.244140625, 9054.7412109375, 8606.2939453125, 6150.5595703125, 4785.83642578125, 11765.4384765625, 3813.74951171875, 3155.595947265625, 3009.30615234375, 2929.5244140625, 2870.659912109375, 2781.309326171875, 2666.727294921875, 2495.88916015625, 2008.42333984375, 1557.3040771484375, 1370.6103515625, 1064.7552490234375, 1019.8037719726562, 998.0103149414062, 785.9876708984375, 766.5086059570312, 738.4429321289062, 719.774658203125, 697.3314208984375, 25584.875, 2565.456298828125, 3440.723876953125, 14881.2822265625, 10468.623046875, 15875.8037109375, 16733.306640625, 8224.5166015625, 15899.5263671875, 4216.28564453125, 21625.134765625, 22589.541015625, 9541.5087890625, 5916.4052734375, 5897.96630859375, 5500.25244140625, 4883.66455078125, 4485.9013671875, 4430.7119140625, 4269.41552734375, 4053.3935546875, 3689.602783203125, 3605.201904296875, 3403.62939453125, 3364.96826171875, 3268.281982421875, 3074.740966796875, 3051.344482421875, 2717.7802734375, 2636.519287109375, 2168.1171875, 2058.8955078125, 1900.63232421875, 1811.1259765625, 1659.6732177734375, 1632.363037109375, 1572.4791259765625, 1400.8800048828125, 1398.63720703125, 1343.9808349609375, 1332.1231689453125, 1689.1610107421875, 2373.2744140625, 3623.072509765625, 3836.5205078125, 4989.31201171875, 3015.278564453125, 3377.76123046875, 5451.43017578125, 6157.8720703125, 8174.755859375, 7232.45751953125, 46206.234375, 33550.828125, 11333.5048828125, 10529.84765625, 7870.29296875, 5950.16943359375, 4677.87109375, 4579.76611328125, 4264.33935546875, 2663.558837890625, 2608.798583984375, 2302.15234375, 2043.0435791015625, 1916.12451171875, 1656.5430908203125, 1555.259033203125, 1452.3798828125, 1400.3460693359375, 1301.5828857421875, 1163.3956298828125, 1143.602783203125, 1072.7442626953125, 1050.0738525390625, 943.8013916015625, 865.8804321289062, 851.9657592773438, 826.4849853515625, 736.7999267578125, 721.825927734375, 708.1929321289062, 11378.404296875, 1579.986328125, 6273.38671875, 2548.31494140625, 2711.636962890625, 6770.09716796875, 2949.143798828125, 8174.755859375, 5466.74365234375, 2969.317626953125, 7632.12890625, 2627.791748046875, 2654.538330078125, 9149.07421875, 5420.04296875, 7695.94189453125, 5951.36962890625, 5894.388671875, 4764.66796875, 4734.009765625, 4447.36474609375, 4326.5, 3654.67333984375, 3070.213623046875, 2743.9033203125, 2671.173828125, 2589.803466796875, 2321.54931640625, 1952.223388671875, 1821.9830322265625, 1563.390869140625, 1486.5517578125, 1420.052490234375, 1381.1513671875, 1345.9417724609375, 1301.889404296875, 1183.3546142578125, 1177.2947998046875, 1134.2579345703125, 1079.439453125, 1000.9052124023438, 996.7872314453125, 990.9049072265625, 983.0687255859375, 968.2802734375, 2741.140869140625, 7632.12890625, 5466.74365234375, 8224.5166015625, 5451.43017578125, 2507.899169921875, 9367.7255859375, 7830.73583984375, 7477.20068359375, 7137.654296875, 6893.6826171875, 5371.58251953125, 4938.1875, 3477.346435546875, 2878.17041015625, 2824.492919921875, 2446.209716796875, 2432.037353515625, 2236.569580078125, 2174.26513671875, 2081.769775390625, 1967.8106689453125, 1917.42529296875, 1841.00830078125, 1772.65966796875, 1729.85205078125, 1556.742431640625, 1542.4561767578125, 1462.4600830078125, 1358.8426513671875, 1320.3582763671875, 1114.555908203125, 979.7611694335938, 810.3999633789062, 798.9354248046875, 771.24365234375, 5413.62255859375, 5300.845703125, 1953.2431640625, 5327.2333984375, 4526.4013671875, 4264.0146484375, 4110.34423828125, 3296.60595703125, 2959.745361328125, 2855.49658203125, 2579.82275390625, 2299.644287109375, 2276.200927734375, 2154.123779296875, 2081.736572265625, 1977.3653564453125, 1975.8756103515625, 1736.038818359375, 1667.9346923828125, 1491.545166015625, 1412.4404296875, 1309.9593505859375, 1239.100830078125, 1164.4151611328125, 1085.313232421875, 1076.6466064453125, 969.2202758789062, 956.8250122070312, 876.4190673828125, 854.8057861328125, 829.06689453125, 808.9028930664062, 786.4730224609375, 920.9193115234375, 4932.9169921875, 1449.510498046875, 2507.899169921875, 6772.9482421875, 3953.42919921875, 2770.97021484375, 1891.44873046875, 1848.6883544921875, 1419.687744140625, 1300.9853515625, 1239.1607666015625, 891.7549438476562, 878.51708984375, 877.0180053710938, 822.6339721679688, 753.2843017578125, 715.4598999023438, 691.5701293945312, 673.6593017578125, 613.548583984375, 609.9461059570312, 608.0025024414062, 606.8192138671875, 586.711181640625, 585.93115234375, 578.3583984375, 572.1945190429688, 565.3700561523438, 550.8157348632812, 541.2974853515625, 536.8450317382812, 535.60595703125, 535.4592895507812, 2061.398681640625, 9555.2958984375, 8438.4404296875, 3076.03564453125, 3060.96875, 2568.81298828125, 2345.963623046875, 2176.767822265625, 1920.03369140625, 1825.6568603515625, 1713.255126953125, 1643.6722412109375, 1506.959716796875, 1488.2977294921875, 1092.725341796875, 1085.8907470703125, 1033.2392578125, 859.2958984375, 831.613525390625, 814.56640625, 811.0110473632812, 723.1192626953125, 687.0362548828125, 680.980712890625, 648.1664428710938, 644.4013061523438, 622.4527587890625, 585.2988891601562, 529.0877685546875, 526.3202514648438, 505.4060974121094, 5746.00830078125, 922.0717163085938, 925.8193359375, 721.527587890625, 7120.7529296875, 3345.91943359375, 2729.651611328125, 2415.338623046875, 1535.957763671875, 1349.9959716796875, 1275.34375, 1218.83154296875, 1205.7236328125, 1136.53955078125, 943.636962890625, 910.28955078125, 857.07958984375, 852.5291137695312, 830.9099731445312, 792.601318359375, 788.7942504882812, 747.1618041992188, 696.7152709960938, 691.2216796875, 662.9628295898438, 619.41357421875, 606.2439575195312, 591.1019287109375, 590.6570434570312, 578.886474609375, 577.6715087890625, 574.7049560546875, 570.8827514648438, 556.6177368164062, 6157.8720703125, 1528.7501220703125, 6685.953125, 3094.63525390625, 877.6524658203125, 7232.45751953125, 4817.28955078125, 3193.2998046875, 3179.518310546875, 2480.5166015625, 2244.918212890625, 2244.073486328125, 2159.489990234375, 1832.363037109375, 1825.0306396484375, 1596.8760986328125, 1591.168212890625, 1326.4111328125, 1184.3841552734375, 1144.4849853515625, 1029.1951904296875, 970.0950927734375, 936.4856567382812, 861.3300170898438, 839.6005249023438, 836.7499389648438, 818.4671020507812, 785.3072509765625, 776.3826904296875, 767.5491943359375, 756.1011352539062, 699.9024658203125, 635.0684204101562, 619.5219116210938, 601.2424926757812, 577.2421264648438, 7632.12890625, 1953.2431640625, 8501.341796875, 4441.8203125, 3652.7841796875, 2714.49560546875, 2649.865478515625, 2515.458984375, 2119.913818359375, 1813.322998046875, 1705.2650146484375, 1629.2401123046875, 1411.2357177734375, 1302.918212890625, 1046.94140625, 950.09130859375, 949.8772583007812, 875.5322875976562, 874.8258056640625, 856.775634765625, 850.7428588867188, 770.0869140625, 758.671875, 754.6660766601562, 652.3427734375, 617.0941772460938, 597.0211791992188, 592.45068359375, 525.9609375, 486.6662902832031, 481.3375549316406, 475.86285400390625, 626.1480102539062, 1721.1478271484375, 1050.145751953125, 8563.4716796875, 2510.9990234375, 2192.62060546875, 1921.7855224609375, 1805.137451171875, 1803.7647705078125, 1752.42724609375, 1694.620361328125, 1554.479736328125, 1525.3360595703125, 1521.586181640625, 1504.38232421875, 1322.4560546875, 1194.9869384765625, 1106.8729248046875, 1044.86181640625, 746.4391479492188, 726.1285400390625, 685.79638671875, 679.6715698242188, 657.1719360351562, 581.6756591796875, 566.4461059570312, 553.1559448242188, 547.4048461914062, 545.267578125, 527.0391235351562, 519.4143676757812, 506.44537353515625, 503.17431640625, 3908.447509765625, 3592.906005859375, 3478.564208984375, 3040.17822265625, 2308.669189453125, 1823.8712158203125, 1575.7545166015625, 1423.4937744140625, 1243.75, 1205.3660888671875, 1202.5128173828125, 1082.4957275390625, 1071.456298828125, 1006.4832153320312, 1002.7532958984375, 996.0413208007812, 927.067138671875, 814.69091796875, 801.0755004882812, 798.5017700195312, 765.446533203125, 752.3831787109375, 716.7451782226562, 714.744140625, 614.370361328125, 581.6611328125, 559.3788452148438, 558.7721557617188, 544.2722778320312, 507.1107482910156, 5088.9228515625, 3357.580322265625, 1541.3236083984375, 1528.6461181640625, 1334.7476806640625, 933.9568481445312, 915.8856811523438, 846.0645751953125, 843.5721435546875, 831.4075317382812, 785.644287109375, 760.9210815429688, 755.8009643554688, 751.3848266601562, 671.7113647460938, 671.1199340820312, 663.4801635742188, 643.4349365234375, 611.788818359375, 595.14794921875, 573.0079345703125, 549.0036010742188, 540.663330078125, 510.9288635253906, 494.8313903808594, 483.54840087890625, 463.3499755859375, 451.7181396484375, 426.29833984375, 417.47119140625, 666.1668701171875, 3162.12890625, 2049.779541015625, 1683.0430908203125, 1326.451416015625, 1233.4581298828125, 1229.32763671875, 1180.8997802734375, 1128.4168701171875, 1120.086181640625, 1065.9595947265625, 948.4541015625, 839.4202270507812, 758.0401611328125, 740.669189453125, 674.4806518554688, 638.2686157226562, 619.9903564453125, 609.7382202148438, 571.1488037109375, 530.5516967773438, 506.5062255859375, 498.2979431152344, 486.1717529296875, 432.65032958984375, 390.8849182128906, 373.9287414550781, 367.98004150390625, 366.8772888183594, 362.7327575683594, 362.5899658203125, 2786.816162109375, 2357.176513671875, 1760.4854736328125, 1363.5328369140625, 1335.7259521484375, 1316.38916015625, 1126.8525390625, 1117.15673828125, 1012.832763671875, 905.5629272460938, 879.7696533203125, 776.7347412109375, 699.9219970703125, 671.6806640625, 608.0116577148438, 576.3268432617188, 512.6671752929688, 492.1715393066406, 480.7950134277344, 465.4587707519531, 443.8977355957031, 440.23388671875, 436.448974609375, 425.7755126953125, 389.3914489746094, 386.71771240234375, 378.1208801269531, 370.9178771972656, 352.774169921875, 352.3531188964844, 2320.823486328125, 5415.65283203125, 4423.15380859375, 2895.7470703125, 1890.9091796875, 1516.888671875, 1307.60888671875, 1178.2763671875, 1135.60498046875, 1134.6114501953125, 1124.2718505859375, 893.2227783203125, 877.762451171875, 772.3455200195312, 638.5267333984375, 619.6864013671875, 618.7050170898438, 617.49169921875, 585.6209106445312, 580.830078125, 552.0693359375, 490.2007751464844, 471.2441711425781, 460.7580871582031, 442.1332702636719, 426.4602355957031, 413.221435546875, 376.1340026855469, 375.1239013671875, 344.1562805175781, 331.18359375, 5920.5703125, 1103.9814453125, 1076.331787109375, 807.2648315429688, 703.1776123046875, 678.5150756835938, 644.1831665039062, 609.014404296875, 608.94677734375, 600.0337524414062, 511.91851806640625, 467.90869140625, 454.8526916503906, 438.5020751953125, 432.00201416015625, 416.35040283203125, 388.54644775390625, 353.59991455078125, 329.9214782714844, 324.8896179199219, 320.0733337402344, 309.7644348144531, 304.9607849121094, 300.82000732421875, 286.9119567871094, 268.5379333496094, 258.7548522949219, 256.01239013671875, 249.42747497558594, 249.3732147216797], \"loglift\": [30.0, 29.0, 28.0, 27.0, 26.0, 25.0, 24.0, 23.0, 22.0, 21.0, 20.0, 19.0, 18.0, 17.0, 16.0, 15.0, 14.0, 13.0, 12.0, 11.0, 10.0, 9.0, 8.0, 7.0, 6.0, 5.0, 4.0, 3.0, 2.0, 1.0, 1.325700044631958, 1.325700044631958, 1.325700044631958, 1.325700044631958, 1.325700044631958, 1.325700044631958, 1.325700044631958, 1.325700044631958, 1.325700044631958, 1.325700044631958, 1.325700044631958, 1.325700044631958, 1.325700044631958, 1.325700044631958, 1.325700044631958, 1.325700044631958, 1.325700044631958, 1.325700044631958, 1.325700044631958, 1.325700044631958, 1.325700044631958, 1.325700044631958, 1.325700044631958, 1.325600028038025, 1.325600028038025, 1.325600028038025, 1.325600028038025, 1.325600028038025, 1.325600028038025, 1.325600028038025, 1.3207000494003296, 1.3085999488830566, 1.1749999523162842, 1.0341999530792236, 2.2797999382019043, 2.2797999382019043, 2.2797999382019043, 2.2797999382019043, 2.2797999382019043, 2.2797999382019043, 2.2797000408172607, 2.2797000408172607, 2.2797000408172607, 2.2797000408172607, 2.2797000408172607, 2.2797000408172607, 2.2797000408172607, 2.2797000408172607, 2.2797000408172607, 2.279599905014038, 2.279599905014038, 2.279599905014038, 2.279599905014038, 2.279599905014038, 2.279599905014038, 2.279599905014038, 2.279599905014038, 2.279599905014038, 2.2795000076293945, 2.2795000076293945, 2.2795000076293945, 2.2795000076293945, 2.2795000076293945, 2.2795000076293945, 2.278700113296509, 2.261899948120117, 2.2678000926971436, 2.2464001178741455, 2.2047998905181885, 1.8711999654769897, 2.404099941253662, 2.404099941253662, 2.4040000438690186, 2.4040000438690186, 2.4040000438690186, 2.4040000438690186, 2.4040000438690186, 2.4040000438690186, 2.4040000438690186, 2.403899908065796, 2.403899908065796, 2.403899908065796, 2.4038000106811523, 2.4038000106811523, 2.4038000106811523, 2.4038000106811523, 2.4038000106811523, 2.4038000106811523, 2.403700113296509, 2.403599977493286, 2.4035000801086426, 2.40339994430542, 2.4031999111175537, 2.4031999111175537, 2.4031999111175537, 2.402899980545044, 2.402899980545044, 2.4028000831604004, 2.4028000831604004, 2.4028000831604004, 2.398699998855591, 2.391400098800659, 2.345599889755249, 2.2655999660491943, 2.2462000846862793, 2.2149999141693115, 2.198199987411499, 2.1029000282287598, 1.9460999965667725, 1.9042999744415283, 0.3995000123977661, 2.5443999767303467, 2.544300079345703, 2.544300079345703, 2.544300079345703, 2.5441999435424805, 2.5441999435424805, 2.5441999435424805, 2.5441999435424805, 2.5441999435424805, 2.5441999435424805, 2.5441999435424805, 2.5441999435424805, 2.544100046157837, 2.544100046157837, 2.544100046157837, 2.544100046157837, 2.544100046157837, 2.544100046157837, 2.544100046157837, 2.5439999103546143, 2.5439999103546143, 2.5439000129699707, 2.5439000129699707, 2.5439000129699707, 2.543800115585327, 2.543800115585327, 2.5436999797821045, 2.5436999797821045, 2.5436999797821045, 2.5436999797821045, 2.543600082397461, 2.5380001068115234, 2.516700029373169, 2.4435999393463135, 2.3910000324249268, 2.445499897003174, 2.411900043487549, 2.2286999225616455, 2.1510000228881836, 1.6197999715805054, 1.6663999557495117, 2.597599983215332, 2.597599983215332, 2.597599983215332, 2.597599983215332, 2.5975000858306885, 2.5975000858306885, 2.5975000858306885, 2.597399950027466, 2.597399950027466, 2.5973000526428223, 2.5973000526428223, 2.5971999168395996, 2.5971999168395996, 2.5971999168395996, 2.597100019454956, 2.5969998836517334, 2.5969998836517334, 2.5969998836517334, 2.59689998626709, 2.5968000888824463, 2.5968000888824463, 2.5968000888824463, 2.5968000888824463, 2.5966999530792236, 2.59660005569458, 2.59660005569458, 2.5964999198913574, 2.596400022506714, 2.596400022506714, 2.596299886703491, 2.592400074005127, 2.58240008354187, 2.5157999992370605, 2.5429000854492188, 2.457900047302246, 2.3327999114990234, 2.4282000064849854, 2.0864999294281006, 2.114000082015991, 2.2967000007629395, 1.8087999820709229, 2.180500030517578, 2.0843000411987305, 1.0776000022888184, 1.500100016593933, 3.1117000579833984, 3.1117000579833984, 3.1117000579833984, 3.111599922180176, 3.111599922180176, 3.111599922180176, 3.111599922180176, 3.111599922180176, 3.1115000247955322, 3.1115000247955322, 3.1115000247955322, 3.1115000247955322, 3.1113998889923096, 3.1113998889923096, 3.111299991607666, 3.1112000942230225, 3.1112000942230225, 3.1112000942230225, 3.1112000942230225, 3.1110999584198, 3.1110999584198, 3.1110999584198, 3.1110000610351562, 3.1110000610351562, 3.1110000610351562, 3.1108999252319336, 3.1108999252319336, 3.1108999252319336, 3.1108999252319336, 3.1108999252319336, 2.9530999660491943, 2.1702001094818115, 2.1470999717712402, 1.7645000219345093, 1.8047000169754028, 2.357599973678589, 3.1756999492645264, 3.1756999492645264, 3.1756999492645264, 3.175600051879883, 3.175600051879883, 3.175600051879883, 3.175600051879883, 3.17549991607666, 3.1754000186920166, 3.1754000186920166, 3.1754000186920166, 3.1754000186920166, 3.1754000186920166, 3.175299882888794, 3.175299882888794, 3.175299882888794, 3.175299882888794, 3.175299882888794, 3.1751999855041504, 3.1751999855041504, 3.1751999855041504, 3.1751999855041504, 3.175100088119507, 3.175100088119507, 3.175100088119507, 3.1749000549316406, 3.174799919128418, 3.1745998859405518, 3.1745998859405518, 3.1745998859405518, 3.030100107192993, 2.9066998958587646, 2.7636001110076904, 3.3055999279022217, 3.3055999279022217, 3.3055999279022217, 3.3055999279022217, 3.305500030517578, 3.305500030517578, 3.305500030517578, 3.3053998947143555, 3.3053998947143555, 3.3053998947143555, 3.3053998947143555, 3.3053998947143555, 3.305299997329712, 3.305299997329712, 3.305299997329712, 3.3052000999450684, 3.3052000999450684, 3.3050999641418457, 3.3050999641418457, 3.305000066757202, 3.305000066757202, 3.3048999309539795, 3.3048999309539795, 3.304800033569336, 3.304800033569336, 3.3046998977661133, 3.3046998977661133, 3.3046998977661133, 3.3046000003814697, 3.3046000003814697, 3.301100015640259, 3.231100082397461, 3.254499912261963, 2.669600009918213, 3.476900100708008, 3.476799964904785, 3.4767000675201416, 3.476599931716919, 3.476599931716919, 3.4763998985290527, 3.476300001144409, 3.476300001144409, 3.4760000705718994, 3.4760000705718994, 3.4760000705718994, 3.4758999347686768, 3.475800037384033, 3.475800037384033, 3.4756999015808105, 3.4756999015808105, 3.4755001068115234, 3.4755001068115234, 3.4755001068115234, 3.4755001068115234, 3.4755001068115234, 3.4755001068115234, 3.475399971008301, 3.475399971008301, 3.475399971008301, 3.475399971008301, 3.4753000736236572, 3.4753000736236572, 3.4753000736236572, 3.4753000736236572, 3.2409000396728516, 3.5448999404907227, 3.5448999404907227, 3.5446999073028564, 3.5446999073028564, 3.5446999073028564, 3.544600009918213, 3.544600009918213, 3.544600009918213, 3.5445001125335693, 3.5445001125335693, 3.5445001125335693, 3.5443999767303467, 3.5443999767303467, 3.5441999435424805, 3.5441999435424805, 3.544100046157837, 3.5439999103546143, 3.5439000129699707, 3.5439000129699707, 3.5439000129699707, 3.5436999797821045, 3.5436999797821045, 3.5436999797821045, 3.543600082397461, 3.543600082397461, 3.5434999465942383, 3.5434000492095947, 3.543299913406372, 3.543299913406372, 3.5432000160217285, 3.11680006980896, 3.3508999347686768, 3.206399917602539, 3.352299928665161, 3.634700059890747, 3.6345999240875244, 3.634500026702881, 3.634500026702881, 3.634200096130371, 3.6340999603271484, 3.6340999603271484, 3.6340999603271484, 3.6340999603271484, 3.634000062942505, 3.6338000297546387, 3.6338000297546387, 3.633699893951416, 3.633699893951416, 3.633699893951416, 3.633699893951416, 3.633699893951416, 3.6335999965667725, 3.633500099182129, 3.633500099182129, 3.6333999633789062, 3.6333000659942627, 3.6333000659942627, 3.6333000659942627, 3.6333000659942627, 3.63319993019104, 3.63319993019104, 3.63319993019104, 3.63319993019104, 3.63319993019104, 2.4632999897003174, 2.9886999130249023, 1.7704999446868896, 2.3464999198913574, 3.282399892807007, 1.1830999851226807, 3.645900011062622, 3.6458001136779785, 3.6458001136779785, 3.645699977874756, 3.645699977874756, 3.645699977874756, 3.6456000804901123, 3.6456000804901123, 3.6456000804901123, 3.6454999446868896, 3.6454999446868896, 3.645400047302246, 3.6452999114990234, 3.6452999114990234, 3.64520001411438, 3.6451001167297363, 3.6451001167297363, 3.6449999809265137, 3.6449999809265137, 3.6449999809265137, 3.64490008354187, 3.64490008354187, 3.64490008354187, 3.64490008354187, 3.6447999477386475, 3.644700050354004, 3.6445999145507812, 3.6445999145507812, 3.6445000171661377, 3.644399881362915, 1.7851999998092651, 2.5594000816345215, 3.737600088119507, 3.737499952316284, 3.7374000549316406, 3.7374000549316406, 3.737299919128418, 3.737299919128418, 3.737299919128418, 3.7372000217437744, 3.7370998859405518, 3.7370998859405518, 3.736999988555908, 3.736999988555908, 3.736799955368042, 3.7367000579833984, 3.7367000579833984, 3.736599922180176, 3.736599922180176, 3.736599922180176, 3.736599922180176, 3.7365000247955322, 3.7365000247955322, 3.7365000247955322, 3.736299991607666, 3.7362000942230225, 3.7360999584198, 3.7360999584198, 3.7358999252319336, 3.73580002784729, 3.7356998920440674, 3.7356998920440674, 3.7172999382019043, 3.5413999557495117, 3.3280999660491943, 3.851900100708008, 3.851599931716919, 3.851599931716919, 3.8515000343322754, 3.8515000343322754, 3.8515000343322754, 3.8515000343322754, 3.8513998985290527, 3.8513998985290527, 3.8513998985290527, 3.8513998985290527, 3.8513998985290527, 3.851300001144409, 3.8512001037597656, 3.851099967956543, 3.851099967956543, 3.8506999015808105, 3.8506999015808105, 3.850600004196167, 3.850600004196167, 3.850600004196167, 3.850399971008301, 3.8503000736236572, 3.8503000736236572, 3.8503000736236572, 3.8503000736236572, 3.8501999378204346, 3.8501999378204346, 3.850100040435791, 3.850100040435791, 3.859600067138672, 3.859499931335449, 3.859499931335449, 3.859499931335449, 3.8594000339508057, 3.859299898147583, 3.8592000007629395, 3.8592000007629395, 3.859100103378296, 3.8589999675750732, 3.8589999675750732, 3.8589000701904297, 3.8589000701904297, 3.8589000701904297, 3.8589000701904297, 3.8589000701904297, 3.858799934387207, 3.8587000370025635, 3.858599901199341, 3.858599901199341, 3.858599901199341, 3.858599901199341, 3.8585000038146973, 3.8585000038146973, 3.858299970626831, 3.8582000732421875, 3.858099937438965, 3.858099937438965, 3.858099937438965, 3.8580000400543213, 3.8933000564575195, 3.893199920654297, 3.892899990081787, 3.892899990081787, 3.8928000926971436, 3.8924999237060547, 3.8924999237060547, 3.892400026321411, 3.892400026321411, 3.892400026321411, 3.8922998905181885, 3.8922998905181885, 3.8922998905181885, 3.8922998905181885, 3.8921000957489014, 3.8921000957489014, 3.8921000957489014, 3.8921000957489014, 3.8919999599456787, 3.8919999599456787, 3.891900062561035, 3.8917999267578125, 3.8917999267578125, 3.891700029373169, 3.8915998935699463, 3.8915998935699463, 3.8914999961853027, 3.8914999961853027, 3.8912999629974365, 3.8912999629974365, 3.8526999950408936, 4.0152997970581055, 4.015100002288818, 4.014999866485596, 4.014900207519531, 4.014800071716309, 4.014800071716309, 4.014800071716309, 4.014699935913086, 4.014699935913086, 4.014699935913086, 4.014599800109863, 4.014500141143799, 4.0142998695373535, 4.0142998695373535, 4.014200210571289, 4.014100074768066, 4.014100074768066, 4.013999938964844, 4.013899803161621, 4.013800144195557, 4.013700008392334, 4.013700008392334, 4.013599872589111, 4.013400077819824, 4.013199806213379, 4.0131001472473145, 4.013000011444092, 4.013000011444092, 4.013000011444092, 4.013000011444092, 4.023900032043457, 4.023900032043457, 4.023799896240234, 4.023600101470947, 4.023600101470947, 4.023600101470947, 4.023499965667725, 4.023399829864502, 4.023399829864502, 4.023200035095215, 4.023200035095215, 4.023099899291992, 4.022900104522705, 4.022900104522705, 4.02269983291626, 4.02269983291626, 4.022500038146973, 4.02239990234375, 4.022299766540527, 4.022299766540527, 4.022200107574463, 4.022200107574463, 4.02209997177124, 4.02209997177124, 4.021900177001953, 4.021900177001953, 4.0218000411987305, 4.0218000411987305, 4.021599769592285, 4.021599769592285, 3.8915998935699463, 4.059000015258789, 4.059000015258789, 4.058899879455566, 4.058700084686279, 4.058599948883057, 4.058499813079834, 4.0584001541137695, 4.0584001541137695, 4.058300018310547, 4.058300018310547, 4.05810022354126, 4.05810022354126, 4.058000087738037, 4.057700157165527, 4.057700157165527, 4.057700157165527, 4.057700157165527, 4.057600021362305, 4.057600021362305, 4.057499885559082, 4.057300090789795, 4.057199954986572, 4.05709981918335, 4.05709981918335, 4.057000160217285, 4.0569000244140625, 4.056700229644775, 4.056700229644775, 4.056399822235107, 4.056300163269043, 4.273600101470947, 4.272900104522705, 4.272900104522705, 4.272600173950195, 4.27239990234375, 4.27239990234375, 4.272299766540527, 4.272200107574463, 4.272200107574463, 4.272200107574463, 4.271900177001953, 4.2718000411987305, 4.271699905395508, 4.271599769592285, 4.271599769592285, 4.271500110626221, 4.271399974822998, 4.271100044250488, 4.270899772644043, 4.270899772644043, 4.2708001136779785, 4.270699977874756, 4.270699977874756, 4.270599842071533, 4.270500183105469, 4.270299911499023, 4.270100116729736, 4.270100116729736, 4.269999980926514, 4.269999980926514], \"logprob\": [30.0, 29.0, 28.0, 27.0, 26.0, 25.0, 24.0, 23.0, 22.0, 21.0, 20.0, 19.0, 18.0, 17.0, 16.0, 15.0, 14.0, 13.0, 12.0, 11.0, 10.0, 9.0, 8.0, 7.0, 6.0, 5.0, 4.0, 3.0, 2.0, 1.0, -2.88700008392334, -3.1458001136779785, -3.1993000507354736, -3.4123001098632812, -3.5278000831604004, -3.535099983215332, -3.53629994392395, -3.90120005607605, -4.035999774932861, -4.30049991607666, -4.307499885559082, -4.336599826812744, -4.347099781036377, -4.362500190734863, -4.43209981918335, -4.523399829864502, -4.524499893188477, -4.531499862670898, -4.55679988861084, -4.620699882507324, -4.624100208282471, -4.666399955749512, -4.69920015335083, -4.828499794006348, -4.851900100708008, -4.874499797821045, -4.88129997253418, -4.956900119781494, -4.985499858856201, -5.022600173950195, -4.063399791717529, -3.6077001094818115, -4.466300010681152, -4.073500156402588, -3.5817999839782715, -3.647700071334839, -3.6487998962402344, -3.717099905014038, -3.8399999141693115, -3.9140000343322754, -4.043799877166748, -4.224100112915039, -4.33050012588501, -4.34060001373291, -4.432499885559082, -4.451200008392334, -4.47189998626709, -4.481599807739258, -4.487599849700928, -4.513899803161621, -4.607999801635742, -4.660099983215332, -4.677599906921387, -4.697700023651123, -4.7480998039245605, -4.784800052642822, -4.818699836730957, -4.8520002365112305, -4.885799884796143, -4.900100231170654, -4.971399784088135, -4.974299907684326, -5.000199794769287, -5.0040998458862305, -3.59660005569458, -4.466800212860107, -4.700200080871582, -4.441400051116943, -4.16510009765625, -4.620299816131592, -2.177500009536743, -2.4811999797821045, -3.1084001064300537, -3.4309000968933105, -3.4540998935699463, -3.494499921798706, -3.5743000507354736, -3.6250998973846436, -3.9611001014709473, -4.211999893188477, -3.3125998973846436, -4.4390997886657715, -4.628600120544434, -4.67609977722168, -4.703000068664551, -4.723299980163574, -4.754899978637695, -4.796999931335449, -4.8632001876831055, -5.080599784851074, -5.335100173950195, -5.462900161743164, -5.71560001373291, -5.758800029754639, -5.780399799346924, -6.019499778747559, -6.044600009918213, -6.081999778747559, -6.107600212097168, -6.1392998695373535, -2.5408999919891357, -4.848100185394287, -4.600299835205078, -3.2158000469207764, -3.5869998931884766, -3.2018001079559326, -3.1659998893737793, -3.9714999198913574, -3.4691998958587646, -4.838399887084961, -4.7083001136779785, -2.519700050354004, -3.3815999031066895, -3.859600067138672, -3.8626999855041504, -3.9326000213623047, -4.051499843597412, -4.13640022277832, -4.148799896240234, -4.1859002113342285, -4.2378997802734375, -4.331900119781494, -4.355100154876709, -4.412600040435791, -4.423999786376953, -4.453199863433838, -4.5142998695373535, -4.521900177001953, -4.637700080871582, -4.668099880218506, -4.863699913024902, -4.915500164031982, -4.995500087738037, -5.043700218200684, -5.131100177764893, -5.14769983291626, -5.185100078582764, -5.3007001876831055, -5.302299976348877, -5.342199802398682, -5.351099967956543, -5.113699913024902, -4.779300212860107, -4.377600193023682, -4.393400192260742, -4.183300018310547, -4.632400035858154, -4.552499771118164, -4.2571001052856445, -4.212900161743164, -4.4608001708984375, -4.536600112915039, -1.7508000135421753, -2.0708999633789062, -3.1563000679016113, -3.22979998588562, -3.5209999084472656, -3.8006999492645264, -4.041299819946289, -4.0625, -4.133900165557861, -4.604599952697754, -4.625400066375732, -4.750500202178955, -4.869999885559082, -4.934100151062012, -5.079800128936768, -5.142899990081787, -5.211400032043457, -5.247900009155273, -5.321100234985352, -5.4334001541137695, -5.4506001472473145, -5.514599800109863, -5.535999774932861, -5.6427998542785645, -5.729000091552734, -5.745200157165527, -5.775599956512451, -5.890600204467773, -5.911200046539307, -5.930300235748291, -3.157399892807007, -5.14169979095459, -3.8294999599456787, -4.7032999992370605, -4.726200103759766, -3.936300039291382, -4.671899795532227, -3.9941000938415527, -4.368899822235107, -4.796599864959717, -4.340400218963623, -5.034999847412109, -5.120999813079834, -4.8902997970581055, -4.991399765014648, -3.0292000770568848, -3.28629994392395, -3.2959001064300537, -3.508699893951416, -3.515199899673462, -3.5776000022888184, -3.6052000522613525, -3.7739999294281006, -3.9482998847961426, -4.060699939727783, -4.087600231170654, -4.118500232696533, -4.22790002822876, -4.401299953460693, -4.470300197601318, -4.623499870300293, -4.673900127410889, -4.719699859619141, -4.747499942779541, -4.7733001708984375, -4.806600093841553, -4.902200222015381, -4.907299995422363, -4.9446001052856445, -4.994200229644775, -5.069799900054932, -5.07390022277832, -5.079800128936768, -5.087800025939941, -5.10290002822876, -4.220099925994873, -3.9790000915527344, -4.3358001708984375, -4.309999942779541, -4.681000232696533, -4.904600143432617, -2.7685999870300293, -2.9479000568389893, -2.9941000938415527, -3.040600061416626, -3.0752999782562256, -3.324899911880493, -3.4089999198913574, -3.7597999572753906, -3.9489998817443848, -3.9677999019622803, -4.111700057983398, -4.117499828338623, -4.201300144195557, -4.229599952697754, -4.2729997634887695, -4.329400062561035, -4.355299949645996, -4.395999908447266, -4.433899879455566, -4.4583001136779785, -4.563799858093262, -4.572999954223633, -4.626299858093262, -4.699900150299072, -4.728600025177002, -4.898200035095215, -5.027200222015381, -5.217199802398682, -5.231500148773193, -5.2667999267578125, -3.462599992752075, -3.6070001125335693, -4.748499870300293, -3.2030999660491943, -3.3661000728607178, -3.425800085067749, -3.4625000953674316, -3.683199882507324, -3.7909998893737793, -3.826900005340576, -3.9284000396728516, -4.043399810791016, -4.053699970245361, -4.108799934387207, -4.14300012588501, -4.194499969482422, -4.195300102233887, -4.324699878692627, -4.364799976348877, -4.476600170135498, -4.531099796295166, -4.606500148773193, -4.662199974060059, -4.724400043487549, -4.7947998046875, -4.802800178527832, -4.9079999923706055, -4.920899868011475, -5.008800029754639, -5.03380012512207, -5.0644001960754395, -5.089000225067139, -5.117199897766113, -4.962900161743164, -3.354599952697754, -4.5559000968933105, -4.59250020980835, -2.7916998863220215, -3.330199956893921, -3.685699939727783, -4.067699909210205, -4.09060001373291, -4.354700088500977, -4.4421000480651855, -4.490799903869629, -4.820099830627441, -4.835100173950195, -4.8368000984191895, -4.900899887084961, -4.989099979400635, -5.0406999588012695, -5.074699878692627, -5.100900173187256, -5.194499969482422, -5.200399875640869, -5.20359992980957, -5.205599784851074, -5.239299774169922, -5.240699768066406, -5.253699779510498, -5.264400005340576, -5.276500225067139, -5.302599906921387, -5.320000171661377, -5.3282999992370605, -5.330599784851074, -5.330900192260742, -4.217299938201904, -2.3796000480651855, -2.5039000511169434, -3.513200044631958, -3.5181000232696533, -3.69350004196167, -3.7843000888824463, -3.859100103378296, -3.9846999645233154, -4.035099983215332, -4.098700046539307, -4.140200138092041, -4.227099895477295, -4.239500045776367, -4.548699855804443, -4.554999828338623, -4.604800224304199, -4.789299964904785, -4.8221001625061035, -4.842800140380859, -4.8471999168396, -4.961999893188477, -5.013299942016602, -5.02209997177124, -5.071599960327148, -5.077400207519531, -5.112100124359131, -5.173799991607666, -5.274899959564209, -5.280200004577637, -5.320799827575684, -3.3162999153137207, -4.911799907684326, -5.052299976348877, -5.155600070953369, -2.583899974822998, -3.3392999172210693, -3.5429000854492188, -3.665299892425537, -4.118199825286865, -4.247300148010254, -4.304299831390381, -4.349599838256836, -4.360400199890137, -4.419600009918213, -4.605800151824951, -4.6417999267578125, -4.702099800109863, -4.707399845123291, -4.733099937438965, -4.780399799346924, -4.785200119018555, -4.8394999504089355, -4.9095001220703125, -4.917399883270264, -4.959199905395508, -5.027200222015381, -5.048799991607666, -5.074100017547607, -5.074900150299072, -5.09499979019165, -5.097099781036377, -5.10230016708374, -5.109000205993652, -5.134300231933594, -3.900599956512451, -4.768499851226807, -4.511099815368652, -4.705399990081787, -5.029699802398682, -5.019899845123291, -2.9635000228881836, -3.374799966812134, -3.3791000843048096, -3.6273999214172363, -3.727299928665161, -3.72760009765625, -3.7660999298095703, -3.9303998947143555, -3.9344000816345215, -4.0680999755859375, -4.071599960327148, -4.253699779510498, -4.367099761962891, -4.401400089263916, -4.507599830627441, -4.566800117492676, -4.602099895477295, -4.6859002113342285, -4.71150016784668, -4.714900016784668, -4.736999988555908, -4.77839994430542, -4.78980016708374, -4.801300048828125, -4.816299915313721, -4.893700122833252, -4.991000175476074, -5.0157999992370605, -5.04580020904541, -5.086599826812744, -4.363999843597412, -4.952700138092041, -2.303800106048584, -2.953000068664551, -3.148699998855591, -3.4456000328063965, -3.4697000980377197, -3.5218000411987305, -3.693000078201294, -3.8492000102996826, -3.9107000827789307, -3.956399917602539, -4.100100040435791, -4.179999828338623, -4.398900032043457, -4.496099948883057, -4.496300220489502, -4.577899932861328, -4.578700065612793, -4.599599838256836, -4.606599807739258, -4.706399917602539, -4.72130012512207, -4.726600170135498, -4.872499942779541, -4.928100109100342, -4.961299896240234, -4.968999862670898, -5.088200092315674, -5.165999889373779, -5.177000045776367, -5.188499927520752, -4.932499885559082, -4.0971999168396, -4.804599761962891, -2.1821999549865723, -3.4093000888824463, -3.5448999404907227, -3.676800012588501, -3.739500045776367, -3.7402000427246094, -3.7690999507904053, -3.8027000427246094, -3.8891000747680664, -3.9079999923706055, -3.9105000495910645, -3.921799898147583, -4.05079984664917, -4.152200222015381, -4.228899955749512, -4.286600112915039, -4.623300075531006, -4.650899887084961, -4.708099842071533, -4.717100143432617, -4.750800132751465, -4.873000144958496, -4.899600028991699, -4.923399925231934, -4.933899879455566, -4.93779993057251, -4.97189998626709, -4.986499786376953, -5.0117998123168945, -5.0183000564575195, -2.958899974822998, -3.043100118637085, -3.0754001140594482, -3.210200071334839, -3.4855000972747803, -3.721299886703491, -3.8675999641418457, -3.9693000316619873, -4.104400157928467, -4.135799884796143, -4.1381001472473145, -4.2434000968933105, -4.253600120544434, -4.316199779510498, -4.320000171661377, -4.326700210571289, -4.398499965667725, -4.527900218963623, -4.5447001457214355, -4.547999858856201, -4.5903000831604, -4.607500076293945, -4.656099796295166, -4.658899784088135, -4.810500144958496, -4.865300178527832, -4.904399871826172, -4.9054999351501465, -4.93179988861084, -5.002699851989746, -2.6612000465393066, -3.0771000385284424, -3.8559999465942383, -3.864300012588501, -4.0, -4.357399940490723, -4.376999855041504, -4.456299781799316, -4.4593000411987305, -4.473800182342529, -4.5304999351501465, -4.5625, -4.569300174713135, -4.575099945068359, -4.687399864196777, -4.688300132751465, -4.699699878692627, -4.730500221252441, -4.781000137329102, -4.808599948883057, -4.84660005569458, -4.889400005340576, -4.904799938201904, -4.961400032043457, -4.993500232696533, -5.016600131988525, -5.0594000816345215, -5.084799766540527, -5.142899990081787, -5.16379976272583, -4.735099792480469, -3.0151000022888184, -3.448699951171875, -3.6459999084472656, -3.884200096130371, -3.9570000171661377, -3.9602999687194824, -4.000500202178955, -4.046000003814697, -4.053400039672852, -4.103000164031982, -4.219900131225586, -4.342199802398682, -4.444300174713135, -4.46750020980835, -4.561200141906738, -4.616499900817871, -4.645599842071533, -4.662300109863281, -4.727799892425537, -4.801599979400635, -4.848100185394287, -4.864500045776367, -4.889100074768066, -5.00600004196167, -5.107800006866455, -5.152200222015381, -5.168300151824951, -5.171299934387207, -5.182700157165527, -5.18310022354126, -3.132699966430664, -3.3001999855041504, -3.5922000408172607, -3.847899913787842, -3.868499994277954, -3.8831000328063965, -4.038700103759766, -4.047399997711182, -4.145500183105469, -4.257500171661377, -4.286499977111816, -4.411200046539307, -4.515399932861328, -4.556700229644775, -4.656400203704834, -4.710000038146973, -4.827300071716309, -4.868100166320801, -4.891600131988525, -4.924099922180176, -4.97160005569458, -4.979899883270264, -4.988500118255615, -5.013400077819824, -5.10290002822876, -5.109799861907959, -5.132299900054932, -5.151599884033203, -5.201900005340576, -5.203100204467773, -3.447999954223633, -2.433300018310547, -2.6357998847961426, -3.059499979019165, -3.4858999252319336, -3.706399917602539, -3.8548998832702637, -3.959199905395508, -3.9960999488830566, -3.996999979019165, -4.006100177764893, -4.236400127410889, -4.253900051116943, -4.381999969482422, -4.572500228881836, -4.602499961853027, -4.604100227355957, -4.605999946594238, -4.65910005569458, -4.667300224304199, -4.718200206756592, -4.837299823760986, -4.876800060272217, -4.8993000984191895, -4.940700054168701, -4.976900100708008, -5.008500099182129, -5.102700233459473, -5.105400085449219, -5.191800117492676, -5.230299949645996, -2.1296000480651855, -3.809799909591675, -3.835099935531616, -4.1230998039245605, -4.261300086975098, -4.297100067138672, -4.349100112915039, -4.405300140380859, -4.405399799346924, -4.420199871063232, -4.57919979095459, -4.669300079345703, -4.697700023651123, -4.734399795532227, -4.749300003051758, -4.786300182342529, -4.855599880218506, -4.950099945068359, -5.019599914550781, -5.034999847412109, -5.050000190734863, -5.082799911499023, -5.098499774932861, -5.112199783325195, -5.1596999168396, -5.226099967956543, -5.263299942016602, -5.27400016784668, -5.30019998550415, -5.3003997802734375]}, \"token.table\": {\"Topic\": [2, 3, 18, 16, 4, 16, 11, 13, 15, 10, 16, 4, 10, 15, 1, 3, 4, 3, 3, 8, 15, 2, 2, 5, 9, 17, 7, 2, 4, 11, 16, 20, 8, 1, 7, 15, 3, 19, 5, 5, 10, 18, 1, 4, 1, 15, 7, 7, 11, 16, 6, 1, 19, 5, 7, 17, 11, 8, 13, 5, 2, 5, 8, 15, 14, 4, 8, 6, 13, 20, 19, 20, 16, 15, 7, 16, 4, 8, 17, 6, 7, 4, 11, 9, 11, 11, 5, 7, 19, 2, 6, 16, 8, 10, 1, 19, 10, 2, 18, 8, 19, 18, 19, 15, 11, 15, 1, 11, 10, 3, 5, 11, 1, 11, 6, 5, 6, 14, 14, 5, 5, 14, 8, 4, 8, 15, 20, 19, 20, 2, 9, 4, 19, 4, 4, 18, 5, 1, 3, 4, 14, 3, 17, 14, 20, 18, 10, 20, 20, 9, 6, 12, 13, 19, 8, 18, 10, 1, 3, 9, 7, 10, 13, 12, 20, 6, 6, 2, 6, 18, 3, 20, 8, 8, 2, 10, 5, 7, 16, 3, 20, 3, 6, 16, 20, 15, 12, 13, 8, 17, 1, 3, 8, 12, 4, 7, 9, 4, 16, 10, 6, 1, 18, 18, 17, 5, 12, 7, 2, 19, 14, 17, 12, 17, 15, 5, 6, 13, 4, 16, 2, 8, 10, 4, 7, 19, 17, 6, 13, 1, 3, 1, 7, 7, 1, 3, 2, 5, 3, 5, 5, 16, 1, 2, 12, 3, 5, 14, 2, 8, 5, 2, 5, 3, 5, 11, 19, 11, 14, 1, 4, 8, 2, 2, 1, 6, 9, 10, 12, 16, 14, 16, 5, 17, 8, 1, 11, 14, 4, 5, 7, 3, 11, 15, 12, 6, 7, 13, 6, 1, 18, 9, 1, 13, 7, 1, 5, 8, 3, 4, 6, 7, 14, 2, 11, 18, 9, 1, 3, 17, 16, 9, 2, 3, 8, 12, 3, 13, 2, 20, 10, 4, 11, 1, 15, 8, 13, 12, 12, 16, 12, 20, 20, 10, 4, 16, 19, 10, 4, 8, 17, 2, 12, 2, 11, 11, 15, 1, 9, 17, 8, 10, 4, 7, 10, 19, 18, 17, 1, 12, 17, 16, 17, 8, 15, 7, 18, 4, 2, 8, 13, 13, 9, 16, 1, 2, 1, 4, 11, 3, 4, 11, 7, 1, 2, 3, 4, 20, 2, 5, 8, 9, 17, 4, 5, 6, 6, 5, 18, 9, 12, 17, 4, 5, 6, 19, 19, 14, 1, 7, 11, 10, 15, 18, 12, 17, 18, 1, 5, 13, 7, 3, 19, 10, 18, 2, 3, 1, 2, 3, 11, 7, 13, 20, 6, 1, 18, 17, 14, 13, 2, 6, 16, 10, 4, 4, 20, 9, 15, 5, 4, 20, 15, 19, 18, 20, 19, 18, 11, 11, 16, 14, 14, 6, 18, 12, 14, 1, 10, 10, 1, 4, 12, 17, 18, 3, 17, 6, 8, 17, 4, 3, 11, 4, 6, 14, 13, 18, 14, 19, 11, 19, 5, 6, 10, 6, 20, 17, 4, 8, 5, 5, 9, 10, 5, 5, 9, 20, 2, 20, 18, 17, 18, 8, 3, 15, 4, 10, 18, 9, 15, 8, 1, 3, 5, 5, 10, 3, 13, 4, 10, 10, 9, 14, 11, 20, 11, 16, 10, 16, 14, 10, 5, 1, 2, 1, 2, 19, 2, 3, 10, 1, 16, 5, 11, 10, 15, 14, 13, 15, 6, 18, 6, 18, 19, 12, 13, 6, 6, 8, 10, 1, 11, 20, 6, 6, 4, 15, 11, 1, 13, 16, 16, 11, 4, 6, 7, 1, 2, 3, 10, 14, 7, 12, 19, 15, 13, 2, 12, 17, 4, 6, 9, 18, 1, 7, 10, 8, 13, 9, 4, 12, 4, 4, 8, 12, 13, 13, 8, 8, 2, 6, 20, 4, 11, 5, 6, 13, 3, 4, 3, 9, 3, 9, 2, 12, 1, 9, 16, 9, 15, 12, 9, 11, 20, 8, 10, 7, 5, 20, 14, 9, 4, 6, 7, 19, 1, 2, 13, 5, 6, 12, 4, 9, 20, 12, 17, 10, 6, 10, 12, 3, 2, 13, 13, 1, 1, 20, 16, 1, 5, 16, 2, 11, 3, 4, 12, 19, 19, 14, 3, 17, 15, 17, 9, 15, 1, 3, 4, 6, 18, 12, 19, 15, 2, 1, 5, 9, 5, 5, 9, 6, 16, 14, 19, 7, 12, 1, 14, 1, 4, 13, 1, 17, 18, 1, 14, 16, 11, 3, 11, 13, 14, 1, 2, 3, 4, 5, 9, 12, 15, 7, 13, 20, 7, 2, 11, 8, 1, 11, 2, 14], \"Freq\": [0.9997538924217224, 0.9996437430381775, 0.9991251826286316, 0.9980711340904236, 0.9997590184211731, 0.9987730979919434, 0.9979481101036072, 0.9985885620117188, 0.9989588856697083, 0.999262273311615, 0.9987417459487915, 0.28623294830322266, 0.7128820419311523, 0.9989603161811829, 0.01827799528837204, 0.8706911206245422, 0.11094474047422409, 0.999873161315918, 0.9998496770858765, 0.9991377592086792, 0.9977694749832153, 0.9997617602348328, 0.9879370331764221, 0.011884956620633602, 0.9979124069213867, 0.9979885816574097, 0.9997453093528748, 0.015265013091266155, 0.6747460961341858, 0.30984729528427124, 0.9981719851493835, 0.9972617626190186, 0.9990573525428772, 0.999908447265625, 0.9996128082275391, 0.9995420575141907, 0.9992913007736206, 0.998916745185852, 0.9990387558937073, 0.9998137950897217, 0.9993361830711365, 0.9989866018295288, 0.9999270439147949, 0.999312698841095, 0.9998671412467957, 0.9995735287666321, 0.9999060034751892, 0.9994522929191589, 0.9993998408317566, 0.9982409477233887, 0.9992102384567261, 0.9999687075614929, 0.9988687634468079, 0.9989832043647766, 0.9996302127838135, 0.9979798793792725, 0.998904824256897, 0.999748170375824, 0.9998153448104858, 0.9990499019622803, 0.13017967343330383, 0.8695854544639587, 0.9997684955596924, 0.99952232837677, 0.9996551275253296, 0.999772310256958, 0.9991115927696228, 0.999095618724823, 0.9979416131973267, 0.9992408752441406, 0.9989207983016968, 0.9970827698707581, 0.9994398355484009, 0.9981616139411926, 0.9995012283325195, 0.9983198642730713, 0.9996672868728638, 0.9996345043182373, 0.9983080625534058, 0.9996708035469055, 0.9989712834358215, 0.9995594024658203, 0.9989463686943054, 0.999762773513794, 0.9982326030731201, 0.9987733364105225, 0.9998034834861755, 0.998829185962677, 0.9995343685150146, 0.9996287226676941, 0.9988909363746643, 0.9998271465301514, 0.9993094801902771, 0.9999477863311768, 0.9998300671577454, 0.9998794794082642, 0.9991797208786011, 0.9669711589813232, 0.03277868404984474, 0.9988837838172913, 0.9970440864562988, 0.999243438243866, 0.9964261651039124, 0.9988489151000977, 0.9989733695983887, 0.9989545345306396, 0.2962448298931122, 0.7030117511749268, 0.9996632933616638, 0.9989237785339355, 0.9469002485275269, 0.05297618359327316, 0.8449057340621948, 0.15495173633098602, 0.9998598098754883, 0.9991904497146606, 0.9998776316642761, 0.9994117021560669, 0.9992124438285828, 0.9988003969192505, 0.9994131326675415, 0.9991205930709839, 0.9994395971298218, 0.9998030662536621, 0.9994723796844482, 0.9996531009674072, 0.9987626671791077, 0.9970039129257202, 0.999903678894043, 0.9997630715370178, 0.9995155930519104, 0.9991568326950073, 0.9974368214607239, 0.9998366236686707, 0.9997128844261169, 0.999456524848938, 0.9994131922721863, 0.9830167293548584, 0.006377026438713074, 0.010577462613582611, 0.9995760321617126, 0.9989876747131348, 0.9990302920341492, 0.9992113709449768, 0.9976805448532104, 0.99761962890625, 0.9984918832778931, 0.999110996723175, 0.9979968070983887, 0.9987878799438477, 0.9996047019958496, 0.998710572719574, 0.999817430973053, 0.9988923668861389, 0.9983808398246765, 0.998336136341095, 0.9992673993110657, 0.9998987317085266, 0.9998210072517395, 0.998839259147644, 0.9994181394577026, 0.3351915776729584, 0.6637173891067505, 0.9988711476325989, 0.9983343482017517, 0.999258816242218, 0.9986777901649475, 0.9998553395271301, 0.12366300076246262, 0.8759821653366089, 0.999211847782135, 0.994493305683136, 0.9987131357192993, 0.9992676377296448, 0.9999486804008484, 0.9974915385246277, 0.9997901916503906, 0.9995880126953125, 0.9981819987297058, 0.9999181628227234, 0.9967565536499023, 0.7399827241897583, 0.2599544823169708, 0.9977698922157288, 0.9975321888923645, 0.9975350499153137, 0.9995929598808289, 0.9988513588905334, 0.9993994235992432, 0.9980124235153198, 0.38801926374435425, 0.6066951155662537, 0.005217862781137228, 0.9988387227058411, 0.9993783235549927, 0.9997595548629761, 0.9991534352302551, 0.9996953010559082, 0.9992762804031372, 0.9979440569877625, 0.9997866749763489, 0.9999745488166809, 0.9989645481109619, 0.9995008707046509, 0.9987443685531616, 0.9988664388656616, 0.9995762705802917, 0.9999225735664368, 0.999553918838501, 0.9966402649879456, 0.9988384246826172, 0.9989200234413147, 0.9994352459907532, 0.9996596574783325, 0.9991519451141357, 0.9947792291641235, 0.005097375717014074, 0.9991143941879272, 0.9994847178459167, 0.9989409446716309, 0.9996554255485535, 0.9280512928962708, 0.071762815117836, 0.13539916276931763, 0.8644858598709106, 0.9975504279136658, 0.9976087808609009, 0.9988552927970886, 0.9982895255088806, 0.012473414652049541, 0.987348735332489, 0.999924898147583, 0.9996854066848755, 0.9992231130599976, 0.05667411908507347, 0.9431154727935791, 0.23264068365097046, 0.7673449516296387, 0.9998252391815186, 0.9983155131340027, 0.9848186373710632, 0.014557087793946266, 0.0010958949569612741, 0.998758852481842, 0.9997917413711548, 0.9980906844139099, 0.9993062019348145, 0.9982166886329651, 0.9997940063476562, 0.9997198581695557, 0.9994994401931763, 0.40119969844818115, 0.598597526550293, 0.259655624628067, 0.7402374148368835, 0.9981358051300049, 0.9997391700744629, 0.9977178573608398, 0.9999449253082275, 0.0033708701375871897, 0.9935640096664429, 0.002528152661398053, 0.9998301863670349, 0.999951183795929, 0.999920129776001, 0.9996897578239441, 0.9992293119430542, 0.9996402263641357, 0.9997323155403137, 0.9989402294158936, 0.9980283975601196, 0.9987894892692566, 0.999975323677063, 0.9987893104553223, 0.9994016289710999, 0.7238332629203796, 0.27563831210136414, 0.9990119338035583, 0.0784265398979187, 0.9213523864746094, 0.9999009966850281, 0.9998736381530762, 0.9987403750419617, 0.9988633990287781, 0.9991037249565125, 0.9997643828392029, 0.9995933771133423, 0.9992581605911255, 0.9991103410720825, 0.9999693036079407, 0.9964265823364258, 0.9976029992103577, 0.9999030828475952, 0.9991243481636047, 0.9996278882026672, 0.999967634677887, 0.9999732971191406, 0.9996881484985352, 0.9999487400054932, 0.9995943903923035, 0.9993733167648315, 0.9995054602622986, 0.9996147751808167, 0.9997437000274658, 0.9985833764076233, 0.9997071623802185, 0.9986500144004822, 0.3674323260784149, 0.6325345635414124, 0.9995211958885193, 0.9987106323242188, 0.9991756081581116, 0.9996686577796936, 0.999529242515564, 0.9998161792755127, 0.9983176589012146, 0.9995659589767456, 0.9981729984283447, 0.99989253282547, 0.9983252882957458, 0.999363124370575, 0.9997990727424622, 0.9997252225875854, 0.9998469352722168, 0.9997478127479553, 0.9998260736465454, 0.9991267919540405, 0.9988313317298889, 0.9992561340332031, 0.9988713264465332, 0.9995216131210327, 0.9984331727027893, 0.9966465830802917, 0.9972178936004639, 0.9995443820953369, 0.9991798996925354, 0.9986310601234436, 0.9996472597122192, 0.9992702007293701, 0.9996729493141174, 0.9975898265838623, 0.9996776580810547, 0.9982190728187561, 0.9998742938041687, 0.9997612833976746, 0.9984537363052368, 0.9993969798088074, 0.9999562501907349, 0.99906325340271, 0.9989601373672485, 0.949975848197937, 0.04967194050550461, 0.9996077418327332, 0.9995231032371521, 0.9996834993362427, 0.9989397525787354, 0.9983464479446411, 0.9990005493164062, 0.9997997879981995, 0.9991575479507446, 0.9992380738258362, 0.9983312487602234, 0.999619722366333, 0.9996461868286133, 0.997809648513794, 0.9995074272155762, 0.9990540742874146, 0.999946653842926, 0.9998414516448975, 0.9987409710884094, 0.9995689392089844, 0.9992952346801758, 0.9998599886894226, 0.9988659024238586, 0.8600759506225586, 0.13979782164096832, 0.4981709122657776, 0.4156263470649719, 0.08613946288824081, 0.9999369978904724, 0.9998639225959778, 0.9985476732254028, 0.9993798732757568, 0.7470936179161072, 0.11569870263338089, 0.1347043663263321, 0.00245085172355175, 0.9968494772911072, 0.6645703911781311, 0.33376118540763855, 0.0016605034470558167, 0.9993572235107422, 0.9990997910499573, 0.002195090986788273, 0.6164547204971313, 0.38103121519088745, 0.9998157620429993, 0.9988557696342468, 0.9975253939628601, 0.9991422295570374, 0.9979334473609924, 0.9986278414726257, 0.3967090845108032, 0.5997732877731323, 0.0034251788165420294, 0.9994141459465027, 0.996985137462616, 0.9988387227058411, 0.9998942613601685, 0.9982724785804749, 0.9984450340270996, 0.9996834993362427, 0.9986574053764343, 0.997977614402771, 0.9994813799858093, 0.9996429681777954, 0.9989712834358215, 0.7811719179153442, 0.21871064603328705, 0.9991008043289185, 0.9992566704750061, 0.9997272491455078, 0.9985708594322205, 0.9991280436515808, 0.9971972107887268, 0.9999232888221741, 0.9993364810943604, 0.9999533295631409, 0.999833881855011, 0.999792754650116, 0.00016998942010104656, 0.9999083280563354, 0.9805988073348999, 0.0191647969186306, 0.9994604587554932, 0.9999825954437256, 0.9978054761886597, 0.9993802309036255, 0.999691367149353, 0.9990764260292053, 0.999674379825592, 0.9993003010749817, 0.9983070492744446, 0.9978253841400146, 0.9996684789657593, 0.9999760389328003, 0.9985936284065247, 0.9982950687408447, 0.9995211958885193, 0.9989143013954163, 0.9996562004089355, 0.9960455298423767, 0.9998854994773865, 0.9973598122596741, 0.9990143775939941, 0.9980579614639282, 0.9992037415504456, 0.9961597919464111, 0.9993177652359009, 0.9994457960128784, 0.9969543814659119, 0.9996021389961243, 0.9991741180419922, 0.9996288418769836, 0.9993783831596375, 0.998936116695404, 0.997433602809906, 0.34824174642562866, 0.6515827775001526, 0.9982004165649414, 0.9999502301216125, 0.9998151063919067, 0.9992657899856567, 0.9992873668670654, 0.9986985921859741, 0.9987434148788452, 0.9984026551246643, 0.47051334381103516, 0.5291281342506409, 0.9977360963821411, 0.9997624754905701, 0.9999716281890869, 0.9992622137069702, 0.14628945291042328, 0.8532943725585938, 0.9991855621337891, 0.999392032623291, 0.9970356822013855, 0.9979102611541748, 0.9988604784011841, 0.9993764162063599, 0.9995191693305969, 0.8439737558364868, 0.15563839673995972, 0.9988006353378296, 0.9993168115615845, 0.9981632828712463, 0.9984968900680542, 0.003257614327594638, 0.9957441091537476, 0.9994729161262512, 0.999835729598999, 0.17462949454784393, 0.8246393203735352, 0.9999194741249084, 0.9995521903038025, 0.9990212917327881, 0.9982057213783264, 0.9994620680809021, 0.9983034133911133, 0.9996092319488525, 0.9975162744522095, 0.9997242093086243, 0.9996904134750366, 0.9998111724853516, 0.9994166493415833, 0.9997122287750244, 0.9984917044639587, 0.9981440901756287, 0.9984488487243652, 0.9976624250411987, 0.999556839466095, 0.13202480971813202, 0.8276746273040771, 0.040186941623687744, 0.9994891881942749, 0.9995892643928528, 0.9999090433120728, 0.9990560412406921, 0.9991649985313416, 0.998559832572937, 0.9992726445198059, 0.9984108209609985, 0.9995912313461304, 0.9993793368339539, 0.9968214631080627, 0.9988375306129456, 0.9989755153656006, 0.039029259234666824, 0.9607202410697937, 0.9993698596954346, 0.9984521865844727, 0.9999554753303528, 0.017541883513331413, 0.9821116328239441, 0.07221191376447678, 0.9276453852653503, 0.9982578754425049, 0.9998359680175781, 0.9994001984596252, 0.9977807998657227, 0.9998528957366943, 0.9984102249145508, 0.9996938705444336, 0.9998942613601685, 0.9994616508483887, 0.9996124505996704, 0.9991241097450256, 0.9998421669006348, 0.9993715882301331, 0.9996931552886963, 0.9991778135299683, 0.9989128708839417, 0.9989446997642517, 0.9994611144065857, 0.9984558820724487, 0.9990947246551514, 0.9998844265937805, 0.9997698664665222, 0.17569132149219513, 0.823146402835846, 0.9999209642410278, 0.9992413520812988, 0.9981253743171692, 0.9986664652824402, 0.9990867972373962, 0.9998393058776855, 0.9995741248130798, 0.998890221118927, 0.9999058842658997, 0.999785304069519, 0.9995773434638977, 0.999141275882721, 0.9988875985145569, 0.8578336834907532, 0.14210376143455505, 0.9998915791511536, 0.001797937205992639, 0.0034395321272313595, 0.9945719838142395, 0.00015634237206541002, 0.9997169375419617, 0.6619759798049927, 0.3373875916004181, 0.9991750717163086, 0.9998378157615662, 0.9982268810272217, 0.9998354315757751, 0.9995909929275513, 0.9983729124069214, 0.7291664481163025, 0.27057120203971863, 0.9992426037788391, 0.9976977705955505, 0.23562277853488922, 0.7640290260314941, 0.9987533688545227, 0.9996810555458069, 0.9981867671012878, 0.9983511567115784, 0.9993718266487122, 0.9992847442626953, 0.999565064907074, 0.9998361468315125, 0.9987846612930298, 0.9994292855262756, 0.9992392659187317, 0.999117374420166, 0.9987900257110596, 0.9993985295295715, 0.9998493790626526, 0.9997633695602417, 0.9984452128410339, 0.47555187344551086, 0.5239574313163757, 0.9996859431266785, 0.999560534954071, 0.9986308813095093, 0.09565959870815277, 0.9042047262191772, 0.9998893737792969, 0.999411404132843, 0.9995546936988831, 0.9975767135620117, 0.9998602867126465, 0.9998369812965393, 0.9998499155044556, 0.9988686442375183, 0.9998186826705933, 0.9976512789726257, 0.9986181259155273, 0.9978481531143188, 0.7897550463676453, 0.2100515514612198, 0.9942770004272461, 0.9994783401489258, 0.9993046522140503, 0.9983874559402466, 0.9998326897621155, 0.9988549947738647, 0.9976661801338196, 0.9996498823165894, 0.8760240077972412, 0.12375060468912125, 0.9998394250869751, 0.9997420310974121, 0.9949690699577332, 0.004998925607651472, 0.9972211718559265, 0.4543948471546173, 0.38993051648139954, 0.15552672743797302, 0.9996666312217712, 0.9984259009361267, 0.9982771873474121, 0.9997730851173401, 0.9996286034584045, 0.999864399433136, 0.9991663694381714, 0.9995909929275513, 0.9992845058441162, 0.9991626143455505, 0.9998047351837158, 0.9996733665466309, 0.9998175501823425, 0.999872624874115, 0.999926745891571, 0.99720698595047, 0.9981569647789001, 0.9999736547470093, 0.9996721744537354, 0.9990329742431641, 0.9996749758720398, 0.999525249004364, 0.9992907047271729, 0.9726551175117493, 0.0270488653331995, 0.9980630278587341, 0.9983546733856201, 0.9991751909255981, 0.9997701048851013, 0.9973366856575012, 0.9997101426124573, 0.9990965127944946, 0.9996276497840881, 0.9995198845863342, 0.17294847965240479, 0.8138857483863831, 0.011294838972389698, 0.0017330704722553492, 0.9981786012649536, 0.9983353614807129, 0.9994672536849976, 0.999248743057251, 0.9998416900634766, 0.34059014916419983, 0.6587280035018921, 0.9991058707237244, 0.9989773631095886, 0.9991508722305298, 0.9996384978294373, 0.9989001750946045, 0.9993217587471008, 0.9976752996444702, 0.9991313815116882, 0.9997042417526245, 0.9985436797142029, 0.9999502301216125, 0.9996339082717896, 0.0938553437590599, 0.9057206511497498, 0.9992388486862183, 0.9999436140060425, 0.9973952174186707, 0.9986827373504639, 0.9999282360076904, 0.9984458088874817, 0.9970864653587341, 0.9989930987358093, 0.9998034834861755, 0.17778833210468292, 0.8215447664260864, 0.9990811347961426, 0.08195920288562775, 0.011844919994473457, 0.8538849949836731, 0.04871700704097748, 0.003629894694313407, 0.9985190629959106, 0.9994513392448425, 0.9988666772842407, 0.9998254776000977, 0.9992703795433044, 0.9972741007804871, 0.9995734691619873, 0.9999114274978638, 0.9984686374664307, 0.9997620582580566, 0.9999577403068542, 0.9993249773979187, 0.999809980392456, 0.997277021408081], \"Term\": [\"able\", \"absolutely\", \"accommodate\", \"account\", \"add\", \"address\", \"affordable\", \"afternoon\", \"ago\", \"agree\", \"airport\", \"allow\", \"allow\", \"alone\", \"also\", \"also\", \"also\", \"always\", \"amazing\", \"ambiance\", \"animal\", \"anyone\", \"anything\", \"anything\", \"anywhere\", \"apartment\", \"appetizer\", \"area\", \"area\", \"area\", \"arizona\", \"artist\", \"asian\", \"ask\", \"atmosphere\", \"attention\", \"attentive\", \"authentic\", \"average\", \"awesome\", \"awful\", \"baby\", \"back\", \"bacon\", \"bad\", \"bag\", \"bar\", \"bartender\", \"bathroom\", \"battery\", \"bbq\", \"be\", \"bean\", \"beat\", \"beautiful\", \"because\", \"bed\", \"beef\", \"beer\", \"best\", \"better\", \"better\", \"big\", \"bill\", \"birthday\", \"bit\", \"black\", \"bland\", \"blue\", \"boba\", \"bomb\", \"bonus\", \"book\", \"bother\", \"bottle\", \"bottom\", \"bowl\", \"boyfriend\", \"brand\", \"bread\", \"break\", \"breakfast\", \"brunch\", \"buffet\", \"build\", \"building\", \"burger\", \"burn\", \"burrito\", \"business\", \"butter\", \"buy\", \"cake\", \"call\", \"can\", \"car\", \"card\", \"care\", \"care\", \"cash\", \"cashier\", \"casino\", \"casual\", \"catch\", \"center\", \"certainly\", \"chair\", \"chair\", \"charge\", \"charlotte\", \"cheap\", \"cheap\", \"check\", \"check\", \"cheese\", \"chef\", \"chicken\", \"chili\", \"chill\", \"chinese\", \"chip\", \"chipotle\", \"chocolate\", \"choice\", \"choose\", \"city\", \"class\", \"classy\", \"clean\", \"close\", \"club\", \"cocktail\", \"coconut\", \"coffee\", \"cold\", \"color\", \"combination\", \"come\", \"come\", \"come\", \"comfortable\", \"compare\", \"complain\", \"complaint\", \"con\", \"concern\", \"contact\", \"continue\", \"convenience\", \"convenient\", \"cook\", \"cookie\", \"cool\", \"corn\", \"corner\", \"correct\", \"cost\", \"could\", \"couple\", \"coupon\", \"course\", \"cover\", \"cover\", \"cream\", \"credit\", \"crispy\", \"curry\", \"customer\", \"cut\", \"cut\", \"cute\", \"dad\", \"dark\", \"date\", \"day\", \"dealership\", \"decent\", \"decor\", \"deep\", \"definitely\", \"deli\", \"delicious\", \"delicious\", \"dentist\", \"department\", \"design\", \"dessert\", \"detail\", \"die\", \"difference\", \"different\", \"different\", \"different\", \"diner\", \"dining\", \"dinner\", \"dirty\", \"disappointed\", \"discount\", \"disgusting\", \"dish\", \"do\", \"doctor\", \"dog\", \"dollar\", \"donut\", \"dress\", \"drink\", \"drive\", \"drive_thru\", \"driver\", \"drop\", \"dry\", \"due\", \"easily\", \"eat\", \"eat\", \"efficient\", \"egg\", \"elsewhere\", \"employee\", \"end\", \"end\", \"enjoy\", \"enjoy\", \"enjoyable\", \"ensure\", \"entree\", \"environment\", \"especially\", \"especially\", \"even\", \"evening\", \"event\", \"everyone\", \"everyone\", \"everything\", \"everything\", \"excellent\", \"excited\", \"expensive\", \"expensive\", \"experience\", \"experience\", \"extremely\", \"fabulous\", \"fair\", \"fairly\", \"family\", \"fan\", \"fantastic\", \"far\", \"far\", \"fast\", \"fast\", \"fat\", \"favorite\", \"fee\", \"feel\", \"fill\", \"fill\", \"fill\", \"finally\", \"find\", \"first\", \"fish\", \"fit\", \"fix\", \"flavor\", \"flight\", \"flower\", \"fly\", \"food\", \"foot\", \"forget\", \"free\", \"free\", \"french\", \"fresh\", \"fresh\", \"friend\", \"friendly\", \"front_desk\", \"frozen\", \"fruit\", \"fry\", \"fun\", \"game\", \"garlic\", \"get\", \"gift\", \"girlfriend\", \"give\", \"glad\", \"glass\", \"go\", \"good\", \"grab\", \"great\", \"green\", \"grill\", \"group\", \"guest\", \"guy\", \"gym\", \"hair\", \"handle\", \"have\", \"have\", \"healthy\", \"heart\", \"heat\", \"help\", \"helpful\", \"high\", \"highlight\", \"highly_recommend\", \"hole\", \"home\", \"hop\", \"horrible\", \"hot\", \"hotel\", \"hour\", \"house\", \"huge\", \"hungry\", \"ice\", \"ice_cream\", \"improve\", \"include\", \"incredibly\", \"indoor\", \"information\", \"ingredient\", \"insurance\", \"interesting\", \"issue\", \"italian\", \"item\", \"japanese\", \"job\", \"juice\", \"keep\", \"kid\", \"king\", \"kitchen\", \"know\", \"knowledgeable\", \"korean\", \"lack\", \"lack\", \"large\", \"las_vegas\", \"later\", \"latte\", \"laugh\", \"lead\", \"leave\", \"lemon\", \"level\", \"lie\", \"life\", \"light\", \"limited\", \"list\", \"listen\", \"little\", \"live\", \"lobster\", \"local\", \"locate\", \"location\", \"lol\", \"look\", \"look\", \"lot\", \"lot\", \"lot\", \"love\", \"lunch\", \"machine\", \"main\", \"make\", \"make\", \"make\", \"make\", \"manicure\", \"many\", \"many\", \"many\", \"market\", \"massage\", \"meal\", \"meal\", \"meal\", \"meat\", \"medium\", \"meeting\", \"meh\", \"melt\", \"member\", \"menu\", \"menu\", \"menu\", \"mexican\", \"michael\", \"mile\", \"minute\", \"modern\", \"moment\", \"money\", \"mostly\", \"mother\", \"mouth\", \"move\", \"movie\", \"much\", \"much\", \"mushroom\", \"music\", \"must\", \"nachos\", \"nail\", \"natural\", \"need\", \"neighborhood\", \"never\", \"new\", \"nice\", \"nice\", \"night\", \"non\", \"non\", \"noodle\", \"not\", \"nurse\", \"office\", \"often\", \"ok\", \"old\", \"onion\", \"online\", \"opt\", \"option\", \"order\", \"organize\", \"original\", \"outside\", \"outstanding\", \"overall\", \"overpriced\", \"owner\", \"package\", \"pain\", \"paint\", \"pancake\", \"paperwork\", \"park\", \"parking\", \"particularly\", \"party\", \"past\", \"pasta\", \"patient\", \"patio\", \"patty\", \"pay\", \"pay\", \"pedicure\", \"people\", \"perfect\", \"perfectly\", \"personal\", \"pet\", \"pho\", \"photo\", \"piece\", \"piece\", \"pink\", \"pizza\", \"place\", \"plan\", \"plate\", \"plate\", \"play\", \"pleasant\", \"policy\", \"polish\", \"polite\", \"pool\", \"pork\", \"portion\", \"portion\", \"post\", \"potato\", \"pour\", \"practice\", \"prefer\", \"prefer\", \"prepare\", \"pretty\", \"previous\", \"previous\", \"price\", \"pricey\", \"pricing\", \"pro\", \"problem\", \"produce\", \"product\", \"project\", \"purchase\", \"quality\", \"quick\", \"quiet\", \"quite\", \"quote\", \"random\", \"range\", \"reach\", \"real\", \"really\", \"really\", \"really\", \"reasonable\", \"receive\", \"recommend\", \"recommendation\", \"red\", \"refund\", \"refuse\", \"regret\", \"regular\", \"relax\", \"remodel\", \"rent\", \"repair\", \"replace\", \"replace\", \"reservation\", \"response\", \"restaurant\", \"return\", \"return\", \"review\", \"review\", \"rib\", \"rice\", \"rich\", \"ridiculous\", \"right\", \"road\", \"roll\", \"room\", \"rude\", \"run\", \"rush\", \"s\", \"sad\", \"salad\", \"sale\", \"salmon\", \"salon\", \"salsa\", \"salt\", \"sample\", \"sandwich\", \"sauce\", \"save\", \"save\", \"say\", \"school\", \"screen\", \"seafood\", \"season\", \"seat\", \"seating\", \"security\", \"see\", \"selection\", \"sell\", \"send\", \"separate\", \"serve\", \"serve\", \"server\", \"service\", \"service\", \"service\", \"service\", \"several\", \"share\", \"share\", \"shoe\", \"shop\", \"shopping\", \"show\", \"shrimp\", \"sick\", \"side\", \"side\", \"simply\", \"single\", \"sit\", \"sit\", \"situation\", \"size\", \"sized\", \"skin\", \"slice\", \"slightly\", \"slow\", \"small\", \"smell\", \"smoke\", \"smoothie\", \"snack\", \"soft\", \"solid\", \"someone\", \"soup\", \"spa\", \"space\", \"space\", \"special\", \"spicy\", \"sport\", \"spot\", \"spot\", \"staff\", \"standard\", \"state\", \"station\", \"stay\", \"steak\", \"still\", \"stock\", \"store\", \"story\", \"straight\", \"strawberry\", \"strip\", \"strip\", \"student\", \"style\", \"suck\", \"summer\", \"super\", \"support\", \"surprised\", \"sushi\", \"sweet\", \"sweet\", \"table\", \"taco\", \"take\", \"take\", \"tap\", \"taste\", \"taste\", \"taste\", \"tasty\", \"tattoo\", \"tax\", \"tea\", \"team\", \"tell\", \"tender\", \"terrible\", \"texture\", \"thai\", \"thank\", \"that\", \"there\", \"thing\", \"think\", \"thursday\", \"ticket\", \"time\", \"tip\", \"tire\", \"today\", \"together\", \"ton\", \"top\", \"top\", \"top_notch\", \"tortilla\", \"touch\", \"town\", \"training\", \"treat\", \"treatment\", \"trip\", \"true\", \"try\", \"try\", \"try\", \"try\", \"tuesday\", \"typical\", \"unique\", \"update\", \"use\", \"usually\", \"usually\", \"valley\", \"value\", \"vegan\", \"vegas\", \"veggie\", \"vehicle\", \"venue\", \"vibe\", \"view\", \"waffle\", \"wait\", \"waiter\", \"waitress\", \"waitress\", \"wall\", \"want\", \"warn\", \"wash\", \"way\", \"wear\", \"website\", \"wedding\", \"week\", \"weekend\", \"weekend\", \"welcome\", \"well\", \"well\", \"well\", \"well\", \"well\", \"west\", \"white\", \"window\", \"wine\", \"wing\", \"wipe\", \"wonderful\", \"work\", \"workout\", \"worth\", \"would\", \"wrap\", \"year\", \"years_ago\"]}, \"R\": 30, \"lambda.step\": 0.01, \"plot.opts\": {\"xlab\": \"PC1\", \"ylab\": \"PC2\"}, \"topic.order\": [8, 13, 15, 14, 3, 17, 18, 12, 20, 4, 2, 7, 6, 11, 19, 10, 16, 9, 5, 1]};\n",
       "\n",
       "function LDAvis_load_lib(url, callback){\n",
       "  var s = document.createElement('script');\n",
       "  s.src = url;\n",
       "  s.async = true;\n",
       "  s.onreadystatechange = s.onload = callback;\n",
       "  s.onerror = function(){console.warn(\"failed to load library \" + url);};\n",
       "  document.getElementsByTagName(\"head\")[0].appendChild(s);\n",
       "}\n",
       "\n",
       "if(typeof(LDAvis) !== \"undefined\"){\n",
       "   // already loaded: just create the visualization\n",
       "   !function(LDAvis){\n",
       "       new LDAvis(\"#\" + \"ldavis_el184461400763422576083276406672\", ldavis_el184461400763422576083276406672_data);\n",
       "   }(LDAvis);\n",
       "}else if(typeof define === \"function\" && define.amd){\n",
       "   // require.js is available: use it to load d3/LDAvis\n",
       "   require.config({paths: {d3: \"https://cdnjs.cloudflare.com/ajax/libs/d3/3.5.5/d3.min\"}});\n",
       "   require([\"d3\"], function(d3){\n",
       "      window.d3 = d3;\n",
       "      LDAvis_load_lib(\"https://cdn.rawgit.com/bmabey/pyLDAvis/files/ldavis.v1.0.0.js\", function(){\n",
       "        new LDAvis(\"#\" + \"ldavis_el184461400763422576083276406672\", ldavis_el184461400763422576083276406672_data);\n",
       "      });\n",
       "    });\n",
       "}else{\n",
       "    // require.js not available: dynamically load d3 & LDAvis\n",
       "    LDAvis_load_lib(\"https://cdnjs.cloudflare.com/ajax/libs/d3/3.5.5/d3.min.js\", function(){\n",
       "         LDAvis_load_lib(\"https://cdn.rawgit.com/bmabey/pyLDAvis/files/ldavis.v1.0.0.js\", function(){\n",
       "                 new LDAvis(\"#\" + \"ldavis_el184461400763422576083276406672\", ldavis_el184461400763422576083276406672_data);\n",
       "            })\n",
       "         });\n",
       "}\n",
       "</script>"
      ],
      "text/plain": [
       "PreparedData(topic_coordinates=              x         y  topics  cluster       Freq\n",
       "topic                                                \n",
       "7     -0.290561  0.183307       1        1  26.560078\n",
       "12    -0.159807 -0.003809       2        1  10.229616\n",
       "14    -0.186220  0.103855       3        1   9.034567\n",
       "13    -0.179876  0.021847       4        1   7.851896\n",
       "2     -0.160941 -0.234728       5        1   7.444825\n",
       "16    -0.076445 -0.293944       6        1   4.451869\n",
       "17     0.006039  0.019147       7        1   4.176171\n",
       "11     0.039123 -0.035903       8        1   3.666987\n",
       "19     0.075875  0.023760       9        1   3.089801\n",
       "3      0.053935  0.076002      10        1   2.886741\n",
       "1      0.004507  0.128930      11        1   2.638813\n",
       "6      0.048108 -0.161066      12        1   2.609333\n",
       "5      0.088925  0.014953      13        1   2.380888\n",
       "10     0.099892  0.013629      14        1   2.123738\n",
       "18     0.103192  0.016066      15        1   2.107202\n",
       "9      0.100164  0.042226      16        1   2.037342\n",
       "15     0.111830  0.035533      17        1   1.803260\n",
       "8      0.100354  0.022593      18        1   1.787620\n",
       "4      0.098385 -0.000028      19        1   1.726321\n",
       "0      0.123519  0.027629      20        1   1.392923, topic_info=     Category          Freq         Term         Total  loglift  logprob\n",
       "79    Default  46206.000000         good  46206.000000  30.0000  30.0000\n",
       "224   Default  36597.000000        place  36597.000000  29.0000  29.0000\n",
       "20    Default  33550.000000         food  33550.000000  28.0000  28.0000\n",
       "211   Default  52923.000000          not  52923.000000  27.0000  27.0000\n",
       "127   Default  27013.000000        great  27013.000000  26.0000  26.0000\n",
       "32    Default  25584.000000      service  25584.000000  25.0000  25.0000\n",
       "28    Default  22589.000000        order  22589.000000  24.0000  24.0000\n",
       "49    Default  40855.000000          get  40855.000000  23.0000  23.0000\n",
       "78    Default  38729.000000           go  38729.000000  22.0000  22.0000\n",
       "168   Default  31298.000000           do  31298.000000  21.0000  21.0000\n",
       "63    Default  27884.000000         time  27884.000000  20.0000  20.0000\n",
       "269   Default  27682.000000        would  27682.000000  19.0000  19.0000\n",
       "41    Default  27647.000000           be  27647.000000  18.0000  18.0000\n",
       "5     Default  14427.000000         love  14427.000000  17.0000  17.0000\n",
       "745   Default   9555.000000         tell   9555.000000  16.0000  16.0000\n",
       "262   Default  16733.000000          try  16733.000000  15.0000  15.0000\n",
       "361   Default   8563.000000         feel   8563.000000  14.0000  14.0000\n",
       "107   Default   8501.000000            s   8501.000000  13.0000  13.0000\n",
       "379   Default  15875.000000       really  15875.000000  12.0000  12.0000\n",
       "14    Default  26187.000000         come  26187.000000  11.0000  11.0000\n",
       "781   Default   8438.000000         call   8438.000000  10.0000  10.0000\n",
       "689   Default   9367.000000        drink   9367.000000   9.0000   9.0000\n",
       "66    Default  14881.000000         also  14881.000000   8.0000   8.0000\n",
       "30    Default  11333.000000   restaurant  11333.000000   7.0000   7.0000\n",
       "73    Default  11378.000000          eat  11378.000000   6.0000   6.0000\n",
       "81    Default  15899.000000         have  15899.000000   5.0000   5.0000\n",
       "210   Default  11765.000000         nice  11765.000000   4.0000   4.0000\n",
       "334   Default  10529.000000        price  10529.000000   3.0000   3.0000\n",
       "479   Default   7120.000000         room   7120.000000   2.0000   2.0000\n",
       "149   Default  19196.000000         back  19196.000000   1.0000   1.0000\n",
       "...       ...           ...          ...           ...      ...      ...\n",
       "1175  Topic20   5919.633301        clean   5920.570312   4.2736  -2.1296\n",
       "1755  Topic20   1103.044556     continue   1103.981445   4.2729  -3.8098\n",
       "2630  Topic20   1075.394897        class   1076.331787   4.2729  -3.8351\n",
       "1541  Topic20    806.327942   incredibly    807.264832   4.2726  -4.1231\n",
       "1870  Topic20    702.240723          hop    703.177612   4.2724  -4.2613\n",
       "4953  Topic20    677.578186         boba    678.515076   4.2724  -4.2971\n",
       "1862  Topic20    643.246277         pour    644.183167   4.2723  -4.3491\n",
       "2125  Topic20    608.077515       credit    609.014404   4.2722  -4.4053\n",
       "2135  Topic20    608.009888          spa    608.946777   4.2722  -4.4054\n",
       "3000  Topic20    599.096863          tax    600.033752   4.2722  -4.4202\n",
       "2130  Topic20    510.981598          pro    511.918518   4.2719  -4.5792\n",
       "1191  Topic20    466.971771        paint    467.908691   4.2718  -4.6693\n",
       "1058  Topic20    453.915771       screen    454.852692   4.2717  -4.6977\n",
       "3784  Topic20    437.565155      support    438.502075   4.2716  -4.7344\n",
       "2123  Topic20    431.065094          con    432.002014   4.2716  -4.7493\n",
       "1056  Topic20    415.413483         deli    416.350403   4.2715  -4.7863\n",
       "3138  Topic20    387.609528     organize    388.546448   4.2714  -4.8556\n",
       "1872  Topic20    352.662994      produce    353.599915   4.2711  -4.9501\n",
       "3382  Topic20    328.984558     thursday    329.921478   4.2709  -5.0196\n",
       "1169  Topic20    323.952698       artist    324.889618   4.2709  -5.0350\n",
       "3966  Topic20    319.136414       indoor    320.073334   4.2708  -5.0500\n",
       "1868  Topic20    308.827515   department    309.764435   4.2707  -5.0828\n",
       "2501  Topic20    304.023865     manicure    304.960785   4.2707  -5.0985\n",
       "3307  Topic20    299.883087         wipe    300.820007   4.2706  -5.1122\n",
       "4278  Topic20    285.975037      remodel    286.911957   4.2705  -5.1597\n",
       "2048  Topic20    267.601013  convenience    268.537933   4.2703  -5.2261\n",
       "3145  Topic20    257.817932        bonus    258.754852   4.2701  -5.2633\n",
       "2350  Topic20    255.075470   overpriced    256.012390   4.2701  -5.2740\n",
       "1108  Topic20    248.490555      student    249.427475   4.2700  -5.3002\n",
       "165   Topic20    248.436295          dad    249.373215   4.2700  -5.3004\n",
       "\n",
       "[708 rows x 6 columns], token_table=      Topic      Freq         Term\n",
       "term                              \n",
       "386       2  0.999754         able\n",
       "717       3  0.999644   absolutely\n",
       "1060     18  0.999125  accommodate\n",
       "3002     16  0.998071      account\n",
       "516       4  0.999759          add\n",
       "2757     16  0.998773      address\n",
       "1370     11  0.997948   affordable\n",
       "38       13  0.998589    afternoon\n",
       "2496     15  0.998959          ago\n",
       "3758     10  0.999262        agree\n",
       "719      16  0.998742      airport\n",
       "1551      4  0.286233        allow\n",
       "1551     10  0.712882        allow\n",
       "1024     15  0.998960        alone\n",
       "66        1  0.018278         also\n",
       "66        3  0.870691         also\n",
       "66        4  0.110945         also\n",
       "0         3  0.999873       always\n",
       "67        3  0.999850      amazing\n",
       "1045      8  0.999138     ambiance\n",
       "2497     15  0.997769       animal\n",
       "39        2  0.999762       anyone\n",
       "146       2  0.987937     anything\n",
       "146       5  0.011885     anything\n",
       "2184      9  0.997912     anywhere\n",
       "3428     17  0.997989    apartment\n",
       "134       7  0.999745    appetizer\n",
       "663       2  0.015265         area\n",
       "663       4  0.674746         area\n",
       "663      11  0.309847         area\n",
       "...     ...       ...          ...\n",
       "121       1  0.999944         want\n",
       "1368     17  0.997395         warn\n",
       "3707     18  0.998683         wash\n",
       "122       1  0.999928          way\n",
       "1001     14  0.998446         wear\n",
       "2221     16  0.997086      website\n",
       "1462     11  0.998993      wedding\n",
       "317       3  0.999803         week\n",
       "514      11  0.177788      weekend\n",
       "514      13  0.821545      weekend\n",
       "1018     14  0.999081      welcome\n",
       "8         1  0.081959         well\n",
       "8         2  0.011845         well\n",
       "8         3  0.853885         well\n",
       "8         4  0.048717         well\n",
       "8         5  0.003630         well\n",
       "4312      9  0.998519         west\n",
       "1002     12  0.999451        white\n",
       "708      15  0.998867       window\n",
       "846       7  0.999825         wine\n",
       "301      13  0.999270         wing\n",
       "3307     20  0.997274         wipe\n",
       "385       7  0.999573    wonderful\n",
       "65        2  0.999911         work\n",
       "4687     11  0.998469      workout\n",
       "268       8  0.999762        worth\n",
       "269       1  0.999958        would\n",
       "515      11  0.999325         wrap\n",
       "9         2  0.999810         year\n",
       "1005     14  0.997277    years_ago\n",
       "\n",
       "[752 rows x 3 columns], R=30, lambda_step=0.01, plot_opts={'xlab': 'PC1', 'ylab': 'PC2'}, topic_order=[8, 13, 15, 14, 3, 17, 18, 12, 20, 4, 2, 7, 6, 11, 19, 10, 16, 9, 5, 1])"
      ]
     },
     "execution_count": 22,
     "metadata": {},
     "output_type": "execute_result"
    }
   ],
   "source": [
    "# Visualize the topics\n",
    "pyLDAvis.enable_notebook()\n",
    "vis = pyLDAvis.gensim.prepare(lda_model, corpus, id2word)\n",
    "vis"
   ]
  },
  {
   "cell_type": "code",
   "execution_count": null,
   "metadata": {},
   "outputs": [],
   "source": []
  }
 ],
 "metadata": {
  "kernelspec": {
   "display_name": "Python 3",
   "language": "python",
   "name": "python3"
  },
  "language_info": {
   "codemirror_mode": {
    "name": "ipython",
    "version": 3
   },
   "file_extension": ".py",
   "mimetype": "text/x-python",
   "name": "python",
   "nbconvert_exporter": "python",
   "pygments_lexer": "ipython3",
   "version": "3.7.3"
  }
 },
 "nbformat": 4,
 "nbformat_minor": 2
}
