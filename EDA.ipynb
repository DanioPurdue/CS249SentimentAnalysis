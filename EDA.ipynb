{
 "cells": [
  {
   "cell_type": "code",
   "execution_count": 3,
   "metadata": {},
   "outputs": [],
   "source": [
    "import json\n",
    "import re\n",
    "import numpy as np\n",
    "import pandas as pd\n",
    "from pprint import pprint\n",
    "from nltk.corpus import stopwords\n",
    "# Gensim\n",
    "import gensim\n",
    "import gensim.corpora as corpora\n",
    "from gensim.utils import simple_preprocess\n",
    "from gensim.models import CoherenceModel\n",
    "\n",
    "# spacy for lemmatization\n",
    "import spacy"
   ]
  },
  {
   "cell_type": "markdown",
   "metadata": {},
   "source": [
    "## Read json files and convert it to csv file"
   ]
  },
  {
   "cell_type": "code",
   "execution_count": 4,
   "metadata": {},
   "outputs": [],
   "source": [
    "csv_file = open('review_extracted.csv', 'w')\n",
    "csv_file.write('review_id,user_id,business_id,stars,text,date\\n')\n",
    "with open('yelp_dataset/review.json', 'r') as review_json:\n",
    "    line = review_json.readline()\n",
    "    while line:\n",
    "        json_object = json.loads(line)\n",
    "        one_entry = str()\n",
    "        one_entry = json_object['review_id'] + \",\" +\\\n",
    "                    json_object['user_id'] + \",\" +\\\n",
    "                    json_object['business_id'] + \",\" +\\\n",
    "                    str(json_object['stars']) + \",\" +\\\n",
    "                    '\\\"'+ json_object['text'].replace(\"\\\"\", \" \") + '\\\"' +\",\" +\\\n",
    "                    json_object['date'] + \"\\n\"\n",
    "        csv_file.write(one_entry)\n",
    "#         print(\"review_id: \", json_object[\"review_id\"], \" user_id: \", json_object[\"user_id\"], \" business_id: \", json_object[\"business_id\"], \" stars: \", json_object[\"stars\"], \" date: \", json_object[\"date\"]);\n",
    "        line = review_json.readline()\n",
    "csv_file.close()"
   ]
  },
  {
   "cell_type": "code",
   "execution_count": 5,
   "metadata": {},
   "outputs": [
    {
     "data": {
      "text/html": [
       "<div>\n",
       "<style scoped>\n",
       "    .dataframe tbody tr th:only-of-type {\n",
       "        vertical-align: middle;\n",
       "    }\n",
       "\n",
       "    .dataframe tbody tr th {\n",
       "        vertical-align: top;\n",
       "    }\n",
       "\n",
       "    .dataframe thead th {\n",
       "        text-align: right;\n",
       "    }\n",
       "</style>\n",
       "<table border=\"1\" class=\"dataframe\">\n",
       "  <thead>\n",
       "    <tr style=\"text-align: right;\">\n",
       "      <th></th>\n",
       "      <th>review_id</th>\n",
       "      <th>user_id</th>\n",
       "      <th>business_id</th>\n",
       "      <th>stars</th>\n",
       "      <th>text</th>\n",
       "      <th>date</th>\n",
       "    </tr>\n",
       "  </thead>\n",
       "  <tbody>\n",
       "    <tr>\n",
       "      <th>0</th>\n",
       "      <td>Q1sbwvVQXV2734tPgoKj4Q</td>\n",
       "      <td>hG7b0MtEbXx5QzbzE6C_VA</td>\n",
       "      <td>ujmEBvifdJM6h6RLv4wQIg</td>\n",
       "      <td>1.0</td>\n",
       "      <td>Total bill for this horrible service? Over $8G...</td>\n",
       "      <td>2013-05-07 04:34:36</td>\n",
       "    </tr>\n",
       "    <tr>\n",
       "      <th>1</th>\n",
       "      <td>GJXCdrto3ASJOqKeVWPi6Q</td>\n",
       "      <td>yXQM5uF2jS6es16SJzNHfg</td>\n",
       "      <td>NZnhc2sEQy3RmzKTZnqtwQ</td>\n",
       "      <td>5.0</td>\n",
       "      <td>I *adore* Travis at the Hard Rock's new Kelly ...</td>\n",
       "      <td>2017-01-14 21:30:33</td>\n",
       "    </tr>\n",
       "    <tr>\n",
       "      <th>2</th>\n",
       "      <td>2TzJjDVDEuAW6MR5Vuc1ug</td>\n",
       "      <td>n6-Gk65cPZL6Uz8qRm3NYw</td>\n",
       "      <td>WTqjgwHlXbSFevF32_DJVw</td>\n",
       "      <td>5.0</td>\n",
       "      <td>I have to say that this office really has it t...</td>\n",
       "      <td>2016-11-09 20:09:03</td>\n",
       "    </tr>\n",
       "    <tr>\n",
       "      <th>3</th>\n",
       "      <td>yi0R0Ugj_xUx_Nek0-_Qig</td>\n",
       "      <td>dacAIZ6fTM6mqwW5uxkskg</td>\n",
       "      <td>ikCg8xy5JIg_NGPx-MSIDA</td>\n",
       "      <td>5.0</td>\n",
       "      <td>Went in for a lunch. Steak sandwich was delici...</td>\n",
       "      <td>2018-01-09 20:56:38</td>\n",
       "    </tr>\n",
       "    <tr>\n",
       "      <th>4</th>\n",
       "      <td>11a8sVPMUFtaC7_ABRkmtw</td>\n",
       "      <td>ssoyf2_x0EQMed6fgHeMyQ</td>\n",
       "      <td>b1b1eb3uo-w561D0ZfCEiQ</td>\n",
       "      <td>1.0</td>\n",
       "      <td>Today was my second out of three sessions I ha...</td>\n",
       "      <td>2018-01-30 23:07:38</td>\n",
       "    </tr>\n",
       "  </tbody>\n",
       "</table>\n",
       "</div>"
      ],
      "text/plain": [
       "                review_id                 user_id             business_id  \\\n",
       "0  Q1sbwvVQXV2734tPgoKj4Q  hG7b0MtEbXx5QzbzE6C_VA  ujmEBvifdJM6h6RLv4wQIg   \n",
       "1  GJXCdrto3ASJOqKeVWPi6Q  yXQM5uF2jS6es16SJzNHfg  NZnhc2sEQy3RmzKTZnqtwQ   \n",
       "2  2TzJjDVDEuAW6MR5Vuc1ug  n6-Gk65cPZL6Uz8qRm3NYw  WTqjgwHlXbSFevF32_DJVw   \n",
       "3  yi0R0Ugj_xUx_Nek0-_Qig  dacAIZ6fTM6mqwW5uxkskg  ikCg8xy5JIg_NGPx-MSIDA   \n",
       "4  11a8sVPMUFtaC7_ABRkmtw  ssoyf2_x0EQMed6fgHeMyQ  b1b1eb3uo-w561D0ZfCEiQ   \n",
       "\n",
       "   stars                                               text  \\\n",
       "0    1.0  Total bill for this horrible service? Over $8G...   \n",
       "1    5.0  I *adore* Travis at the Hard Rock's new Kelly ...   \n",
       "2    5.0  I have to say that this office really has it t...   \n",
       "3    5.0  Went in for a lunch. Steak sandwich was delici...   \n",
       "4    1.0  Today was my second out of three sessions I ha...   \n",
       "\n",
       "                  date  \n",
       "0  2013-05-07 04:34:36  \n",
       "1  2017-01-14 21:30:33  \n",
       "2  2016-11-09 20:09:03  \n",
       "3  2018-01-09 20:56:38  \n",
       "4  2018-01-30 23:07:38  "
      ]
     },
     "execution_count": 5,
     "metadata": {},
     "output_type": "execute_result"
    }
   ],
   "source": [
    "df = pd.read_csv('review_extracted.csv')\n",
    "df.head()"
   ]
  },
  {
   "cell_type": "code",
   "execution_count": 8,
   "metadata": {},
   "outputs": [
    {
     "name": "stdout",
     "output_type": "stream",
     "text": [
      "6685900\n",
      "66859\n"
     ]
    }
   ],
   "source": [
    "print(len(df))\n",
    "df_sampled = df.sample(frac=0.01,random_state=1)\n",
    "print(len(df_sampled))"
   ]
  },
  {
   "cell_type": "markdown",
   "metadata": {
    "collapsed": true
   },
   "source": [
    "# Remove Stopwords"
   ]
  },
  {
   "cell_type": "code",
   "execution_count": 9,
   "metadata": {},
   "outputs": [
    {
     "name": "stderr",
     "output_type": "stream",
     "text": [
      "[nltk_data] Downloading package stopwords to /home/ubuntu/nltk_data...\n",
      "[nltk_data]   Package stopwords is already up-to-date!\n"
     ]
    },
    {
     "data": {
      "text/plain": [
       "True"
      ]
     },
     "execution_count": 9,
     "metadata": {},
     "output_type": "execute_result"
    }
   ],
   "source": [
    "import nltk\n",
    "nltk.download('stopwords')"
   ]
  },
  {
   "cell_type": "code",
   "execution_count": 11,
   "metadata": {},
   "outputs": [],
   "source": [
    "from nltk.corpus import stopwords\n",
    "stop_words = stopwords.words('english')\n",
    "stop_words.extend(['from', 'subject', 'use'])"
   ]
  },
  {
   "cell_type": "code",
   "execution_count": 13,
   "metadata": {},
   "outputs": [],
   "source": [
    "df_text_list = df_sampled['text'].tolist()"
   ]
  },
  {
   "cell_type": "markdown",
   "metadata": {},
   "source": [
    "## Remove keywords from the list"
   ]
  },
  {
   "cell_type": "code",
   "execution_count": 14,
   "metadata": {},
   "outputs": [],
   "source": [
    "# Remove new line characters\n",
    "data = [re.sub('\\s+', ' ', str(sent)) for sent in df_text_list]\n",
    "# Remove distracting single quotes\n",
    "# data = [re.sub(\"\\'\", \"\", sent) for sent in data]"
   ]
  },
  {
   "cell_type": "code",
   "execution_count": 15,
   "metadata": {},
   "outputs": [],
   "source": [
    "data = [re.sub(\"\\'\", \"\", sent) for sent in data]"
   ]
  },
  {
   "cell_type": "code",
   "execution_count": 16,
   "metadata": {},
   "outputs": [],
   "source": [
    "def sent_to_words(sentences):\n",
    "    for sentence in sentences:\n",
    "        yield(gensim.utils.simple_preprocess(str(sentence), deacc=True))  # deacc"
   ]
  },
  {
   "cell_type": "code",
   "execution_count": 17,
   "metadata": {},
   "outputs": [],
   "source": [
    "# Tokenize words and clean up text\n",
    "data_words = list(sent_to_words(data))"
   ]
  },
  {
   "cell_type": "markdown",
   "metadata": {
    "collapsed": true
   },
   "source": [
    "## 9 Creating Bigram and Trigram Models"
   ]
  },
  {
   "cell_type": "code",
   "execution_count": 18,
   "metadata": {},
   "outputs": [
    {
     "name": "stderr",
     "output_type": "stream",
     "text": [
      "/home/ubuntu/anaconda3/lib/python3.7/site-packages/gensim/models/phrases.py:494: UserWarning: For a faster implementation, use the gensim.models.phrases.Phraser class\n",
      "  warnings.warn(\"For a faster implementation, use the gensim.models.phrases.Phraser class\")\n"
     ]
    },
    {
     "name": "stdout",
     "output_type": "stream",
     "text": [
      "['love', 'this', 'location', 'and', 'have', 'been', 'customer', 'for', 'well', 'over', 'year', 'have', 'always', 'had', 'pleasant', 'experience', 'and', 'the', 'staff', 'are', 'always', 'very', 'friendly']\n"
     ]
    }
   ],
   "source": [
    "# Build the bigram and trigram models\n",
    "bigram = gensim.models.Phrases(data_words, min_count=5, threshold=100) # higher threshold fewer phrases.\n",
    "trigram = gensim.models.Phrases(bigram[data_words], threshold=100)  \n",
    "\n",
    "# Faster way to get a sentence clubbed as a trigram/bigram\n",
    "bigram_mod = gensim.models.phrases.Phraser(bigram)\n",
    "trigram_mod = gensim.models.phrases.Phraser(trigram)\n",
    "\n",
    "# See trigram example\n",
    "print(trigram_mod[bigram_mod[data_words[0]]])"
   ]
  },
  {
   "cell_type": "code",
   "execution_count": 21,
   "metadata": {},
   "outputs": [
    {
     "data": {
      "text/plain": [
       "<gensim.models.phrases.Phraser at 0x7f30a80bb278>"
      ]
     },
     "execution_count": 21,
     "metadata": {},
     "output_type": "execute_result"
    }
   ],
   "source": [
    "trigram_mod"
   ]
  },
  {
   "cell_type": "markdown",
   "metadata": {},
   "source": [
    "## 10 Remove Stopwords, Make Bigrams and Lemmatize"
   ]
  },
  {
   "cell_type": "code",
   "execution_count": 22,
   "metadata": {},
   "outputs": [],
   "source": [
    "# Define functions for stopwords, bigrams, trigrams and lemmatization\n",
    "def remove_stopwords(texts):\n",
    "    return [[word for word in simple_preprocess(str(doc)) if word not in stop_words] for doc in texts]\n",
    "\n",
    "def make_bigrams(texts):\n",
    "    return [bigram_mod[doc] for doc in texts]\n",
    "\n",
    "def make_trigrams(texts):\n",
    "    return [trigram_mod[bigram_mod[doc]] for doc in texts]\n",
    "\n",
    "def lemmatization(texts, allowed_postags=['NOUN', 'ADJ', 'VERB', 'ADV']):\n",
    "    \"\"\"https://spacy.io/api/annotation\"\"\"\n",
    "    texts_out = []\n",
    "    for sent in texts:\n",
    "        doc = nlp(\" \".join(sent)) \n",
    "        texts_out.append([token.lemma_ for token in doc if token.pos_ in allowed_postags])\n",
    "    return texts_out"
   ]
  },
  {
   "cell_type": "code",
   "execution_count": 28,
   "metadata": {},
   "outputs": [
    {
     "name": "stdout",
     "output_type": "stream",
     "text": [
      "Collecting en_core_web_sm==2.0.0 from https://github.com/explosion/spacy-models/releases/download/en_core_web_sm-2.0.0/en_core_web_sm-2.0.0.tar.gz#egg=en_core_web_sm==2.0.0\n",
      "\u001b[?25l  Downloading https://github.com/explosion/spacy-models/releases/download/en_core_web_sm-2.0.0/en_core_web_sm-2.0.0.tar.gz (37.4MB)\n",
      "\u001b[K    100% |████████████████████████████████| 37.4MB 5.1MB/s ta 0:00:011\n",
      "\u001b[?25hInstalling collected packages: en-core-web-sm\n",
      "  Running setup.py install for en-core-web-sm ... \u001b[?25ldone\n",
      "\u001b[?25hSuccessfully installed en-core-web-sm-2.0.0\n",
      "\n",
      "\u001b[93m    Linking successful\u001b[0m\n",
      "    /home/ubuntu/anaconda3/lib/python3.7/site-packages/en_core_web_sm -->\n",
      "    /home/ubuntu/anaconda3/lib/python3.7/site-packages/spacy/data/en\n",
      "\n",
      "    You can now load the model via spacy.load('en')\n",
      "\n"
     ]
    }
   ],
   "source": [
    "! python -m spacy download en"
   ]
  },
  {
   "cell_type": "code",
   "execution_count": 29,
   "metadata": {},
   "outputs": [],
   "source": [
    "# Remove Stop Words\n",
    "data_words_nostops = remove_stopwords(data_words)\n",
    "\n",
    "# Form Bigrams\n",
    "data_words_bigrams = make_bigrams(data_words_nostops)\n",
    "\n",
    "# Initialize spacy 'en' model, keeping only tagger component (for efficiency)\n",
    "# python3 -m spacy download en\n",
    "nlp = spacy.load('en', disable=['parser', 'ner'])\n",
    "\n",
    "# Do lemmatization keeping only noun, adj, vb, adv\n",
    "data_lemmatized = lemmatization(data_words_bigrams, allowed_postags=['NOUN', 'ADJ', 'VERB', 'ADV'])"
   ]
  },
  {
   "cell_type": "markdown",
   "metadata": {},
   "source": [
    "## 11 Create the Dictionary and Corpus needed Topic Modeling"
   ]
  },
  {
   "cell_type": "code",
   "execution_count": 30,
   "metadata": {},
   "outputs": [],
   "source": [
    "# Create Dictionary\n",
    "id2word = corpora.Dictionary(data_lemmatized)\n",
    "\n",
    "# Create Corpus\n",
    "texts = data_lemmatized\n",
    "\n",
    "# Term Document Frequency\n",
    "corpus = [id2word.doc2bow(text) for text in texts]"
   ]
  },
  {
   "cell_type": "code",
   "execution_count": 31,
   "metadata": {},
   "outputs": [
    {
     "name": "stdout",
     "output_type": "stream",
     "text": [
      "[(0, 2), (1, 1), (2, 1), (3, 1), (4, 1), (5, 1), (6, 1), (7, 1), (8, 1), (9, 1)]\n"
     ]
    }
   ],
   "source": [
    "print(corpus[0])"
   ]
  },
  {
   "cell_type": "code",
   "execution_count": 32,
   "metadata": {},
   "outputs": [
    {
     "data": {
      "text/plain": [
       "'always'"
      ]
     },
     "execution_count": 32,
     "metadata": {},
     "output_type": "execute_result"
    }
   ],
   "source": [
    "id2word[0]"
   ]
  },
  {
   "cell_type": "markdown",
   "metadata": {},
   "source": [
    "## 12. Building the Topic Model"
   ]
  },
  {
   "cell_type": "code",
   "execution_count": 33,
   "metadata": {},
   "outputs": [],
   "source": [
    "lda_model = gensim.models.ldamodel.LdaModel(corpus=corpus,\n",
    "                                           id2word=id2word,\n",
    "                                           num_topics=20, \n",
    "                                           random_state=100,\n",
    "                                           update_every=1,\n",
    "                                           chunksize=100,\n",
    "                                           passes=10,\n",
    "                                           alpha='auto',\n",
    "                                           per_word_topics=True)"
   ]
  },
  {
   "cell_type": "markdown",
   "metadata": {},
   "source": [
    "## 13. View the topics in LDA model"
   ]
  },
  {
   "cell_type": "code",
   "execution_count": 34,
   "metadata": {},
   "outputs": [
    {
     "name": "stdout",
     "output_type": "stream",
     "text": [
      "[(0,\n",
      "  '0.119*\"clean\" + 0.022*\"continue\" + 0.022*\"class\" + 0.016*\"incredibly\" + '\n",
      "  '0.014*\"hop\" + 0.014*\"boba\" + 0.013*\"pour\" + 0.012*\"credit\" + 0.012*\"spa\" + '\n",
      "  '0.012*\"tax\"'),\n",
      " (1,\n",
      "  '0.075*\"room\" + 0.035*\"hotel\" + 0.029*\"kid\" + 0.026*\"parking\" + 0.020*\"area\" '\n",
      "  '+ 0.016*\"pool\" + 0.014*\"plan\" + 0.014*\"brunch\" + 0.013*\"park\" + '\n",
      "  '0.013*\"bathroom\"'),\n",
      " (2,\n",
      "  '0.174*\"good\" + 0.126*\"food\" + 0.043*\"restaurant\" + 0.043*\"eat\" + '\n",
      "  '0.040*\"price\" + 0.030*\"pretty\" + 0.022*\"burger\" + 0.022*\"fresh\" + '\n",
      "  '0.020*\"everything\" + 0.018*\"menu\"'),\n",
      " (3,\n",
      "  '0.093*\"tell\" + 0.082*\"call\" + 0.036*\"pay\" + 0.030*\"charge\" + 0.030*\"money\" '\n",
      "  '+ 0.025*\"later\" + 0.023*\"receive\" + 0.021*\"issue\" + 0.019*\"rude\" + '\n",
      "  '0.018*\"fix\"'),\n",
      " (4,\n",
      "  '0.088*\"car\" + 0.072*\"favorite\" + 0.047*\"taco\" + 0.031*\"pork\" + '\n",
      "  '0.025*\"mexican\" + 0.021*\"burrito\" + 0.019*\"authentic\" + 0.018*\"unique\" + '\n",
      "  '0.018*\"salsa\" + 0.018*\"bean\"'),\n",
      " (5,\n",
      "  '0.100*\"s\" + 0.052*\"beer\" + 0.043*\"selection\" + 0.032*\"cool\" + 0.031*\"that\" '\n",
      "  '+ 0.030*\"there\" + 0.025*\"local\" + 0.021*\"wing\" + 0.020*\"game\" + '\n",
      "  '0.019*\"wall\"'),\n",
      " (6,\n",
      "  '0.052*\"flavor\" + 0.034*\"dessert\" + 0.034*\"steak\" + 0.027*\"extremely\" + '\n",
      "  '0.024*\"shrimp\" + 0.024*\"include\" + 0.023*\"tea\" + 0.020*\"ice_cream\" + '\n",
      "  '0.020*\"dry\" + 0.017*\"white\"'),\n",
      " (7,\n",
      "  '0.056*\"not\" + 0.043*\"get\" + 0.041*\"go\" + 0.033*\"do\" + 0.029*\"time\" + '\n",
      "  '0.029*\"would\" + 0.029*\"be\" + 0.027*\"come\" + 0.020*\"back\" + 0.018*\"say\"'),\n",
      " (8,\n",
      "  '0.044*\"hair\" + 0.037*\"dog\" + 0.032*\"cut\" + 0.028*\"purchase\" + '\n",
      "  '0.021*\"product\" + 0.021*\"color\" + 0.021*\"salon\" + 0.018*\"casino\" + '\n",
      "  '0.017*\"doctor\" + 0.016*\"sale\"'),\n",
      " (9,\n",
      "  '0.070*\"store\" + 0.046*\"buy\" + 0.021*\"send\" + 0.021*\"sell\" + 0.018*\"book\" + '\n",
      "  '0.013*\"repair\" + 0.013*\"tire\" + 0.012*\"airport\" + 0.012*\"vehicle\" + '\n",
      "  '0.011*\"online\"'),\n",
      " (10,\n",
      "  '0.113*\"feel\" + 0.033*\"party\" + 0.029*\"several\" + 0.025*\"regular\" + '\n",
      "  '0.024*\"reservation\" + 0.024*\"comfortable\" + 0.023*\"play\" + 0.022*\"waiter\" + '\n",
      "  '0.020*\"often\" + 0.020*\"rush\"'),\n",
      " (11,\n",
      "  '0.041*\"big\" + 0.035*\"end\" + 0.035*\"quality\" + 0.033*\"worth\" + 0.031*\"item\" '\n",
      "  '+ 0.025*\"high\" + 0.023*\"beef\" + 0.022*\"huge\" + 0.020*\"size\" + 0.018*\"fan\"'),\n",
      " (12,\n",
      "  '0.028*\"day\" + 0.027*\"experience\" + 0.026*\"find\" + 0.026*\"work\" + '\n",
      "  '0.024*\"need\" + 0.021*\"new\" + 0.020*\"customer\" + 0.018*\"year\" + '\n",
      "  '0.016*\"review\" + 0.015*\"home\"'),\n",
      " (13,\n",
      "  '0.080*\"order\" + 0.034*\"little\" + 0.021*\"pizza\" + 0.021*\"small\" + '\n",
      "  '0.020*\"bit\" + 0.017*\"lunch\" + 0.016*\"hot\" + 0.016*\"seat\" + 0.015*\"serve\" + '\n",
      "  '0.015*\"option\"'),\n",
      " (14,\n",
      "  '0.113*\"place\" + 0.084*\"great\" + 0.079*\"service\" + 0.045*\"love\" + '\n",
      "  '0.042*\"try\" + 0.041*\"really\" + 0.040*\"also\" + 0.036*\"nice\" + '\n",
      "  '0.032*\"friendly\" + 0.032*\"staff\"'),\n",
      " (15,\n",
      "  '0.049*\"move\" + 0.032*\"life\" + 0.026*\"office\" + 0.021*\"due\" + 0.019*\"team\" + '\n",
      "  '0.019*\"drop\" + 0.018*\"level\" + 0.017*\"dollar\" + 0.017*\"complain\" + '\n",
      "  '0.017*\"massage\"'),\n",
      " (16,\n",
      "  '0.048*\"chicken\" + 0.037*\"sauce\" + 0.037*\"fry\" + 0.030*\"cheese\" + '\n",
      "  '0.030*\"dish\" + 0.028*\"salad\" + 0.027*\"sandwich\" + 0.023*\"meat\" + '\n",
      "  '0.019*\"cook\" + 0.019*\"taste\"'),\n",
      " (17,\n",
      "  '0.063*\"drink\" + 0.052*\"bar\" + 0.050*\"table\" + 0.048*\"night\" + '\n",
      "  '0.046*\"friend\" + 0.036*\"server\" + 0.033*\"dinner\" + 0.031*\"enjoy\" + '\n",
      "  '0.027*\"sit\" + 0.023*\"atmosphere\"'),\n",
      " (18,\n",
      "  '0.052*\"owner\" + 0.048*\"house\" + 0.046*\"shop\" + 0.040*\"run\" + 0.031*\"treat\" '\n",
      "  '+ 0.024*\"bill\" + 0.021*\"outside\" + 0.019*\"city\" + 0.016*\"kitchen\" + '\n",
      "  '0.016*\"window\"'),\n",
      " (19,\n",
      "  '0.061*\"location\" + 0.036*\"vegas\" + 0.025*\"sushi\" + 0.017*\"buffet\" + '\n",
      "  '0.017*\"trip\" + 0.015*\"strip\" + 0.013*\"club\" + 0.012*\"simply\" + '\n",
      "  '0.011*\"knowledgeable\" + 0.008*\"dirty\"')]\n"
     ]
    },
    {
     "data": {
      "text/plain": [
       "<gensim.interfaces.TransformedCorpus at 0x7f2f712293c8>"
      ]
     },
     "execution_count": 34,
     "metadata": {},
     "output_type": "execute_result"
    }
   ],
   "source": [
    "pprint(lda_model.print_topics())\n",
    "doc_lda = lda_model[corpus]\n",
    "doc_lda"
   ]
  },
  {
   "cell_type": "code",
   "execution_count": null,
   "metadata": {},
   "outputs": [],
   "source": []
  }
 ],
 "metadata": {
  "kernelspec": {
   "display_name": "Python 3",
   "language": "python",
   "name": "python3"
  },
  "language_info": {
   "codemirror_mode": {
    "name": "ipython",
    "version": 3
   },
   "file_extension": ".py",
   "mimetype": "text/x-python",
   "name": "python",
   "nbconvert_exporter": "python",
   "pygments_lexer": "ipython3",
   "version": "3.7.3"
  }
 },
 "nbformat": 4,
 "nbformat_minor": 2
}
